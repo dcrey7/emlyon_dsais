{
 "cells": [
  {
   "cell_type": "markdown",
   "id": "5c021d2a",
   "metadata": {},
   "source": [
    "<div>\n",
    "    <span>\n",
    "        <h1 style=\"padding-bottom:5px;\"> AI Booster Week 01 - Python for Data Science </h1>\n",
    "        <a href=\"https://masters.em-lyon.com/fr/msc-in-data-science-artificial-intelligence-strategy\">[Emlyon]</a> MSc in Data Science & Artificial Intelligence Strategy (DSAIS) <br/>\n",
    "         Paris | Vincent SCHOOTS\n",
    "    </span>\n",
    "</div>"
   ]
  },
  {
   "cell_type": "code",
   "execution_count": null,
   "id": "18422a59",
   "metadata": {},
   "outputs": [],
   "source": []
  },
  {
   "cell_type": "markdown",
   "id": "59b91810",
   "metadata": {},
   "source": [
    "### Exercise 1: Convert two lists into a dictionary\n",
    "\n",
    "Below are the two lists. Write a Python program to convert them into a dictionary in a way that item from list1 is the key and item from list2 is the value\n",
    "\n",
    "Use the zip() function. This function takes two or more iterables (like list, dict, string), aggregates them in a tuple, and returns it.\n",
    "\n",
    "Expected Output:\n",
    "`{'Ten': 10, 'Twenty': 20, 'Thirty': 30}`"
   ]
  },
  {
   "cell_type": "code",
   "execution_count": 4,
   "id": "532d1197",
   "metadata": {},
   "outputs": [],
   "source": [
    "keys = ['Ten', 'Twenty', 'Thirty']\n",
    "values = [10, 20, 30]"
   ]
  },
  {
   "cell_type": "code",
   "execution_count": 2,
   "id": "0547569e",
   "metadata": {},
   "outputs": [
    {
     "name": "stdout",
     "output_type": "stream",
     "text": [
      "{'Ten': 10, 'Twenty': 20, 'Thirty': 30}\n"
     ]
    }
   ],
   "source": [
    "# your_code_here\n",
    "res_dict = dict(zip(keys, values))\n",
    "print(res_dict)"
   ]
  },
  {
   "cell_type": "code",
   "execution_count": 3,
   "id": "d6863e13",
   "metadata": {},
   "outputs": [
    {
     "ename": "TypeError",
     "evalue": "'type' object is not subscriptable",
     "output_type": "error",
     "traceback": [
      "\u001b[1;31m---------------------------------------------------------------------------\u001b[0m",
      "\u001b[1;31mTypeError\u001b[0m                                 Traceback (most recent call last)",
      "\u001b[1;32m~\\AppData\\Local\\Temp/ipykernel_14400/3691991838.py\u001b[0m in \u001b[0;36m<module>\u001b[1;34m\u001b[0m\n\u001b[1;32m----> 1\u001b[1;33m \u001b[0mdict\u001b[0m\u001b[1;33m[\u001b[0m\u001b[1;36m6\u001b[0m\u001b[1;33m]\u001b[0m\u001b[1;33m\u001b[0m\u001b[1;33m\u001b[0m\u001b[0m\n\u001b[0m",
      "\u001b[1;31mTypeError\u001b[0m: 'type' object is not subscriptable"
     ]
    }
   ],
   "source": [
    "\n",
    "dict[6]"
   ]
  },
  {
   "cell_type": "markdown",
   "id": "afa48c3a",
   "metadata": {},
   "source": [
    "### Exercise 2:\n",
    "__Calculate sum of all numbers from 1 to a given number__\n",
    "\n",
    "Write a Python program to accept a number from a user and calculate the sum of all numbers from 1 to a given number\n",
    "\n",
    "For example, if the user entered 10, the output should be 55 (1+2+3+4+5+6+7+8+9+10)\n",
    "\n",
    "Expected Output:\n",
    "\n",
    "`Enter number 10\n",
    "Sum is:  55`"
   ]
  },
  {
   "cell_type": "code",
   "execution_count": 3,
   "id": "7ffcb5d1",
   "metadata": {},
   "outputs": [
    {
     "name": "stdout",
     "output_type": "stream",
     "text": [
      "Enter number 13\n",
      "Sum is: 91\n"
     ]
    }
   ],
   "source": [
    "# Get input\n",
    "n = int(input(\"Enter number \"))\n",
    "\n",
    "# Pass range of numbers to sum() function\n",
    "x = sum(range(1, n + 1))\n",
    "print('Sum is:', x)"
   ]
  },
  {
   "cell_type": "markdown",
   "id": "2f1d6374",
   "metadata": {},
   "source": [
    "### Exercise 3: \n",
    "__Write a function called mul_table that takes as input a number and prints the multiplication table of that number__\n",
    "\n",
    "Then run it.\n",
    "\n",
    "See if you can use the .format() method\n",
    "\n",
    "Expected output when input = 9:\n",
    "\n",
    "`9 * 1 = 9\n",
    "9 * 2 = 18\n",
    "9 * 3 = 27\n",
    "9 * 4 = 36\n",
    "9 * 5 = 45\n",
    "9 * 6 = 54\n",
    "9 * 7 = 63\n",
    "9 * 8 = 72\n",
    "9 * 9 = 81\n",
    "9 * 10 = 90`"
   ]
  },
  {
   "cell_type": "code",
   "execution_count": 4,
   "id": "da6c9854",
   "metadata": {},
   "outputs": [
    {
     "name": "stdout",
     "output_type": "stream",
     "text": [
      "9 * 1 = 9\n",
      "9 * 2 = 18\n",
      "9 * 3 = 27\n",
      "9 * 4 = 36\n",
      "9 * 5 = 45\n",
      "9 * 6 = 54\n",
      "9 * 7 = 63\n",
      "9 * 8 = 72\n",
      "9 * 9 = 81\n",
      "9 * 10 = 90\n"
     ]
    }
   ],
   "source": [
    "def mul_table(n):\n",
    "    for i in range(1, 11):\n",
    "        print(\"{multiplier} * {multiplicand} = {multiplicantion}\".format(\n",
    "            multiplier=n, multiplicand=i, multiplicantion=n * i))\n",
    "\n",
    "mul_table(9)"
   ]
  },
  {
   "cell_type": "markdown",
   "id": "dfb64a26",
   "metadata": {},
   "source": [
    "### Exercise 4: \n",
    "__Arrange string characters such that uppercase letters should come first__\n",
    "\n",
    "Decode the secret!\n",
    "The given string contains a combination of the lower and upper case letters. Write a program to arrange the characters of a string so that all lowercase letters should come first.\n",
    "\n",
    "Hint: a straightforward solution uses a for loop, an if/else, and several string methods (methods are the thing you call by appending a dot to the name of the python object, for example:\n",
    "\n",
    "`last_name = \"Dupont\"\n",
    "last_name.upper()`\n",
    "returns\n",
    "`DUPONT`"
   ]
  },
  {
   "cell_type": "code",
   "execution_count": 5,
   "id": "50f3e4ea",
   "metadata": {},
   "outputs": [
    {
     "data": {
      "text/plain": [
       "'DUPONT'"
      ]
     },
     "execution_count": 5,
     "metadata": {},
     "output_type": "execute_result"
    }
   ],
   "source": [
    "last_name = \"Dupont\"\n",
    "last_name.upper()"
   ]
  },
  {
   "cell_type": "code",
   "execution_count": 6,
   "id": "d28bff19",
   "metadata": {},
   "outputs": [],
   "source": [
    "secret = \"yILtOhVonEP\""
   ]
  },
  {
   "cell_type": "code",
   "execution_count": 7,
   "id": "b73e06e9",
   "metadata": {},
   "outputs": [
    {
     "name": "stdout",
     "output_type": "stream",
     "text": [
      "Scrambled String: yILtOhVonEP\n",
      "Result: ILOVEPython\n"
     ]
    }
   ],
   "source": [
    "# your_code_here\n",
    "\n",
    "print('Scrambled String:', secret)\n",
    "lower = []\n",
    "upper = []\n",
    "for char in secret:\n",
    "    if char.isupper():\n",
    "        # add lowercase characters to lower list\n",
    "        upper.append(char)\n",
    "    else:\n",
    "        # add uppercase characters to lower list\n",
    "        lower.append(char)\n",
    "\n",
    "# Join both list\n",
    "sorted_str = ''.join(upper + lower)\n",
    "print('Result:', sorted_str)"
   ]
  },
  {
   "cell_type": "markdown",
   "id": "6df72077",
   "metadata": {},
   "source": [
    "### Import Numpy as np"
   ]
  },
  {
   "cell_type": "code",
   "execution_count": 8,
   "id": "167b616e",
   "metadata": {},
   "outputs": [],
   "source": [
    "import numpy as np"
   ]
  },
  {
   "cell_type": "markdown",
   "id": "590be822",
   "metadata": {},
   "source": [
    "### Exercise 5:\n",
    "Following is a provided numPy array. Return array of items by taking the second column from all rows. Print it.\n",
    "\n",
    "Expected output:\n",
    "\n",
    "`Printing array of items in the third column from all rows:\n",
    "[22 55 88]`"
   ]
  },
  {
   "cell_type": "code",
   "execution_count": 9,
   "id": "ade3513e",
   "metadata": {},
   "outputs": [
    {
     "name": "stdout",
     "output_type": "stream",
     "text": [
      "Input Array:\n",
      "[[11 22 33]\n",
      " [44 55 66]\n",
      " [77 88 99]]\n",
      "\n",
      "Printing array of items in the third column from all rows:\n",
      "[22 55 88]\n"
     ]
    }
   ],
   "source": [
    "sampleArray = np.array([[11 ,22, 33], [44, 55, 66], [77, 88, 99]]) \n",
    "print(\"Input Array:\")\n",
    "print(sampleArray)\n",
    "\n",
    "print(\"\\nPrinting array of items in the third column from all rows:\")\n",
    "newArray = sampleArray[:,1]\n",
    "print(newArray)\n"
   ]
  },
  {
   "cell_type": "markdown",
   "id": "a8c6dc9d",
   "metadata": {},
   "source": [
    "### Exercise 6a:\n",
    "__Create a 4X2 integer array and Print its attributes__\n",
    "\n",
    "You can decide which integers, below is just an example.\n",
    "Print the following Attributes:\n",
    "\n",
    "    The shape of an array.\n",
    "    Array dimensions.\n",
    "    The Length of each element of the array in bytes.\n",
    "\n",
    "#### Expected Output:\n",
    "```\n",
    "Printing Array\n",
    "\n",
    "[[64392 31655]\n",
    " [32579     0]\n",
    " [49248   462]\n",
    " [    0     0]]\n",
    "\n",
    "Printing NumPy array Attributes\n",
    "\n",
    "Array shape is  (4, 2)\n",
    "Array dimensions are  2\n",
    "Array sum is  178336\n",
    "```\n",
    "\n",
    "Tip: you can tell the print command to include an \"enter\" into the output by including \\n\n",
    "\n",
    "See if you can make use of the f-string functionality from day 1\n",
    "\n",
    "*Remember to comment your code!*"
   ]
  },
  {
   "cell_type": "code",
   "execution_count": 10,
   "id": "7d55595f",
   "metadata": {},
   "outputs": [],
   "source": [
    "# Building the array\n",
    "to_array = [[64392, 31655],\n",
    " [32579,     0],\n",
    " [49248,   462],\n",
    " [    0,     0]]\n",
    "\n",
    "array = np.array(to_array)\n"
   ]
  },
  {
   "cell_type": "code",
   "execution_count": 11,
   "id": "063ed048",
   "metadata": {},
   "outputs": [
    {
     "name": "stdout",
     "output_type": "stream",
     "text": [
      "Printing Array\n",
      "\n",
      "[[64392 31655]\n",
      " [32579     0]\n",
      " [49248   462]\n",
      " [    0     0]] \n",
      "\n",
      "Printing NumPy array Attributes\n",
      "\n",
      "Array shape is  (4, 2)\n",
      "Array dimensions are  2\n",
      "Array sum is  178336\n"
     ]
    }
   ],
   "source": [
    "# Collecting the demanded attributes\n",
    "arr_shp = array.shape\n",
    "arr_dim = array.ndim\n",
    "arr_sum = array.sum()\n",
    "\n",
    "# Printing everything\n",
    "print(\"Printing Array\\n\")\n",
    "print(array, \"\\n\")\n",
    "print(\"Printing NumPy array Attributes\\n\")\n",
    "print(f\"Array shape is  {arr_shp}\")\n",
    "print(f\"Array dimensions are  {arr_dim}\")\n",
    "print(f\"Array sum is  {arr_sum}\")"
   ]
  },
  {
   "cell_type": "markdown",
   "id": "27e25765",
   "metadata": {},
   "source": [
    "### Exercise 6b:\n",
    "__make a function that does the same__\n",
    "\n",
    "The function should be able to take *any* 2-dimensional Numpy array of integers\n",
    "\n",
    "Than use the package called random to make a new 2-dimensional array as above and run your function on it. Make it a different shape!"
   ]
  },
  {
   "cell_type": "code",
   "execution_count": 12,
   "id": "fb809a8c",
   "metadata": {},
   "outputs": [],
   "source": [
    "def print_array_attributes(array):\n",
    "    # Collecting the demanded attributes\n",
    "    arr_shp = array.shape\n",
    "    arr_dim = array.ndim\n",
    "    arr_sum = array.sum()\n",
    "\n",
    "    # Printing everything\n",
    "    print(\"Printing Array\\n\")\n",
    "    print(array, \"\\n\")\n",
    "    print(\"Printing NumPy array Attributes\\n\")\n",
    "    print(f\"Array shape is  {arr_shp}\")\n",
    "    print(f\"Array dimensions are  {arr_dim}\")\n",
    "    print(f\"Array sum is  {arr_sum}\")"
   ]
  },
  {
   "cell_type": "code",
   "execution_count": 13,
   "id": "d8d0383e",
   "metadata": {},
   "outputs": [],
   "source": [
    "# import random\n",
    "import random \n",
    "\n",
    "# make a new array\n",
    "elements = [random.randint(0, 200) for _ in range(32)]\n",
    "new_arr = np.array(elements)\n",
    "new_arr = new_arr.reshape(2, -1)"
   ]
  },
  {
   "cell_type": "code",
   "execution_count": 14,
   "id": "1dac0946",
   "metadata": {},
   "outputs": [
    {
     "name": "stdout",
     "output_type": "stream",
     "text": [
      "Printing Array\n",
      "\n",
      "[[162 200 199  69  84  56  53 102  25 175   1 124  58  31 120   3]\n",
      " [154 133 152 170 115 152  14 199  42 193  77  13  93  32  28  34]] \n",
      "\n",
      "Printing NumPy array Attributes\n",
      "\n",
      "Array shape is  (2, 16)\n",
      "Array dimensions are  2\n",
      "Array sum is  3063\n"
     ]
    }
   ],
   "source": [
    "# apply the function on the array\n",
    "print_array_attributes(new_arr)"
   ]
  },
  {
   "cell_type": "markdown",
   "id": "8bcbcc1d",
   "metadata": {},
   "source": [
    "### Exercise 6c: \n",
    "__use reshape to mold your latest 2-d array into a 3-dimensional array__\n",
    "\n",
    "Does it work? If not, what could be the problem? (hint: you may need to drop or add elements to arrive at a suitable number that can fit the new shape)"
   ]
  },
  {
   "cell_type": "code",
   "execution_count": 15,
   "id": "adba568e",
   "metadata": {},
   "outputs": [],
   "source": [
    "#Reshape the array\n",
    "newest_arr = np.array(elements).reshape(2,2,-1)"
   ]
  },
  {
   "cell_type": "markdown",
   "id": "1382ab1d",
   "metadata": {},
   "source": [
    "### Exercise 6d: \n",
    "__see if your function also works for 3-dimensional arrays.__\n",
    "If it doesn't, why not? See if you can fix it."
   ]
  },
  {
   "cell_type": "code",
   "execution_count": 16,
   "id": "58ce88dc",
   "metadata": {},
   "outputs": [
    {
     "name": "stdout",
     "output_type": "stream",
     "text": [
      "Printing Array\n",
      "\n",
      "[[[162 200 199  69  84  56  53 102]\n",
      "  [ 25 175   1 124  58  31 120   3]]\n",
      "\n",
      " [[154 133 152 170 115 152  14 199]\n",
      "  [ 42 193  77  13  93  32  28  34]]] \n",
      "\n",
      "Printing NumPy array Attributes\n",
      "\n",
      "Array shape is  (2, 2, 8)\n",
      "Array dimensions are  3\n",
      "Array sum is  3063\n"
     ]
    }
   ],
   "source": [
    "# Run the function on the latest array\n",
    "print_array_attributes(newest_arr)"
   ]
  },
  {
   "cell_type": "markdown",
   "id": "03856d82",
   "metadata": {},
   "source": [
    "### Exercise 7:\n",
    "__Following is a new provided numPy array. Return array of odd (impair) rows and even (pair) columns. Print it__"
   ]
  },
  {
   "cell_type": "code",
   "execution_count": 17,
   "id": "49f6afd0",
   "metadata": {},
   "outputs": [
    {
     "name": "stdout",
     "output_type": "stream",
     "text": [
      "Input Array:\n",
      "[[  3   9   9  12]\n",
      " [ 16  18 231  24]\n",
      " [ 27  30  33  36]\n",
      " [ 39  42  45  58]\n",
      " [ 51  54  57  61]]\n",
      "\n",
      "Printing array of odd rows and even columns:\n",
      "[[ 9 12]\n",
      " [30 36]\n",
      " [54 61]]\n"
     ]
    }
   ],
   "source": [
    "sampleArray = np.array([[3 ,9, 9, 12], [16 ,18, 231, 24], \n",
    "[27 ,30, 33, 36], [39 ,42, 45, 58], [51 ,54, 57, 61]]) \n",
    "print(\"Input Array:\")\n",
    "print(sampleArray)\n",
    "\n",
    "print(\"\\nPrinting array of odd rows and even columns:\")\n",
    "newArray = sampleArray[::2, 1::2]\n",
    "print(newArray)"
   ]
  },
  {
   "cell_type": "markdown",
   "id": "f2416b39",
   "metadata": {},
   "source": [
    "### Exercise 8:\n",
    "__Iterate both lists simultaneously__\n",
    "\n",
    "Given a two Python list. Write a program to iterate both lists simultaneously and display items from list1 in original order and items from list2 in reverse order.\n",
    "\n",
    "Tip: you can return a list in reverse with `[::-1]` (can you understand why?)\n",
    "\n",
    "Expected output:\n",
    "\n",
    "`10 400\n",
    "20 300\n",
    "30 200\n",
    "40 100`"
   ]
  },
  {
   "cell_type": "code",
   "execution_count": 18,
   "id": "a1a5e217",
   "metadata": {},
   "outputs": [],
   "source": [
    "list1 = [10, 20, 30, 40]\n",
    "list2 = [100, 200, 300, 400]"
   ]
  },
  {
   "cell_type": "code",
   "execution_count": 19,
   "id": "75331076",
   "metadata": {},
   "outputs": [
    {
     "name": "stdout",
     "output_type": "stream",
     "text": [
      "10 400\n",
      "20 300\n",
      "30 200\n",
      "40 100\n"
     ]
    }
   ],
   "source": [
    "for x, y in zip(list1, list2[::-1]):\n",
    "    print(x, y)"
   ]
  },
  {
   "cell_type": "markdown",
   "id": "71b1cacb",
   "metadata": {},
   "source": [
    "### Exercise 9:\n",
    "__Replace list’s item with new value if found__\n",
    "\n",
    "You have given a Python list. Write a program to find value 20 in the list, and if it is present, replace it with 200. Only update the first occurrence of an item."
   ]
  },
  {
   "cell_type": "code",
   "execution_count": 20,
   "id": "d0c26a3c",
   "metadata": {},
   "outputs": [
    {
     "name": "stdout",
     "output_type": "stream",
     "text": [
      "[5, 10, 15, 200, 25, 50, 20]\n"
     ]
    }
   ],
   "source": [
    "list1 = [5, 10, 15, 20, 25, 50, 20]\n",
    "\n",
    "# your_code_here\n",
    "# get the first occurrence index\n",
    "index = list1.index(20)\n",
    "\n",
    "# update item present at location\n",
    "list1[index] = 200\n",
    "print(list1)"
   ]
  }
 ],
 "metadata": {
  "kernelspec": {
   "display_name": "Python 3 (ipykernel)",
   "language": "python",
   "name": "python3"
  },
  "language_info": {
   "codemirror_mode": {
    "name": "ipython",
    "version": 3
   },
   "file_extension": ".py",
   "mimetype": "text/x-python",
   "name": "python",
   "nbconvert_exporter": "python",
   "pygments_lexer": "ipython3",
   "version": "3.8.8"
  }
 },
 "nbformat": 4,
 "nbformat_minor": 5
}
