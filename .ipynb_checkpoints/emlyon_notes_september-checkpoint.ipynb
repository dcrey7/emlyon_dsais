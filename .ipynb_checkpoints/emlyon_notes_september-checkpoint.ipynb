{
 "cells": [
  {
   "cell_type": "markdown",
   "id": "a494d906",
   "metadata": {},
   "source": [
    "# 16/9/2024 Monday\n"
   ]
  },
  {
   "cell_type": "code",
   "execution_count": 1,
   "id": "23729729",
   "metadata": {},
   "outputs": [
    {
     "data": {
      "text/plain": [
       "88817841970012523233890533447265625"
      ]
     },
     "execution_count": 1,
     "metadata": {},
     "output_type": "execute_result"
    }
   ],
   "source": [
    "age=25\n",
    "age**age"
   ]
  },
  {
   "cell_type": "code",
   "execution_count": 2,
   "id": "d658a013",
   "metadata": {},
   "outputs": [
    {
     "name": "stdout",
     "output_type": "stream",
     "text": [
      "6\n"
     ]
    }
   ],
   "source": [
    "a=2\n",
    "b=4\n",
    "c=a+b\n",
    "print(c)"
   ]
  },
  {
   "cell_type": "code",
   "execution_count": 22,
   "id": "a70d0493",
   "metadata": {},
   "outputs": [
    {
     "name": "stdout",
     "output_type": "stream",
     "text": [
      "when you divide 10 and 3 is 3.3333333333333335\n",
      "when you divide 10 and 3 is 3.3\n",
      "when you divide 10 and 3 is 3.33\n",
      "when you do integer of division of 10 and 3 is  3\n",
      "when you do floor division of 10 and 3 is 3\n",
      "when you round division of 10 and 3 is 3\n",
      "when you round division of 11 and 3 is 4\n"
     ]
    }
   ],
   "source": [
    "a=10\n",
    "b=3\n",
    "c=11\n",
    "print(f\"when you divide {a} and {b} is {a/b}\")\n",
    "print(f\"when you divide {a} and {b} is {a/b:.2g}\") # general formatting , 3.3 because second decimal is not different\n",
    "print(f\"when you divide {a} and {b} is {a/b:.2f}\") # general formatting , 3.3 because second decimal is not different\n",
    "print(f\"when you do integer of division of {a} and {b} is  {int(a/b)}\")\n",
    "print(f\"when you do floor division of {a} and {b} is {int(a//b)}\")\n",
    "print(f\"when you round division of {a} and {b} is {round(a/b)}\")\n",
    "print(f\"when you round division of {c} and {b} is {round(c/b)}\")\n"
   ]
  },
  {
   "cell_type": "code",
   "execution_count": 27,
   "id": "218076a5",
   "metadata": {},
   "outputs": [
    {
     "name": "stdout",
     "output_type": "stream",
     "text": [
      "addition for integers is 13\n",
      "addition for strings is abhishekthomas\n"
     ]
    }
   ],
   "source": [
    "#operator change based on datatype\n",
    "print(f\"addition for integers is {a+b}\")\n",
    "fname=\"abhishek\"\n",
    "lname=\"thomas\"\n",
    "print(f\"addition for strings is {fname+lname}\")"
   ]
  },
  {
   "cell_type": "markdown",
   "id": "07c35657",
   "metadata": {},
   "source": [
    "typecasting \n",
    "you can change from int to string and string to int"
   ]
  },
  {
   "cell_type": "code",
   "execution_count": 37,
   "id": "69e397be",
   "metadata": {},
   "outputs": [
    {
     "name": "stdout",
     "output_type": "stream",
     "text": [
      "input a number: 8\n",
      "even number\n"
     ]
    }
   ],
   "source": [
    "x=int(input(\"input a number: \"))\n",
    "if x%2==0:\n",
    "    print(\"even number\")\n",
    "else:\n",
    "    print(\"odd number\")"
   ]
  },
  {
   "cell_type": "code",
   "execution_count": 36,
   "id": "10ed7795",
   "metadata": {},
   "outputs": [
    {
     "data": {
      "text/plain": [
       "'even'"
      ]
     },
     "execution_count": 36,
     "metadata": {},
     "output_type": "execute_result"
    }
   ],
   "source": [
    "#lambda function\n",
    "res=(lambda x:\"even\" if x%2==0 else \"odd\")(4)\n",
    "res"
   ]
  },
  {
   "cell_type": "code",
   "execution_count": 39,
   "id": "50b69bbc",
   "metadata": {},
   "outputs": [
    {
     "name": "stdout",
     "output_type": "stream",
     "text": [
      "['Odd', 'Even', 'Odd', 'Even', 'Odd', 'Even', 'Odd', 'Even', 'Odd', 'Even']\n"
     ]
    }
   ],
   "source": [
    "#list comprehension with if else and for loop\n",
    "numbers = [1, 2, 3, 4, 5, 6, 7, 8, 9, 10]\n",
    "result = [\"Even\" if num % 2 == 0 else \"Odd\" for num in range(1, 11)]\n",
    "print(result)"
   ]
  },
  {
   "cell_type": "code",
   "execution_count": 40,
   "id": "ecf2ac06",
   "metadata": {},
   "outputs": [
    {
     "name": "stdout",
     "output_type": "stream",
     "text": [
      "[2, 4, 6, 8, 10]\n"
     ]
    }
   ],
   "source": [
    "#filter funtion\n",
    "numbers = [1, 2, 3, 4, 5, 6, 7, 8, 9, 10]\n",
    "even_numbers = list(filter(lambda x: x % 2 == 0, numbers))\n",
    "print(even_numbers)"
   ]
  },
  {
   "cell_type": "code",
   "execution_count": 41,
   "id": "f1a7f607",
   "metadata": {},
   "outputs": [
    {
     "name": "stdout",
     "output_type": "stream",
     "text": [
      "['Odd', 'Even', 'Odd', 'Even', 'Odd', 'Even', 'Odd', 'Even', 'Odd', 'Even']\n"
     ]
    }
   ],
   "source": [
    "#map function\n",
    "numbers = [1, 2, 3, 4, 5, 6, 7, 8, 9, 10]\n",
    "result = list(map(lambda x: \"Even\" if x % 2 == 0 else \"Odd\", numbers))\n",
    "print(result)"
   ]
  },
  {
   "cell_type": "code",
   "execution_count": null,
   "id": "c6b81259",
   "metadata": {},
   "outputs": [],
   "source": [
    "#while loops -- break , pass , try , except check \n",
    "#for loops\n",
    "#funcitons"
   ]
  },
  {
   "cell_type": "code",
   "execution_count": 46,
   "id": "e108743d",
   "metadata": {},
   "outputs": [
    {
     "ename": "AttributeError",
     "evalue": "'list' object has no attribute 'mean'",
     "output_type": "error",
     "traceback": [
      "\u001b[1;31m---------------------------------------------------------------------------\u001b[0m",
      "\u001b[1;31mAttributeError\u001b[0m                            Traceback (most recent call last)",
      "Cell \u001b[1;32mIn[46], line 1\u001b[0m\n\u001b[1;32m----> 1\u001b[0m numbers\u001b[38;5;241m.\u001b[39mmean()\n",
      "\u001b[1;31mAttributeError\u001b[0m: 'list' object has no attribute 'mean'"
     ]
    }
   ],
   "source": []
  },
  {
   "cell_type": "code",
   "execution_count": null,
   "id": "287abe81",
   "metadata": {},
   "outputs": [],
   "source": []
  }
 ],
 "metadata": {
  "kernelspec": {
   "display_name": "Python 3 (ipykernel)",
   "language": "python",
   "name": "python3"
  },
  "language_info": {
   "codemirror_mode": {
    "name": "ipython",
    "version": 3
   },
   "file_extension": ".py",
   "mimetype": "text/x-python",
   "name": "python",
   "nbconvert_exporter": "python",
   "pygments_lexer": "ipython3",
   "version": "3.11.5"
  },
  "toc": {
   "base_numbering": 1,
   "nav_menu": {},
   "number_sections": true,
   "sideBar": true,
   "skip_h1_title": false,
   "title_cell": "Table of Contents",
   "title_sidebar": "Contents",
   "toc_cell": false,
   "toc_position": {
    "height": "calc(100% - 180px)",
    "left": "10px",
    "top": "150px",
    "width": "307.2px"
   },
   "toc_section_display": true,
   "toc_window_display": true
  }
 },
 "nbformat": 4,
 "nbformat_minor": 5
}
