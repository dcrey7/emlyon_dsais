{
 "cells": [
  {
   "cell_type": "markdown",
   "id": "a494d906",
   "metadata": {},
   "source": [
    "# Week 1\n",
    "## 16/9/2024 Monday\n"
   ]
  },
  {
   "cell_type": "code",
   "execution_count": 1,
   "id": "23729729",
   "metadata": {},
   "outputs": [
    {
     "data": {
      "text/plain": [
       "88817841970012523233890533447265625"
      ]
     },
     "execution_count": 1,
     "metadata": {},
     "output_type": "execute_result"
    }
   ],
   "source": [
    "age=25\n",
    "age**age"
   ]
  },
  {
   "cell_type": "code",
   "execution_count": 2,
   "id": "d658a013",
   "metadata": {},
   "outputs": [
    {
     "name": "stdout",
     "output_type": "stream",
     "text": [
      "6\n"
     ]
    }
   ],
   "source": [
    "a=2\n",
    "b=4\n",
    "c=a+b\n",
    "print(c)"
   ]
  },
  {
   "cell_type": "code",
   "execution_count": 22,
   "id": "a70d0493",
   "metadata": {},
   "outputs": [
    {
     "name": "stdout",
     "output_type": "stream",
     "text": [
      "when you divide 10 and 3 is 3.3333333333333335\n",
      "when you divide 10 and 3 is 3.3\n",
      "when you divide 10 and 3 is 3.33\n",
      "when you do integer of division of 10 and 3 is  3\n",
      "when you do floor division of 10 and 3 is 3\n",
      "when you round division of 10 and 3 is 3\n",
      "when you round division of 11 and 3 is 4\n"
     ]
    }
   ],
   "source": [
    "a=10\n",
    "b=3\n",
    "c=11\n",
    "print(f\"when you divide {a} and {b} is {a/b}\")\n",
    "print(f\"when you divide {a} and {b} is {a/b:.2g}\") # general formatting , 3.3 because second decimal is not different\n",
    "print(f\"when you divide {a} and {b} is {a/b:.2f}\") # general formatting , 3.3 because second decimal is not different\n",
    "print(f\"when you do integer of division of {a} and {b} is  {int(a/b)}\")\n",
    "print(f\"when you do floor division of {a} and {b} is {int(a//b)}\")\n",
    "print(f\"when you round division of {a} and {b} is {round(a/b)}\")\n",
    "print(f\"when you round division of {c} and {b} is {round(c/b)}\")\n"
   ]
  },
  {
   "cell_type": "code",
   "execution_count": 27,
   "id": "218076a5",
   "metadata": {},
   "outputs": [
    {
     "name": "stdout",
     "output_type": "stream",
     "text": [
      "addition for integers is 13\n",
      "addition for strings is abhishekthomas\n"
     ]
    }
   ],
   "source": [
    "#operator change based on datatype\n",
    "print(f\"addition for integers is {a+b}\")\n",
    "fname=\"abhishek\"\n",
    "lname=\"thomas\"\n",
    "print(f\"addition for strings is {fname+lname}\")"
   ]
  },
  {
   "cell_type": "markdown",
   "id": "07c35657",
   "metadata": {},
   "source": [
    "typecasting \n",
    "you can change from int to string and string to int"
   ]
  },
  {
   "cell_type": "code",
   "execution_count": 37,
   "id": "69e397be",
   "metadata": {},
   "outputs": [
    {
     "name": "stdout",
     "output_type": "stream",
     "text": [
      "input a number: 8\n",
      "even number\n"
     ]
    }
   ],
   "source": [
    "x=int(input(\"input a number: \"))\n",
    "if x%2==0:\n",
    "    print(\"even number\")\n",
    "else:\n",
    "    print(\"odd number\")"
   ]
  },
  {
   "cell_type": "code",
   "execution_count": 36,
   "id": "10ed7795",
   "metadata": {},
   "outputs": [
    {
     "data": {
      "text/plain": [
       "'even'"
      ]
     },
     "execution_count": 36,
     "metadata": {},
     "output_type": "execute_result"
    }
   ],
   "source": [
    "#lambda function\n",
    "res=(lambda x:\"even\" if x%2==0 else \"odd\")(4)\n",
    "res"
   ]
  },
  {
   "cell_type": "code",
   "execution_count": 39,
   "id": "50b69bbc",
   "metadata": {},
   "outputs": [
    {
     "name": "stdout",
     "output_type": "stream",
     "text": [
      "['Odd', 'Even', 'Odd', 'Even', 'Odd', 'Even', 'Odd', 'Even', 'Odd', 'Even']\n"
     ]
    }
   ],
   "source": [
    "#list comprehension with if else and for loop\n",
    "numbers = [1, 2, 3, 4, 5, 6, 7, 8, 9, 10]\n",
    "result = [\"Even\" if num % 2 == 0 else \"Odd\" for num in range(1, 11)]\n",
    "print(result)"
   ]
  },
  {
   "cell_type": "code",
   "execution_count": 40,
   "id": "ecf2ac06",
   "metadata": {},
   "outputs": [
    {
     "name": "stdout",
     "output_type": "stream",
     "text": [
      "[2, 4, 6, 8, 10]\n"
     ]
    }
   ],
   "source": [
    "#filter funtion\n",
    "numbers = [1, 2, 3, 4, 5, 6, 7, 8, 9, 10]\n",
    "even_numbers = list(filter(lambda x: x % 2 == 0, numbers))\n",
    "print(even_numbers)"
   ]
  },
  {
   "cell_type": "code",
   "execution_count": 41,
   "id": "f1a7f607",
   "metadata": {},
   "outputs": [
    {
     "name": "stdout",
     "output_type": "stream",
     "text": [
      "['Odd', 'Even', 'Odd', 'Even', 'Odd', 'Even', 'Odd', 'Even', 'Odd', 'Even']\n"
     ]
    }
   ],
   "source": [
    "#map function\n",
    "numbers = [1, 2, 3, 4, 5, 6, 7, 8, 9, 10]\n",
    "result = list(map(lambda x: \"Even\" if x % 2 == 0 else \"Odd\", numbers))\n",
    "print(result)"
   ]
  },
  {
   "cell_type": "code",
   "execution_count": null,
   "id": "c6b81259",
   "metadata": {},
   "outputs": [],
   "source": [
    "#while loops -- break , pass , try , except check \n",
    "#for loops\n",
    "#funcitons"
   ]
  },
  {
   "cell_type": "markdown",
   "id": "c6551767",
   "metadata": {},
   "source": [
    "## 17/09/2024 Tuesday"
   ]
  },
  {
   "cell_type": "code",
   "execution_count": 1,
   "id": "6fa2b27d",
   "metadata": {},
   "outputs": [
    {
     "data": {
      "text/plain": [
       "['df', 658]"
      ]
     },
     "execution_count": 1,
     "metadata": {},
     "output_type": "execute_result"
    }
   ],
   "source": [
    "#Data structures\n",
    "\n",
    "student1_tuple=(25,\"Bob\",19.5)\n",
    "student2_list=[25,\"Bob\",19.5,\"df\",\"dldld\",658,89]\n",
    "student2_list[3::2] #slicing []"
   ]
  },
  {
   "cell_type": "code",
   "execution_count": 18,
   "id": "e0383224",
   "metadata": {},
   "outputs": [
    {
     "name": "stdout",
     "output_type": "stream",
     "text": [
      "[10, 9, 8, 7, 6, 5, 4, 3, 2, 1, 0, -1, -2, -3, -4, -5, -6, -7, -8, -9, -10]\n",
      "[-7, -5, -3, -1]\n"
     ]
    }
   ],
   "source": [
    "negative_list=list(range(10,-11,-1))\n",
    "print(negative_list)\n",
    "print(negative_list[-4:9:-2])"
   ]
  },
  {
   "cell_type": "code",
   "execution_count": 10,
   "id": "aeefbeeb",
   "metadata": {},
   "outputs": [
    {
     "name": "stdout",
     "output_type": "stream",
     "text": [
      "[-10, -9, -8, -7, -6, -5, -4, -3, -2, -1, 0, 1, 2, 3, 4, 5, 6, 7, 8, 9, 10]\n"
     ]
    }
   ],
   "source": [
    "print(negative_list[::-1])"
   ]
  },
  {
   "cell_type": "code",
   "execution_count": 13,
   "id": "80902c52",
   "metadata": {
    "scrolled": true
   },
   "outputs": [
    {
     "data": {
      "text/plain": [
       "['__add__',\n",
       " '__class__',\n",
       " '__contains__',\n",
       " '__delattr__',\n",
       " '__dir__',\n",
       " '__doc__',\n",
       " '__eq__',\n",
       " '__format__',\n",
       " '__ge__',\n",
       " '__getattribute__',\n",
       " '__getitem__',\n",
       " '__getnewargs__',\n",
       " '__getstate__',\n",
       " '__gt__',\n",
       " '__hash__',\n",
       " '__init__',\n",
       " '__init_subclass__',\n",
       " '__iter__',\n",
       " '__le__',\n",
       " '__len__',\n",
       " '__lt__',\n",
       " '__mod__',\n",
       " '__mul__',\n",
       " '__ne__',\n",
       " '__new__',\n",
       " '__reduce__',\n",
       " '__reduce_ex__',\n",
       " '__repr__',\n",
       " '__rmod__',\n",
       " '__rmul__',\n",
       " '__setattr__',\n",
       " '__sizeof__',\n",
       " '__str__',\n",
       " '__subclasshook__',\n",
       " 'capitalize',\n",
       " 'casefold',\n",
       " 'center',\n",
       " 'count',\n",
       " 'encode',\n",
       " 'endswith',\n",
       " 'expandtabs',\n",
       " 'find',\n",
       " 'format',\n",
       " 'format_map',\n",
       " 'index',\n",
       " 'isalnum',\n",
       " 'isalpha',\n",
       " 'isascii',\n",
       " 'isdecimal',\n",
       " 'isdigit',\n",
       " 'isidentifier',\n",
       " 'islower',\n",
       " 'isnumeric',\n",
       " 'isprintable',\n",
       " 'isspace',\n",
       " 'istitle',\n",
       " 'isupper',\n",
       " 'join',\n",
       " 'ljust',\n",
       " 'lower',\n",
       " 'lstrip',\n",
       " 'maketrans',\n",
       " 'partition',\n",
       " 'removeprefix',\n",
       " 'removesuffix',\n",
       " 'replace',\n",
       " 'rfind',\n",
       " 'rindex',\n",
       " 'rjust',\n",
       " 'rpartition',\n",
       " 'rsplit',\n",
       " 'rstrip',\n",
       " 'split',\n",
       " 'splitlines',\n",
       " 'startswith',\n",
       " 'strip',\n",
       " 'swapcase',\n",
       " 'title',\n",
       " 'translate',\n",
       " 'upper',\n",
       " 'zfill']"
      ]
     },
     "execution_count": 13,
     "metadata": {},
     "output_type": "execute_result"
    }
   ],
   "source": [
    "name=\"hello whatsapp\"\n",
    "name.find(\"w\")  #find is string function \n",
    "dir(name) # dir is python function of list"
   ]
  },
  {
   "cell_type": "code",
   "execution_count": 19,
   "id": "cf17f8cf",
   "metadata": {},
   "outputs": [
    {
     "data": {
      "text/plain": [
       "[-10, -9, -8, -7, -6, -5, -4, -3, -2, -1, 0, 1, 2, 3, 4, 5, 6, 7, 8, 9, 10]"
      ]
     },
     "execution_count": 19,
     "metadata": {},
     "output_type": "execute_result"
    }
   ],
   "source": [
    "#another example\n",
    "sorted(negative_list)  # original list is not changeed"
   ]
  },
  {
   "cell_type": "code",
   "execution_count": 16,
   "id": "8a2e324b",
   "metadata": {},
   "outputs": [
    {
     "data": {
      "text/plain": [
       "[-10, -9, -8, -7, -6, -5, -4, -3, -2, -1, 0, 1, 2, 3, 4, 5, 6, 7, 8, 9, 10]"
      ]
     },
     "execution_count": 16,
     "metadata": {},
     "output_type": "execute_result"
    }
   ],
   "source": [
    "negative_list.sort()\n",
    "negative_list  # original list is changed "
   ]
  },
  {
   "cell_type": "code",
   "execution_count": 20,
   "id": "f5298eab",
   "metadata": {},
   "outputs": [
    {
     "data": {
      "text/plain": [
       "[10, 9, 8, 7, 6, 5, 4, 3, 2, 1, 0, -1, -2, -3, -4, -5, -6, -7, -8, -9, -10]"
      ]
     },
     "execution_count": 20,
     "metadata": {},
     "output_type": "execute_result"
    }
   ],
   "source": [
    "negative_list"
   ]
  },
  {
   "cell_type": "code",
   "execution_count": 23,
   "id": "781b522a",
   "metadata": {},
   "outputs": [
    {
     "name": "stdout",
     "output_type": "stream",
     "text": [
      "A\n",
      "B\n",
      "C\n",
      "A\n",
      "B\n",
      "C\n",
      "0 A\n",
      "1 B\n",
      "2 C\n"
     ]
    }
   ],
   "source": [
    "#list \n",
    "my_list=[\"A\",\"B\",\"C\"]\n",
    "\n",
    "#loop over indices\n",
    "for i in range(3):\n",
    "    print(my_list[i])\n",
    "\n",
    "#loop over values    \n",
    "for v in my_list:\n",
    "    print(v)\n",
    "    \n",
    "#loop w values and indices\n",
    "\n",
    "for i,v in enumerate(my_list):\n",
    "    print(i,v)\n",
    "    "
   ]
  },
  {
   "cell_type": "code",
   "execution_count": 26,
   "id": "5668728c",
   "metadata": {},
   "outputs": [
    {
     "name": "stdout",
     "output_type": "stream",
     "text": [
      "bob\n",
      "100\n",
      "cool\n",
      "name\n",
      "age\n",
      "prof\n"
     ]
    }
   ],
   "source": [
    "#Dictionary is not a sequence\n",
    "student_dict={\"name\":\"bob\",\"age\":100,\"prof\":\"cool\"}\n",
    "\n",
    "for k in student_dict.keys():\n",
    "    print(student_dict[k])\n",
    "    \n",
    "for k,v in student_dict.items():\n",
    "    print(k)"
   ]
  },
  {
   "cell_type": "code",
   "execution_count": 27,
   "id": "b3f6474d",
   "metadata": {},
   "outputs": [
    {
     "data": {
      "text/plain": [
       "dict_values(['bob', 100, 'cool'])"
      ]
     },
     "execution_count": 27,
     "metadata": {},
     "output_type": "execute_result"
    }
   ],
   "source": [
    "student_dict.values()"
   ]
  },
  {
   "cell_type": "code",
   "execution_count": 28,
   "id": "bf32b0d8",
   "metadata": {},
   "outputs": [
    {
     "data": {
      "text/plain": [
       "{2, 3, 4, 5, 6, 7}"
      ]
     },
     "execution_count": 28,
     "metadata": {},
     "output_type": "execute_result"
    }
   ],
   "source": [
    "#sets\n",
    "k=[2,3,4,5,6,7,3,2,4,5,6,4,5,6]\n",
    "set(k)"
   ]
  },
  {
   "cell_type": "code",
   "execution_count": null,
   "id": "b927dbb1",
   "metadata": {},
   "outputs": [],
   "source": [
    "import math  #takes more memory\n",
    "\n",
    "math.sin(90) #function sin() from module math \n",
    "\n"
   ]
  },
  {
   "cell_type": "code",
   "execution_count": 29,
   "id": "f1c368e8",
   "metadata": {},
   "outputs": [
    {
     "data": {
      "text/plain": [
       "-0.4480736161291701"
      ]
     },
     "execution_count": 29,
     "metadata": {},
     "output_type": "execute_result"
    }
   ],
   "source": [
    "from math import cos #takes less memory\n",
    "\n",
    "cos(90) "
   ]
  },
  {
   "cell_type": "code",
   "execution_count": 30,
   "id": "03611e4a",
   "metadata": {},
   "outputs": [
    {
     "data": {
      "text/plain": [
       "1726556886.031783"
      ]
     },
     "execution_count": 30,
     "metadata": {},
     "output_type": "execute_result"
    }
   ],
   "source": [
    "import time\n",
    "time.time()  #time in seconds from jan 1 1970"
   ]
  },
  {
   "cell_type": "code",
   "execution_count": 31,
   "id": "a3332ddb",
   "metadata": {},
   "outputs": [],
   "source": [
    "import timeit\n"
   ]
  },
  {
   "cell_type": "code",
   "execution_count": 32,
   "id": "39a0f927",
   "metadata": {},
   "outputs": [
    {
     "data": {
      "text/plain": [
       "datetime.datetime(2024, 9, 17, 9, 14, 13, 679672)"
      ]
     },
     "execution_count": 32,
     "metadata": {},
     "output_type": "execute_result"
    }
   ],
   "source": [
    "import datetime\n",
    "datetime.datetime.today()"
   ]
  },
  {
   "cell_type": "code",
   "execution_count": null,
   "id": "b7b0e0db",
   "metadata": {},
   "outputs": [],
   "source": [
    "#find walltime for running codes "
   ]
  },
  {
   "cell_type": "markdown",
   "id": "48dd4789",
   "metadata": {},
   "source": [
    "## 18/09/2024 Wednesday"
   ]
  },
  {
   "cell_type": "code",
   "execution_count": 3,
   "id": "c3635707",
   "metadata": {},
   "outputs": [
    {
     "name": "stdout",
     "output_type": "stream",
     "text": [
      "0\n",
      "hello\n",
      "1\n",
      "hello\n",
      "2\n",
      "out\n"
     ]
    }
   ],
   "source": [
    "for i in range(5):\n",
    "    print(i)\n",
    "    if  i==2:\n",
    "        break\n",
    "        \n",
    "    print(\"hello\")\n",
    "print('out')"
   ]
  },
  {
   "cell_type": "code",
   "execution_count": 4,
   "id": "87e3cac2",
   "metadata": {},
   "outputs": [
    {
     "name": "stdout",
     "output_type": "stream",
     "text": [
      "0\n",
      "hello\n",
      "1\n",
      "hello\n",
      "2\n",
      "3\n",
      "hello\n",
      "4\n",
      "hello\n",
      "out\n"
     ]
    }
   ],
   "source": [
    "for i in range(5):\n",
    "    print(i)\n",
    "    if  i==2:\n",
    "        continue\n",
    "        \n",
    "    print(\"hello\")\n",
    "print('out')"
   ]
  },
  {
   "cell_type": "code",
   "execution_count": 31,
   "id": "05d0f943",
   "metadata": {},
   "outputs": [
    {
     "name": "stdout",
     "output_type": "stream",
     "text": [
      "hi\n"
     ]
    }
   ],
   "source": [
    "a=10\n",
    "if a>10:\n",
    "    pass   #placeholder you can make for loop and function with nothing inside but add pass\n",
    "    \n",
    "else:\n",
    "    print(\"hi\")\n",
    "    \n",
    "def cool_guy():\n",
    "    pass\n",
    "\n",
    "for i in range(10):\n",
    "    pass"
   ]
  },
  {
   "cell_type": "code",
   "execution_count": null,
   "id": "195feea8",
   "metadata": {},
   "outputs": [],
   "source": [
    "A=[5,7,8,9,8,7]\n",
    "B=[8,89,9,5,6,9]\n",
    "for i in A:\n",
    "    pass\n",
    "for j in B:\n",
    "    print "
   ]
  },
  {
   "cell_type": "code",
   "execution_count": 10,
   "id": "b0fb7bff",
   "metadata": {},
   "outputs": [
    {
     "name": "stdout",
     "output_type": "stream",
     "text": [
      "hello--upi***hello--upi\n"
     ]
    }
   ],
   "source": [
    "print(\"hello\",\"upi\",sep=\"--\",end=\"***\")\n",
    "print(\"hello\",\"upi\",sep=\"--\")"
   ]
  },
  {
   "cell_type": "code",
   "execution_count": 11,
   "id": "9dc12840",
   "metadata": {},
   "outputs": [],
   "source": [
    "def stats(a,b,c):\n",
    "    x1=a+b\n",
    "    x2=a*c\n",
    "    return x1,x2"
   ]
  },
  {
   "cell_type": "code",
   "execution_count": 12,
   "id": "4afedeef",
   "metadata": {},
   "outputs": [
    {
     "name": "stdout",
     "output_type": "stream",
     "text": [
      "7 12\n"
     ]
    }
   ],
   "source": [
    "out1,out2=stats(2,5,6)\n",
    "print(out1,out2)"
   ]
  },
  {
   "cell_type": "code",
   "execution_count": 13,
   "id": "89e44ec3",
   "metadata": {},
   "outputs": [
    {
     "name": "stdout",
     "output_type": "stream",
     "text": [
      "7 12\n"
     ]
    }
   ],
   "source": [
    "outputs=stats(2,5,6)\n",
    "print(outputs[0],outputs[1])"
   ]
  },
  {
   "cell_type": "code",
   "execution_count": 30,
   "id": "17b4875d",
   "metadata": {},
   "outputs": [
    {
     "name": "stdout",
     "output_type": "stream",
     "text": [
      "Bob, 19\n",
      "Alice, 20\n",
      "Student name is Bob and student age is 19\n",
      "Grades list --18 17 \n",
      "\n",
      "Student name is Alice and student age is 20\n",
      "Grades list --\n",
      "\n",
      "My name is Bob\n"
     ]
    }
   ],
   "source": [
    "#OOP\n",
    "\n",
    "class Student:\n",
    "    def __init__(self,name,age):\n",
    "        self.name=name\n",
    "        self.age=age\n",
    "        self.grades=[]\n",
    "    \n",
    "    def show_info(self):\n",
    "        print(f\"Student name is {self.name} and student age is {self.age}\")\n",
    "        print(\"Grades list \",end=\"--\")\n",
    "        for i in self.grades:\n",
    "            print(i,end=\" \")\n",
    "        print(\"\\n\")\n",
    "    \n",
    "    def add_grade(self,grade):\n",
    "        self.grades.append(grade)\n",
    "        \n",
    "    def __str__(self):  #print(student1), it has to be __str__ , they are called dunder (already )\n",
    "        return f\"My name is {self.name}\"\n",
    "    \n",
    "student1=Student(\"Bob\",19)\n",
    "student2=Student(\"Alice\",20)\n",
    "\n",
    "\n",
    "print(f\"{student1.name}, {student1.age}\")\n",
    "print(f\"{student2.name}, {student2.age}\")\n",
    "\n",
    "student1.add_grade(18)\n",
    "student1.add_grade(17)\n",
    "student1.show_info()\n",
    "\n",
    "\n",
    "student2.show_info()\n",
    "\n",
    "\n",
    "print(student1) #substitute for student1.__str__()"
   ]
  },
  {
   "cell_type": "code",
   "execution_count": 33,
   "id": "9dd66987",
   "metadata": {},
   "outputs": [],
   "source": [
    "# Files\n",
    "# text files in python\n",
    "\n",
    "#making new file and writing on it , when creating there is pointer at the start of the file \n",
    "myfile=open(file=\"sample_python.txt\",mode=\"w\")\n",
    "\n",
    "\n",
    "#write\n",
    "myfile.write(\"hello\")\n",
    "myfile.write(\"\\n\")\n",
    "myfile.write(\"there\")\n",
    "\n",
    "\n",
    "\n",
    "myfile.close() #when you close the file the pointer gets reset and goes back to one"
   ]
  },
  {
   "cell_type": "code",
   "execution_count": 34,
   "id": "f8ad9d48",
   "metadata": {},
   "outputs": [
    {
     "name": "stdout",
     "output_type": "stream",
     "text": [
      "hello\n",
      "\n"
     ]
    }
   ],
   "source": [
    "#read from file -- each line\n",
    "myfile=open(file=\"sample_python.txt\",mode=\"r\")\n",
    "line=myfile.readline() # pointer reads a line and goes to the next line\n",
    "print(line)\n",
    "myfile.close()\n"
   ]
  },
  {
   "cell_type": "code",
   "execution_count": 35,
   "id": "9da88152",
   "metadata": {},
   "outputs": [
    {
     "name": "stdout",
     "output_type": "stream",
     "text": [
      "hello\n",
      "there\n"
     ]
    }
   ],
   "source": [
    "#read from file -- entire text file as string\n",
    "myfile=open(file=\"sample_python.txt\",mode=\"r\")\n",
    "text=myfile.read()\n",
    "print(text)\n",
    "myfile.close()\n"
   ]
  },
  {
   "cell_type": "code",
   "execution_count": 36,
   "id": "c056db84",
   "metadata": {},
   "outputs": [
    {
     "name": "stdout",
     "output_type": "stream",
     "text": [
      "['hello\\n', 'there']\n"
     ]
    }
   ],
   "source": [
    "#read from file-- each line is a element of list\n",
    "myfile=open(file=\"sample_python.txt\",mode=\"r\")\n",
    "lines=myfile.readlines()\n",
    "print(lines)\n",
    "myfile.close()\n"
   ]
  },
  {
   "cell_type": "code",
   "execution_count": 37,
   "id": "5de40ea0",
   "metadata": {},
   "outputs": [],
   "source": [
    "# Files\n",
    "# text files in python\n",
    "\n",
    "#making new file and writing on it\n",
    "myfile=open(file=\"sample_python.txt\",mode=\"a\")\n",
    "\n",
    "\n",
    "#write\n",
    "myfile.write(\"\\n\")\n",
    "myfile.write(\"abhishek\")\n",
    "myfile.write(\"\\n\")\n",
    "myfile.write(\"here\")\n",
    "\n",
    "\n",
    "\n",
    "myfile.close()"
   ]
  },
  {
   "cell_type": "code",
   "execution_count": 40,
   "id": "9d2fa3c9",
   "metadata": {},
   "outputs": [
    {
     "name": "stdout",
     "output_type": "stream",
     "text": [
      "['hello\\n', 'there\\n', 'abhishek\\n', 'here']\n"
     ]
    }
   ],
   "source": [
    "with open(file=\"sample_python.txt\",mode=\"r\") as myfile: #context manager-- automoatically opens and closes the file when done\n",
    "    lines=myfile.readlines()\n",
    "    print(lines)\n",
    "    "
   ]
  },
  {
   "cell_type": "code",
   "execution_count": null,
   "id": "f0d9f746",
   "metadata": {},
   "outputs": [],
   "source": []
  }
 ],
 "metadata": {
  "kernelspec": {
   "display_name": "Python 3 (ipykernel)",
   "language": "python",
   "name": "python3"
  },
  "language_info": {
   "codemirror_mode": {
    "name": "ipython",
    "version": 3
   },
   "file_extension": ".py",
   "mimetype": "text/x-python",
   "name": "python",
   "nbconvert_exporter": "python",
   "pygments_lexer": "ipython3",
   "version": "3.11.5"
  },
  "toc": {
   "base_numbering": 1,
   "nav_menu": {},
   "number_sections": true,
   "sideBar": true,
   "skip_h1_title": false,
   "title_cell": "Table of Contents",
   "title_sidebar": "Contents",
   "toc_cell": false,
   "toc_position": {
    "height": "calc(100% - 180px)",
    "left": "10px",
    "top": "150px",
    "width": "307.2px"
   },
   "toc_section_display": true,
   "toc_window_display": true
  }
 },
 "nbformat": 4,
 "nbformat_minor": 5
}
