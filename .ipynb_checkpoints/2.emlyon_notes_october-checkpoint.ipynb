{
 "cells": [
  {
   "cell_type": "markdown",
   "id": "16ea3ef9-cf04-469a-b2b0-9dd538f6698d",
   "metadata": {},
   "source": [
    "# Week3"
   ]
  },
  {
   "cell_type": "markdown",
   "id": "4c82b922-88f2-4446-ac21-a842791e6966",
   "metadata": {},
   "source": [
    "## 01/10/2024 Tuesday"
   ]
  },
  {
   "cell_type": "markdown",
   "id": "07eebea1-7180-4c49-911f-42fdaaab1210",
   "metadata": {},
   "source": [
    "- ML is still a black box\n",
    "- XAI - explainable ai\n",
    "- model is model and cannot represent reality , always some error Y=f(x)+ E\n",
    "- PASSIMONIOUS - OCCAMS RAZOR - minimunm predictors, maximum prediction\n",
    "- Linear model are bad models and never get close to the actual Y but close these are parameteric models, not overfitting\n",
    "- KNN models are good models are get very close to actual Y, not parameteric model , there is overfitting\n",
    "- observations/data points in the features/columns are measured in distance between them, but features/ columns are used to measured by the angle between them because they are vectors\n",
    "- variable centered approach\n",
    "    - In a credit risk model, you might use a variable-centered approach to study how different financial behaviors (e.g., income, credit utilization, payment history) are related to credit scores.\n",
    "- person centered approach\n",
    "    - In customer segmentation, a person-centered approach might group customers into distinct clusters based on their purchasing behaviors, demographics, or preferences, allowing for personalized marketing strategies.\n",
    "- MSE is mean squared error and MAE is mean absoulute error. MSE >= MAE always"
   ]
  },
  {
   "cell_type": "code",
   "execution_count": null,
   "id": "8a363c32-1ed6-4da7-9e49-d64c7a937f88",
   "metadata": {},
   "outputs": [],
   "source": []
  }
 ],
 "metadata": {
  "kernelspec": {
   "display_name": "Python 3 (ipykernel)",
   "language": "python",
   "name": "python3"
  },
  "language_info": {
   "codemirror_mode": {
    "name": "ipython",
    "version": 3
   },
   "file_extension": ".py",
   "mimetype": "text/x-python",
   "name": "python",
   "nbconvert_exporter": "python",
   "pygments_lexer": "ipython3",
   "version": "3.12.4"
  }
 },
 "nbformat": 4,
 "nbformat_minor": 5
}
