{
 "cells": [
  {
   "cell_type": "markdown",
   "metadata": {},
   "source": [
    "<table style=\"float:left\">\n",
    "    <tr>\n",
    "        <td>\n",
    "            <img src=\"images/emlyon.png\" style=\"height:60px; float:left; padding-right:10px; margin-top:5px\" />\n",
    "        </td>\n",
    "        <td style=\"padding-bottom:10px;\">\n",
    "            <h1 style=\"border-bottom: 1px solid #eeeeee;\"> AI Booster Week 01 - Python for Data Science </h1>\n",
    "            <span style=\"display:inline-block; margin-top:-15px;\">\n",
    "            <a href=\"https://masters.em-lyon.com/fr/msc-in-data-science-artificial-intelligence-strategy\">[Emlyon]</a> MSc in Data Science & Artificial Intelligence Strategy (DSAIS)    \n",
    "            <br/>\n",
    "            Sep 2024, Paris | © Saeed VARASTEH\n",
    "            </span>\n",
    "        </td>\n",
    "    </tr>\n",
    "</table>"
   ]
  },
  {
   "cell_type": "markdown",
   "metadata": {},
   "source": [
    "### Variables\n",
    "\n",
    "---"
   ]
  },
  {
   "cell_type": "markdown",
   "metadata": {},
   "source": [
    "In Python, you can define multiple variables to store your inputs, data and results. This way you can reuse them later in the same program."
   ]
  },
  {
   "cell_type": "markdown",
   "metadata": {},
   "source": [
    "<div class=\"alert-info\">\n",
    "Values are assigned to variable names using a special symbol called the assignment operator (=). The = operator takes the value to the right of the operator and assigns it to the name on the left.\n",
    "</div>"
   ]
  },
  {
   "cell_type": "code",
   "execution_count": null,
   "metadata": {},
   "outputs": [],
   "source": [
    "age = 25"
   ]
  },
  {
   "cell_type": "code",
   "execution_count": null,
   "metadata": {},
   "outputs": [],
   "source": [
    "print(age)"
   ]
  },
  {
   "cell_type": "markdown",
   "metadata": {},
   "source": [
    "<div class=\"alert-info\">\n",
    "    <b> print(age) </b> displays the output 25 because Python looks for the name <b>age</b>, finds that it’s been assigned the value 25, and replaces the variable name with its value before calling the function.\n",
    "</div>"
   ]
  },
  {
   "cell_type": "markdown",
   "metadata": {},
   "source": [
    "<div class=\"alert-danger\">\n",
    "Variable names are case sensitive, so a variable named <b>age</b> is not the same as a variable named <b>Age</b>. \n",
    "</div>"
   ]
  },
  {
   "cell_type": "markdown",
   "metadata": {},
   "source": [
    "<div class=\"alert-info\">\n",
    "In Python, it’s common to write variable names in lower_case_with_underscores.\n",
    "</div>"
   ]
  },
  {
   "cell_type": "markdown",
   "metadata": {},
   "source": [
    "#### Leave Yourself Helpful Notes\n",
    "\n",
    "__How to Write a Comment__ The most common way to write a comment is to begin a new line in your code with the # character. When you run your code, Python ignores lines starting with #."
   ]
  },
  {
   "cell_type": "code",
   "execution_count": null,
   "metadata": {},
   "outputs": [],
   "source": [
    "# This variable stores the car length in cm\n",
    "L = 2000"
   ]
  },
  {
   "cell_type": "code",
   "execution_count": null,
   "metadata": {},
   "outputs": [],
   "source": [
    "print(L)"
   ]
  },
  {
   "cell_type": "code",
   "execution_count": null,
   "metadata": {},
   "outputs": [],
   "source": [
    "H = 146 # This variable stores the car height in cm"
   ]
  },
  {
   "cell_type": "code",
   "execution_count": null,
   "metadata": {},
   "outputs": [],
   "source": [
    "print(H)"
   ]
  },
  {
   "cell_type": "markdown",
   "metadata": {},
   "source": [
    "Multiline comments:"
   ]
  },
  {
   "cell_type": "code",
   "execution_count": null,
   "metadata": {},
   "outputs": [],
   "source": [
    "\"\"\"\n",
    "This is a brief description of my code\n",
    "Step 1 is ... \n",
    "Step 2 is ...\n",
    "Last is ...\n",
    "\"\"\""
   ]
  },
  {
   "cell_type": "markdown",
   "metadata": {},
   "source": [
    "### Data Types\n",
    "\n",
    "---"
   ]
  },
  {
   "cell_type": "markdown",
   "metadata": {},
   "source": [
    "<div class=\"alert-success\">\n",
    "The term <b>data type</b> refers to what kind of data a value represents. There are several data types built into Python. Such as Numerical data types (integer, float), boolean data type or string data type.\n",
    "</div>"
   ]
  },
  {
   "cell_type": "markdown",
   "metadata": {},
   "source": [
    "#### Numerical data type"
   ]
  },
  {
   "cell_type": "code",
   "execution_count": null,
   "metadata": {},
   "outputs": [],
   "source": [
    "num = 100          # An integer variable\n",
    "length = 10.7      # A floating point variable"
   ]
  },
  {
   "cell_type": "markdown",
   "metadata": {},
   "source": [
    "#### Boolean data type\n",
    "\n",
    "The fundamental data type boolean, or bool for short, can have only one of two values. In Python, these values are conveniently named __True__ and __False__."
   ]
  },
  {
   "cell_type": "code",
   "execution_count": null,
   "metadata": {},
   "outputs": [],
   "source": [
    "is_finished = True"
   ]
  },
  {
   "cell_type": "code",
   "execution_count": null,
   "metadata": {},
   "outputs": [],
   "source": [
    "is_finished = False"
   ]
  },
  {
   "cell_type": "markdown",
   "metadata": {},
   "source": [
    "#### Strings\n",
    "\n",
    "Strings in Python are identified as a contiguous set of characters represented in the quotation marks."
   ]
  },
  {
   "cell_type": "code",
   "execution_count": null,
   "metadata": {},
   "outputs": [],
   "source": [
    "name1 = \"Emlyon\""
   ]
  },
  {
   "cell_type": "markdown",
   "metadata": {},
   "source": [
    "<div class=\"alert-info\">\n",
    "    Python allows for either pairs of single or double quotes for the strings.\n",
    "</div>"
   ]
  },
  {
   "cell_type": "markdown",
   "metadata": {},
   "source": [
    "__Indexing__, which gets a single character from a string\n",
    "\n",
    "Each character in a string has a numbered position called an index.\n",
    "\n",
    "You can access the character at the __nth__ position by putting the number __n__ between two square brackets [] immediately after the string name."
   ]
  },
  {
   "cell_type": "code",
   "execution_count": null,
   "metadata": {},
   "outputs": [],
   "source": [
    "text = \"Python BootCamp\""
   ]
  },
  {
   "cell_type": "code",
   "execution_count": null,
   "metadata": {},
   "outputs": [],
   "source": [
    "text[7]"
   ]
  },
  {
   "cell_type": "markdown",
   "metadata": {},
   "source": [
    "<div class=\"alert-danger\">\n",
    "In Python—and in most other programming languages counting always starts at zero 0.\n",
    "</div>"
   ]
  },
  {
   "cell_type": "markdown",
   "metadata": {},
   "source": [
    "Strings also support negative indices"
   ]
  },
  {
   "cell_type": "code",
   "execution_count": null,
   "metadata": {},
   "outputs": [],
   "source": [
    "text[-1]"
   ]
  },
  {
   "cell_type": "markdown",
   "metadata": {},
   "source": [
    "__Slicing__, which gets several characters from a string at once\n",
    "\n",
    "You can extract a portion of a string, called a substring, by inserting a colon between two index numbers set inside square brackets like this:"
   ]
  },
  {
   "cell_type": "code",
   "execution_count": null,
   "metadata": {},
   "outputs": [],
   "source": [
    "text[0:6]"
   ]
  },
  {
   "cell_type": "markdown",
   "metadata": {},
   "source": [
    "__text[0:6]__ returns the first six characters of the string assigned to __text__, starting with the character at index 0 and going up to but not including the character at index 6.\n",
    "\n",
    "The __[0:6]__ part of __text[0:6]__ is called a __slice__.\n",
    "\n",
    "If you omit the first index in a slice, then Python assumes you want to start at index 0:"
   ]
  },
  {
   "cell_type": "code",
   "execution_count": null,
   "metadata": {},
   "outputs": [],
   "source": [
    "text[:6]"
   ]
  },
  {
   "cell_type": "markdown",
   "metadata": {},
   "source": [
    "Similarly, if you omit the second index in the slice, then Python assumes you want to return the substring that begins with the character whose index is the first number in the slice and ends with the last character in the string:"
   ]
  },
  {
   "cell_type": "code",
   "execution_count": null,
   "metadata": {},
   "outputs": [],
   "source": [
    "text[7:]"
   ]
  },
  {
   "cell_type": "markdown",
   "metadata": {},
   "source": [
    "#### None Data Type\n",
    "\n",
    "The `None` keyword is used to define a null value, or no value at all.\n",
    "\n",
    "None is not the same as 0, False, or an empty string. None is a data type of its own (NoneType) and only None can be None."
   ]
  },
  {
   "cell_type": "code",
   "execution_count": null,
   "metadata": {},
   "outputs": [],
   "source": [
    "my_var = None\n",
    "print(my_var)"
   ]
  },
  {
   "cell_type": "markdown",
   "metadata": {},
   "source": [
    "---"
   ]
  },
  {
   "cell_type": "markdown",
   "metadata": {},
   "source": [
    "<div class=\"alert-success\">\n",
    "Do's:<br/>\n",
    "<ul>\n",
    "    <li> Do create variables with meaningful names </li>\n",
    "    <li> Do use underscores _ for longer variables names, like <b>long_variable_name</b> </li>\n",
    "    <li> Do start your variable names with a lower case letter </li>\n",
    "</ul>\n",
    "</div>"
   ]
  },
  {
   "cell_type": "markdown",
   "metadata": {},
   "source": [
    "<div class=\"alert-danger\">\n",
    "Dont's:<br/>\n",
    "<ul>\n",
    "    <li> Don't call a variable \"print\", \"for\", \"in\" etc. since these are build in functions of python that you can override </li>\n",
    "    <li> Don't create a variable that starts with a number, like <b>01_var</b> </li>\n",
    "    <li> Don't create too long variable names </li>\n",
    "</ul>\n",
    "</div>"
   ]
  },
  {
   "cell_type": "markdown",
   "metadata": {},
   "source": [
    "---"
   ]
  },
  {
   "cell_type": "markdown",
   "metadata": {},
   "source": [
    "### Arithmetic Operators\n",
    "\n",
    "---"
   ]
  },
  {
   "cell_type": "markdown",
   "metadata": {},
   "source": [
    "Operators are used to perfrom operations on variables and values.\n",
    "Different variable types require a set of different operations (sometimes!)\n",
    "\n",
    "You could use arithmetic operators on integers and float type (such as below):\n",
    "\n",
    "| Operator | Operation |\n",
    "| --- | --- |\n",
    "| +  | Addition \n",
    "| -  | Subtraction \n",
    "| *  | Multiplication \n",
    "| /  | Division \n",
    "| ** | Exponent \n",
    "| // | Floor division "
   ]
  },
  {
   "cell_type": "code",
   "execution_count": null,
   "metadata": {},
   "outputs": [],
   "source": [
    "2 + 2"
   ]
  },
  {
   "cell_type": "code",
   "execution_count": null,
   "metadata": {},
   "outputs": [],
   "source": [
    "3 * 2 "
   ]
  },
  {
   "cell_type": "code",
   "execution_count": null,
   "metadata": {},
   "outputs": [],
   "source": [
    "3 ** 2"
   ]
  },
  {
   "cell_type": "markdown",
   "metadata": {},
   "source": [
    "<div class=\"alert-warning\">\n",
    "    In Python 3, <code>/</code> denotes the standard division and <code>//</code> denotes the integer division, whereas in Python 2, <code>/</code> denotes the integer division.\n",
    "</div>"
   ]
  },
  {
   "cell_type": "code",
   "execution_count": null,
   "metadata": {},
   "outputs": [],
   "source": [
    "5 / 2"
   ]
  },
  {
   "cell_type": "code",
   "execution_count": null,
   "metadata": {},
   "outputs": [],
   "source": [
    "5 // 2"
   ]
  },
  {
   "cell_type": "markdown",
   "metadata": {},
   "source": [
    "You may also use some of the arithmetic operations over 'str' type, for example:"
   ]
  },
  {
   "cell_type": "code",
   "execution_count": null,
   "metadata": {},
   "outputs": [],
   "source": [
    "'2' + '4'"
   ]
  },
  {
   "cell_type": "code",
   "execution_count": null,
   "metadata": {},
   "outputs": [],
   "source": [
    "'2' * '4'"
   ]
  },
  {
   "cell_type": "code",
   "execution_count": null,
   "metadata": {},
   "outputs": [],
   "source": [
    "2 * 'S'"
   ]
  },
  {
   "cell_type": "markdown",
   "metadata": {},
   "source": [
    "### Comparison Operators\n",
    "\n",
    "---"
   ]
  },
  {
   "cell_type": "markdown",
   "metadata": {},
   "source": [
    "The result of the 'comparison' is a boolean value (__True__ or __False__)\n",
    " \n",
    "| Operator | Description | Example |\n",
    "| --- | --- | --- |\n",
    "| == |\tequal \t| 1 == 1\n",
    "| != |\tnot equal |\t2.3 != 2.313\n",
    "| <  |\tless than \t| 2.5 < 9 \t\n",
    "| >  |\tgreater than  |\t2.4 > 2.399\n",
    "| <= |\tless than or equal | 3 <= 3\n",
    "| >= |\tgreater than or equal | 2.4 >= 2.399 \n"
   ]
  },
  {
   "cell_type": "code",
   "execution_count": null,
   "metadata": {},
   "outputs": [],
   "source": [
    "2.5 < 3"
   ]
  },
  {
   "cell_type": "markdown",
   "metadata": {},
   "source": [
    "### Logical Operators\n",
    "\n",
    "---"
   ]
  },
  {
   "cell_type": "markdown",
   "metadata": {},
   "source": [
    "Logical operators take boolean values as input and produce either __True__ or __False__ as output.\n",
    "\n",
    "| Operator | Description | \n",
    "| --- | --- | \n",
    "x __or__ y | if either of x or y is True, return True; otherwise, return False\n",
    "x __and__ y | if both x and y are True, return True; otherwise, return False\n",
    "__not__ x | reverse x and return (return False, if x is True)"
   ]
  },
  {
   "cell_type": "code",
   "execution_count": null,
   "metadata": {},
   "outputs": [],
   "source": [
    "(2 == 3) or (4 < 5)"
   ]
  },
  {
   "cell_type": "code",
   "execution_count": null,
   "metadata": {},
   "outputs": [],
   "source": [
    "(2 == 3) and (4 < 5)"
   ]
  },
  {
   "cell_type": "code",
   "execution_count": null,
   "metadata": {},
   "outputs": [],
   "source": [
    "not (2 == 3)"
   ]
  },
  {
   "cell_type": "markdown",
   "metadata": {},
   "source": [
    "<div class=\"alert-warning\">\n",
    "    We will see more on Comparison and Logical Operators later.\n",
    "</div>"
   ]
  },
  {
   "cell_type": "markdown",
   "metadata": {},
   "source": [
    "### Type casting\n",
    "\n",
    "---"
   ]
  },
  {
   "cell_type": "markdown",
   "metadata": {},
   "source": [
    "If you want to change one data type to another we may use the following functions: int(), str(), float(), bool()"
   ]
  },
  {
   "cell_type": "code",
   "execution_count": null,
   "metadata": {},
   "outputs": [],
   "source": [
    "int(9.9)"
   ]
  },
  {
   "cell_type": "code",
   "execution_count": null,
   "metadata": {},
   "outputs": [],
   "source": [
    "str(5)"
   ]
  },
  {
   "cell_type": "code",
   "execution_count": null,
   "metadata": {},
   "outputs": [],
   "source": [
    "bool(1)"
   ]
  },
  {
   "cell_type": "code",
   "execution_count": null,
   "metadata": {},
   "outputs": [],
   "source": [
    "int(\"Yes!\")"
   ]
  },
  {
   "cell_type": "markdown",
   "metadata": {},
   "source": [
    "__remember__  You may need to cast 'str' to 'int' before doing any arithmetic operations:"
   ]
  },
  {
   "cell_type": "code",
   "execution_count": null,
   "metadata": {},
   "outputs": [],
   "source": [
    "# wrong\n",
    "a = 34\n",
    "b = \"10\"\n",
    "a + b"
   ]
  },
  {
   "cell_type": "code",
   "execution_count": null,
   "metadata": {},
   "outputs": [],
   "source": [
    "# correct\n",
    "a = 34\n",
    "b = \"10\"\n",
    "a + int(b)"
   ]
  },
  {
   "cell_type": "markdown",
   "metadata": {},
   "source": [
    "<div class=\"alert-info\">\n",
    "Almost any value is evaluated to True if it has some sort of content. Any string is True, except empty strings. Any number is True, except 0.\n",
    "</div>"
   ]
  },
  {
   "cell_type": "markdown",
   "metadata": {},
   "source": [
    "<div class=\"alert-info\">\n",
    "These four data types (int,float,str,bool) are so-called “Primitive types”.\n",
    "</div>"
   ]
  },
  {
   "cell_type": "markdown",
   "metadata": {},
   "source": [
    "### String Formatting\n",
    "\n",
    "---"
   ]
  },
  {
   "cell_type": "markdown",
   "metadata": {},
   "source": [
    "Suppose you have a string name = \"Doctor Strange\" and two integers heads = 2 and arms = 3. \n",
    "\n",
    "You want to display them in the following line: Doctor Strange has 2 heads and 3 arms. \n",
    "\n",
    "The first way of doing this is using commas to insert spaces between each part of the string inside of a print() function:"
   ]
  },
  {
   "cell_type": "code",
   "execution_count": null,
   "metadata": {},
   "outputs": [],
   "source": [
    "name = \"Doctor Strange\" \n",
    "heads = 2\n",
    "arms = 3\n",
    "\n",
    "print(name, \"has\", str(heads), \"heads and\", str(arms), \"arms.\")"
   ]
  },
  {
   "cell_type": "markdown",
   "metadata": {},
   "source": [
    "Another way to do this is by concatenating the strings with the + operator:"
   ]
  },
  {
   "cell_type": "code",
   "execution_count": null,
   "metadata": {},
   "outputs": [],
   "source": [
    "print(name + \" has \" + str(heads) + \" heads and \" + str(arms) + \" arms.\")"
   ]
  },
  {
   "cell_type": "markdown",
   "metadata": {},
   "source": [
    "There’s a third way of combining strings: __formatted string literals__, more commonly known as __f-strings__.\n",
    "\n",
    "Here’s what the above string looks like when written as an f-string:"
   ]
  },
  {
   "cell_type": "code",
   "execution_count": null,
   "metadata": {},
   "outputs": [],
   "source": [
    "print(f\"{name} has {heads} heads and {arms} arms.\")"
   ]
  },
  {
   "cell_type": "markdown",
   "metadata": {},
   "source": [
    "There are two important things to notice about the above examples:\n",
    "\n",
    "1. The string literal starts with the letter f before the opening quotation mark\n",
    "2. Variable names surrounded by curly braces { and } are replaced with their corresponding values without using str()"
   ]
  },
  {
   "cell_type": "markdown",
   "metadata": {},
   "source": [
    "<div class=\"alert-warning\">\n",
    "f-strings are only available in Python version 3.6 and above.\n",
    "</div>"
   ]
  },
  {
   "cell_type": "markdown",
   "metadata": {},
   "source": [
    "the __format()__ method:"
   ]
  },
  {
   "cell_type": "code",
   "execution_count": null,
   "metadata": {},
   "outputs": [],
   "source": [
    "\"{} has {} heads and {} arms.\".format(name, heads, arms)"
   ]
  },
  {
   "cell_type": "markdown",
   "metadata": {},
   "source": [
    "the __%__ operator:"
   ]
  },
  {
   "cell_type": "code",
   "execution_count": null,
   "metadata": {},
   "outputs": [],
   "source": [
    "\"%s has %s heads and %s arms.\" % (name, heads, arms)"
   ]
  },
  {
   "cell_type": "markdown",
   "metadata": {},
   "source": [
    "### User Inputs:\n",
    "\n",
    "---"
   ]
  },
  {
   "cell_type": "markdown",
   "metadata": {},
   "source": [
    "In this section, you will learn how to get some input from a user with the __input()__ function.\n",
    "\n",
    "Try this:"
   ]
  },
  {
   "cell_type": "code",
   "execution_count": null,
   "metadata": {},
   "outputs": [],
   "source": [
    "input()"
   ]
  },
  {
   "cell_type": "markdown",
   "metadata": {},
   "source": [
    "<div class=\"alert-warning\">\n",
    "    The input() returns any text entered by the user as a <b>string</b>.\n",
    "</div>"
   ]
  },
  {
   "cell_type": "markdown",
   "metadata": {},
   "source": [
    "To make input() a bit more user friendly, you can give it a prompt to display to the user.\n",
    "\n",
    "The prompt is just a string that you put in between the parentheses of input().\n",
    "\n",
    "The input() function displays the prompt and waits for the user to type something on their keyboard. \n",
    "\n",
    "When the user hits Enter, input() returns their input as a string that can be assigned to a variable and used to do something in your program:"
   ]
  },
  {
   "cell_type": "code",
   "execution_count": null,
   "metadata": {},
   "outputs": [],
   "source": [
    "age = input(\"Please enter you age?\")"
   ]
  },
  {
   "cell_type": "code",
   "execution_count": null,
   "metadata": {},
   "outputs": [],
   "source": [
    "print(age)"
   ]
  },
  {
   "cell_type": "markdown",
   "metadata": {},
   "source": [
    "### Try and except\n",
    "\n",
    "---"
   ]
  },
  {
   "cell_type": "markdown",
   "metadata": {},
   "source": [
    "In your program, you can use `try` and `except` to stop the execution when something get wrong."
   ]
  },
  {
   "cell_type": "code",
   "execution_count": null,
   "metadata": {},
   "outputs": [],
   "source": [
    "try:\n",
    "    age = int( input(\"Please enter you age? \") )\n",
    "    print(age)\n",
    "except:\n",
    "    print(\"Please enter an integer number for the age.\")"
   ]
  },
  {
   "cell_type": "markdown",
   "metadata": {},
   "source": [
    "### Conditionals: If-statements\n",
    "\n",
    "---"
   ]
  },
  {
   "cell_type": "markdown",
   "metadata": {},
   "source": [
    "If-statements are very useful, because they allow you to execute parts of your code based on whether a condition is met. Here is a short example:\n",
    "\n",
    "<code>\n",
    "if condition :\n",
    "    bit of code\n",
    "else :\n",
    "    bit of code\n",
    "</code>\n",
    "\n",
    "As long as the statement after the keyword \"if\" evaluates to True, the indented code block will run. If the statement is False, all the indented parts will just be skipped when running the program."
   ]
  },
  {
   "cell_type": "code",
   "execution_count": null,
   "metadata": {},
   "outputs": [],
   "source": [
    "x = 10\n",
    "if x > 0:\n",
    "    print(\"x is positive!\")"
   ]
  },
  {
   "cell_type": "code",
   "execution_count": null,
   "metadata": {},
   "outputs": [],
   "source": [
    "x = 10\n",
    "if x > 0:\n",
    "    print(\"x is positive!\")\n",
    "else:\n",
    "    print(\"x is zero or negative!\")"
   ]
  },
  {
   "cell_type": "code",
   "execution_count": null,
   "metadata": {},
   "outputs": [],
   "source": [
    "x = 10\n",
    "if x > 0:\n",
    "    print(\"x is positive!\")\n",
    "elif x < 0:\n",
    "    print(\"x is negative!\")\n",
    "else:\n",
    "    print(\"x is zero!\")"
   ]
  },
  {
   "cell_type": "markdown",
   "metadata": {},
   "source": [
    "### Functions\n",
    "\n",
    "---"
   ]
  },
  {
   "cell_type": "markdown",
   "metadata": {},
   "source": [
    "Functions break code into smaller chunks, and are great for tasks that a program uses repeatedly. Instead of writing the same code each time the program need to perform the task, just call the function.\n",
    "\n",
    "We define a function using the __`def`__ keyword:"
   ]
  },
  {
   "cell_type": "code",
   "execution_count": null,
   "metadata": {},
   "outputs": [],
   "source": [
    "def multiply(x, y): # Function signature\n",
    "    \n",
    "    product = x * y # Function body\n",
    "\n",
    "    return product # Return statement"
   ]
  },
  {
   "cell_type": "markdown",
   "metadata": {},
   "source": [
    "When defined, you can __call__ functions to use it:"
   ]
  },
  {
   "cell_type": "code",
   "execution_count": null,
   "metadata": {},
   "outputs": [],
   "source": [
    "result = multiply(5, 7)\n",
    "print(result)"
   ]
  },
  {
   "cell_type": "markdown",
   "metadata": {},
   "source": [
    "<div class=\"alert-info\"> \n",
    "<ol>\n",
    "<li> The function is <b>called</b>, and any arguments are passed to the function as input. </li>\n",
    "<li> The function <b>executes</b>, and some action is performed with the\n",
    "arguments. </li>\n",
    "    <li> The function <b>returns</b>, and the original function call is replaced\n",
    "with the return value. </li>\n",
    "</ol>\n",
    "</div>"
   ]
  },
  {
   "cell_type": "markdown",
   "metadata": {},
   "source": [
    "You’ve already seen how to use several functions, for example `print()` and `type()`. These are all __built-in functions__ because they come built into the Python language itself. e.g. `len()`, `type()`, `print()`, `min()`, `max()`, `range()`"
   ]
  },
  {
   "cell_type": "markdown",
   "metadata": {},
   "source": [
    "### Loops\n",
    "\n",
    "---"
   ]
  },
  {
   "cell_type": "markdown",
   "metadata": {},
   "source": [
    "Loops help us with tasks that are sometimes very similar, to avoid repeating ourselves.\n",
    "\n",
    "There are 2 ways to implement a loop, using the __`for`__ or __`while`__ statement.\n",
    "\n",
    "__For loops structure:__\n",
    "\n",
    "<code>\n",
    "for [every_element] in [my_sequence]:\n",
    "   do something\n",
    "</code>\n",
    "\n",
    "Use For loops when you know how many times you want to do something."
   ]
  },
  {
   "cell_type": "code",
   "execution_count": null,
   "metadata": {},
   "outputs": [],
   "source": [
    "for i in range(5):\n",
    "    print(i)\n",
    "    print(\"hi\")"
   ]
  },
  {
   "cell_type": "markdown",
   "metadata": {},
   "source": [
    "Structure wise the __While Loops__ can be understood like:\n",
    " \n",
    "<code>\n",
    "while [condition]:\n",
    "   do whatever\n",
    "</code>\n",
    "\n",
    "While Loop might be used for some more uncertain tasks where we only know when to stop, but not how many times a certain task needs to be done."
   ]
  },
  {
   "cell_type": "code",
   "execution_count": null,
   "metadata": {},
   "outputs": [],
   "source": [
    "i = 0\n",
    "while i < 5:\n",
    "    print(i)\n",
    "    print(\"hi\")\n",
    "    \n",
    "    i = i + 1"
   ]
  },
  {
   "cell_type": "markdown",
   "metadata": {},
   "source": [
    "---"
   ]
  },
  {
   "cell_type": "code",
   "execution_count": null,
   "metadata": {},
   "outputs": [],
   "source": []
  }
 ],
 "metadata": {
  "kernelspec": {
   "display_name": "Python 3 (ipykernel)",
   "language": "python",
   "name": "python3"
  },
  "language_info": {
   "codemirror_mode": {
    "name": "ipython",
    "version": 3
   },
   "file_extension": ".py",
   "mimetype": "text/x-python",
   "name": "python",
   "nbconvert_exporter": "python",
   "pygments_lexer": "ipython3",
   "version": "3.11.5"
  },
  "toc": {
   "base_numbering": 1,
   "nav_menu": {},
   "number_sections": true,
   "sideBar": true,
   "skip_h1_title": false,
   "title_cell": "Table of Contents",
   "title_sidebar": "Contents",
   "toc_cell": false,
   "toc_position": {},
   "toc_section_display": true,
   "toc_window_display": false
  }
 },
 "nbformat": 4,
 "nbformat_minor": 4
}
