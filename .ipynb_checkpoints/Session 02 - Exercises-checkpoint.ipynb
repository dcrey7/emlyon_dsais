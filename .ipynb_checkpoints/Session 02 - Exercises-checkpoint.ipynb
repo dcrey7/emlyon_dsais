{
 "cells": [
  {
   "cell_type": "markdown",
   "metadata": {},
   "source": [
    "<table style=\"float:left\">\n",
    "    <tr>\n",
    "        <td>\n",
    "            <img src=\"images/emlyon.png\" style=\"height:60px; float:left; padding-right:10px; margin-top:5px\" />\n",
    "        </td>\n",
    "        <td style=\"padding-bottom:10px;\">\n",
    "            <h1 style=\"border-bottom: 1px solid #eeeeee;\"> AI Booster Week 01 - Python for Data Science </h1>\n",
    "            <span style=\"display:inline-block; margin-top:-15px;\">\n",
    "            <a href=\"https://masters.em-lyon.com/fr/msc-in-data-science-artificial-intelligence-strategy\">[Emlyon]</a> MSc in Data Science & Artificial Intelligence Strategy (DSAIS)    \n",
    "            <br/>\n",
    "            Sep 2024, Paris | © Saeed VARASTEH\n",
    "            </span>\n",
    "        </td>\n",
    "    </tr>\n",
    "</table>"
   ]
  },
  {
   "cell_type": "markdown",
   "metadata": {},
   "source": [
    "<div class=\"alert-info\" style=\"border-bottom: solid 1px lightgray; background-color:#ece4f5;\">\n",
    "    <img src=\"images/assignment.png\" style=\"height:60px; float:left; padding-right:10px;\" />\n",
    "    <span style=\"font-weight:bold; color:#8966b0\">\n",
    "        <h4 style=\"padding-top:25px;\"> EXERCISES 02 </h4>\n",
    "    </span>\n",
    "</div>"
   ]
  },
  {
   "cell_type": "markdown",
   "metadata": {},
   "source": [
    "### Lists"
   ]
  },
  {
   "cell_type": "markdown",
   "metadata": {},
   "source": [
    "__Q1__ Write a piece of code to split the following string into separate words (returns the list of strings).\n",
    "\n",
    "Hint: There is a string method that can help you with this."
   ]
  },
  {
   "cell_type": "code",
   "execution_count": null,
   "metadata": {},
   "outputs": [],
   "source": [
    "a=5\n",
    "a=\"5\""
   ]
  },
  {
   "cell_type": "code",
   "execution_count": 28,
   "metadata": {},
   "outputs": [
    {
     "data": {
      "text/plain": [
       "['S', ', many, b', '', 'ks, s', ',  little, time']"
      ]
     },
     "execution_count": 28,
     "metadata": {},
     "output_type": "execute_result"
    }
   ],
   "source": [
    "mystr = \"So, many, books, so,  little, time\"\n",
    "splitstring=mystr.split(\"o\")\n",
    "splitstring"
   ]
  },
  {
   "cell_type": "code",
   "execution_count": 22,
   "metadata": {},
   "outputs": [
    {
     "data": {
      "text/plain": [
       "'So +  many +  books +  so +   little +  time'"
      ]
     },
     "execution_count": 22,
     "metadata": {},
     "output_type": "execute_result"
    }
   ],
   "source": [
    "\" + \".join(splitstring)"
   ]
  },
  {
   "cell_type": "markdown",
   "metadata": {},
   "source": [
    "__Q2__ Write a function that calculates the average length of words in a text. Your function must return two values:\n",
    "\n",
    "    - The number of words in the text\n",
    "    - The average length of the words\n",
    "\n",
    "If the text is empty, return None and print out an error message.\n",
    "\n",
    "Hint: You can use here the `split()` method applied to text. This method will split your text into multiple pieces. The delimiter should be defined as argument of the `split()` function. "
   ]
  },
  {
   "cell_type": "code",
   "execution_count": 45,
   "metadata": {},
   "outputs": [
    {
     "name": "stdout",
     "output_type": "stream",
     "text": [
      "enter text: what thee pplllas sdd\n"
     ]
    },
    {
     "data": {
      "text/plain": [
       "(4, 4.5)"
      ]
     },
     "execution_count": 45,
     "metadata": {},
     "output_type": "execute_result"
    }
   ],
   "source": [
    "def text_stats(text):\n",
    "    if text==\"\":\n",
    "        warning_msg = \"Warning: The input is empty.\"\n",
    "        print(warning_msg)\n",
    "        return None,None\n",
    "    \n",
    "    # your code\n",
    "    else:\n",
    "        \n",
    "        length_list=[]\n",
    "        splitstring=text.split(\" \")\n",
    "        for i in splitstring:\n",
    "            length=len(i)\n",
    "            length_list.append(length)\n",
    "        \n",
    "        count=len(splitstring)\n",
    "        length_mean=sum(length_list)/len(length_list)\n",
    "        return count,length_mean\n",
    "    \n",
    "text=input(\"enter text: \")    \n",
    "text_stats(text)\n"
   ]
  },
  {
   "cell_type": "markdown",
   "metadata": {},
   "source": [
    "__Q3__ Consider this list of names:"
   ]
  },
  {
   "cell_type": "code",
   "execution_count": 14,
   "metadata": {},
   "outputs": [],
   "source": [
    "names = ['frederica', 'gilbert', 'amine', 'gael', 'annie', 'bob']\n"
   ]
  },
  {
   "cell_type": "markdown",
   "metadata": {},
   "source": [
    "Write a line of code __using list comprehension__ to create a new list containing the length of each word in the input list of names."
   ]
  },
  {
   "cell_type": "code",
   "execution_count": 16,
   "metadata": {},
   "outputs": [
    {
     "data": {
      "text/plain": [
       "[9, 7, 5, 4, 5, 3]"
      ]
     },
     "execution_count": 16,
     "metadata": {},
     "output_type": "execute_result"
    }
   ],
   "source": [
    "lengths = [len(i) for i in names ]\n",
    "lengths"
   ]
  },
  {
   "cell_type": "markdown",
   "metadata": {},
   "source": [
    "### Dictionaries"
   ]
  },
  {
   "cell_type": "markdown",
   "metadata": {},
   "source": [
    "__Q4__ Write a function that adds one to every numeric value in a dictionary. If the value is not numeric (i.e. not an int or float), don't add anything, but keep the same value. The function should take a dictionary as an argument and return the modified dictionary.\n",
    "\n",
    "Note: You will probably need to use functions like `isinstance()` to check whether a value is a number or not."
   ]
  },
  {
   "cell_type": "code",
   "execution_count": 19,
   "metadata": {},
   "outputs": [
    {
     "data": {
      "text/plain": [
       "False"
      ]
     },
     "execution_count": 19,
     "metadata": {},
     "output_type": "execute_result"
    }
   ],
   "source": [
    "x = isinstance(\"Hello\", (float, int, str, list, dict, tuple))\n",
    "x"
   ]
  },
  {
   "cell_type": "code",
   "execution_count": 29,
   "metadata": {},
   "outputs": [],
   "source": [
    "def addtovalue(dictionary):\n",
    "    for key,value in dictionary.items():\n",
    "        if isinstance(value,(float, int)):\n",
    "            dictionary[key]=value+1\n",
    "        else:\n",
    "            dictionary[key]=value\n",
    "        \n",
    "    return dictionary\n",
    "            \n",
    "    # your code\n",
    "    \n",
    "      "
   ]
  },
  {
   "cell_type": "code",
   "execution_count": 30,
   "metadata": {},
   "outputs": [
    {
     "data": {
      "text/plain": [
       "{'fred': 4.3, 'marie': '5', 'jean': 15, 'angus': 45, 'amine': None}"
      ]
     },
     "execution_count": 30,
     "metadata": {},
     "output_type": "execute_result"
    }
   ],
   "source": [
    "testdict = { 'fred': 3.3, 'marie': '5', 'jean': 14, 'angus': 44, 'amine': None}\n",
    "addtovalue(testdict)"
   ]
  },
  {
   "cell_type": "markdown",
   "metadata": {},
   "source": [
    "### Modules"
   ]
  },
  {
   "cell_type": "markdown",
   "metadata": {},
   "source": [
    "__Q5__ Using `math`, write two functions `calculate_x` and `calculate_y` that take an intput `n` between 1 and 12 as an argument and return the respective value of the following formulas. \n",
    "\n",
    "$$ calculate_x(n) = 3 * sin( \\frac{n*\\pi}{6} ) $$\n",
    "$$ calculate_y(n) = 3 * cos( \\frac{n*\\pi}{6} ) $$\n",
    "\n",
    "If intput `n` is not an integer or between 1 and 12, the functions should return -1."
   ]
  },
  {
   "cell_type": "code",
   "execution_count": 43,
   "metadata": {},
   "outputs": [],
   "source": [
    "from math import sin as sin\n",
    "from math import cos as cos\n",
    "from math import pi as pi\n",
    "\n",
    "def calculate_x(n):\n",
    "    if (n>=1) and (n<=12):\n",
    "        answer=3*(sin((n*pi)/6))\n",
    "        return answer\n",
    "    else:\n",
    "        return -1\n",
    "\n",
    "\n",
    "def calculate_y(n):\n",
    "    if (n>=1) and (n<=12):\n",
    "        answer=3*(cos((n*pi)/6))\n",
    "        return answer\n",
    "    else:\n",
    "        return -1"
   ]
  },
  {
   "cell_type": "code",
   "execution_count": 44,
   "metadata": {},
   "outputs": [
    {
     "name": "stdout",
     "output_type": "stream",
     "text": [
      "enter no. from 1 to 12: 0\n",
      "-1\n",
      "-1\n"
     ]
    }
   ],
   "source": [
    "n=int(input(\"enter no. from 1 to 12: \"))\n",
    "print(calculate_x(n))\n",
    "print(calculate_y(n))"
   ]
  },
  {
   "cell_type": "markdown",
   "metadata": {},
   "source": [
    "<div style=' background-color:#faf9e8'> \n",
    "    <b>Q6</b> Guessing Game.\n",
    "</div>"
   ]
  },
  {
   "cell_type": "markdown",
   "metadata": {},
   "source": [
    "Note: You can generate random numbers using the `random()` and `randint()` functions from the __random__ module in Python."
   ]
  },
  {
   "cell_type": "code",
   "execution_count": 46,
   "metadata": {},
   "outputs": [
    {
     "name": "stdout",
     "output_type": "stream",
     "text": [
      "2\n",
      "9\n"
     ]
    }
   ],
   "source": [
    "from random import randint\n",
    "n = randint(1, 10)\n",
    "print(n)\n",
    "\n",
    "n = randint(1, 10)\n",
    "print(n)"
   ]
  },
  {
   "cell_type": "markdown",
   "metadata": {},
   "source": [
    "Use random number generation to program a little game:\n",
    "\n",
    "The computer thinks of a random number between 1 and 100. It then prompts the user to guess what the number is. If the user is wrong, the computer prints whether the secret number is greater or smaller than the guessed one. The user may then guess again. If the user is finally right, the computer prints the user’s score (number of tries it took).\n",
    "\n",
    "Example Output:\n",
    "\n",
    "<pre>\n",
    "Ok, I have thought of a number. First guess: <b>10</b> \n",
    "My number is smaller than that. Next guess: <b>5</b> \n",
    "My number is larger than that. Next guess: <b>7</b> \n",
    "Correct! It took you 3 guesses.\n",
    "</pre>"
   ]
  },
  {
   "cell_type": "code",
   "execution_count": 92,
   "metadata": {},
   "outputs": [
    {
     "name": "stdout",
     "output_type": "stream",
     "text": [
      "arhddd 5\n"
     ]
    }
   ],
   "source": [
    "print(f\"arhddd {5}\")"
   ]
  },
  {
   "cell_type": "code",
   "execution_count": 99,
   "metadata": {},
   "outputs": [
    {
     "name": "stdout",
     "output_type": "stream",
     "text": [
      "Ok, I have thought of a number. First guess: 1\n",
      "My number is larger than that. Next guess: 9\n",
      "My number is smaller than that. Next guess: 5\n",
      "My number is smaller than that. Next guess: 4\n",
      "Correct! It took you 4 guesses.\n"
     ]
    }
   ],
   "source": [
    "g = randint(1, 10)\n",
    "count=1\n",
    "n=int(input(\"Ok, I have thought of a number. First guess: \"))\n",
    "while g!=n:\n",
    "\n",
    "    if g>n:\n",
    "        n=int(input(\"My number is larger than that. Next guess: \"))\n",
    "    else:\n",
    "        n=int(input(\"My number is smaller than that. Next guess: \"))\n",
    "    count+=1\n",
    "print(f\"Correct! It took you {count} guesses.\")\n",
    "    "
   ]
  },
  {
   "cell_type": "markdown",
   "metadata": {},
   "source": [
    "<div style=' background-color:#fae8ea'> \n",
    "    <b>Q7</b> More Random!\n",
    "</div>\n",
    "\n",
    "Writea program that generates a string of variable length n like this: XXOOOXXXOOOXXXXXXXOO\n",
    "\n",
    "where the probability of having __X__ and __O__ in this string is 70% and 30% respectively."
   ]
  },
  {
   "cell_type": "code",
   "execution_count": 100,
   "metadata": {},
   "outputs": [
    {
     "name": "stdout",
     "output_type": "stream",
     "text": [
      "['X', 'O', 'X', 'O', 'X', 'X', 'X', 'X', 'O', 'X']\n"
     ]
    },
    {
     "data": {
      "text/plain": [
       "'XOXOXXXXOX'"
      ]
     },
     "execution_count": 100,
     "metadata": {},
     "output_type": "execute_result"
    }
   ],
   "source": [
    "from random import random\n",
    "xo=[]\n",
    "for i in range(10):\n",
    "    n = random()\n",
    "    if n < 0.3:\n",
    "        xo.append(\"O\")\n",
    "    else:\n",
    "        xo.append(\"X\")\n",
    "print(xo)   \n",
    "\"\".join(xo)"
   ]
  },
  {
   "cell_type": "markdown",
   "metadata": {},
   "source": [
    "---"
   ]
  }
 ],
 "metadata": {
  "kernelspec": {
   "display_name": "Python 3 (ipykernel)",
   "language": "python",
   "name": "python3"
  },
  "language_info": {
   "codemirror_mode": {
    "name": "ipython",
    "version": 3
   },
   "file_extension": ".py",
   "mimetype": "text/x-python",
   "name": "python",
   "nbconvert_exporter": "python",
   "pygments_lexer": "ipython3",
   "version": "3.11.5"
  },
  "toc": {
   "base_numbering": 1,
   "nav_menu": {},
   "number_sections": true,
   "sideBar": true,
   "skip_h1_title": false,
   "title_cell": "Table of Contents",
   "title_sidebar": "Contents",
   "toc_cell": false,
   "toc_position": {},
   "toc_section_display": true,
   "toc_window_display": false
  }
 },
 "nbformat": 4,
 "nbformat_minor": 4
}
