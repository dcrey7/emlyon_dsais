{
 "cells": [
  {
   "cell_type": "markdown",
   "id": "5c021d2a",
   "metadata": {},
   "source": [
    "<table style=\"float:left\">\n",
    "    <tr>\n",
    "        <td>\n",
    "            <img src=\"images/emlyon.png\" style=\"height:60px; float:left; padding-right:10px; margin-top:5px\" />\n",
    "        </td>\n",
    "        <td style=\"padding-bottom:10px;\">\n",
    "            <h1 style=\"border-bottom: 1px solid #eeeeee;\"> AI Booster Week 01 - Python for Data Science </h1>\n",
    "            <span style=\"display:inline-block; margin-top:-15px;\">\n",
    "            <a href=\"https://masters.em-lyon.com/fr/msc-in-data-science-artificial-intelligence-strategy\">[Emlyon]</a> MSc in Data Science & Artificial Intelligence Strategy (DSAIS)    \n",
    "            <br/>\n",
    "            Sep 2024, Paris | © Vincent SCHOOTS\n",
    "            </span>\n",
    "        </td>\n",
    "    </tr>\n",
    "</table>"
   ]
  },
  {
   "cell_type": "markdown",
   "id": "59b91810",
   "metadata": {},
   "source": [
    "### Exercise 1: Convert two lists into a dictionary\n",
    "\n",
    "Below are the two lists. Write a Python program to convert them into a dictionary in a way that item from list1 is the key and item from list2 is the value\n",
    "\n",
    "Use the zip() function. This function takes two or more iterables (like list, dict, string), aggregates them in a tuple, and returns it.\n",
    "\n",
    "Expected Output:\n",
    "`{'Ten': 10, 'Twenty': 20, 'Thirty': 30}`"
   ]
  },
  {
   "cell_type": "code",
   "execution_count": 2,
   "id": "532d1197",
   "metadata": {},
   "outputs": [],
   "source": [
    "keys = ['Ten', 'Twenty', 'Thirty']\n",
    "values = [10, 20, 30]"
   ]
  },
  {
   "cell_type": "code",
   "execution_count": 8,
   "id": "0547569e",
   "metadata": {},
   "outputs": [
    {
     "data": {
      "text/plain": [
       "{'Ten': 10, 'Twenty': 20, 'Thirty': 30}"
      ]
     },
     "execution_count": 8,
     "metadata": {},
     "output_type": "execute_result"
    }
   ],
   "source": [
    "# your_code_here\n",
    "\n",
    "new_dict = {keys: values for keys,\n",
    "            values in zip(keys, values)}\n",
    "new_dict"
   ]
  },
  {
   "cell_type": "markdown",
   "id": "afa48c3a",
   "metadata": {},
   "source": [
    "### Exercise 2:\n",
    "__Calculate sum of all numbers from 1 to a given number__\n",
    "\n",
    "Write a Python program to accept a number from a user and calculate the sum of all numbers from 1 to a given number\n",
    "\n",
    "For example, if the user entered 10, the output should be 55 (1+2+3+4+5+6+7+8+9+10)\n",
    "\n",
    "Expected Output:\n",
    "\n",
    "`Enter number 10\n",
    "Sum is:  55`"
   ]
  },
  {
   "cell_type": "code",
   "execution_count": 15,
   "id": "7ffcb5d1",
   "metadata": {},
   "outputs": [
    {
     "name": "stdout",
     "output_type": "stream",
     "text": [
      "enter number: 10\n",
      "Sum is: 55\n"
     ]
    }
   ],
   "source": [
    "# Get input\n",
    "def summin(n):\n",
    "    sum=0\n",
    "    for i in range(0,n+1):\n",
    "        sum=sum+i\n",
    "    print(f\"Sum is: {sum}\")\n",
    "\n",
    "\n",
    "# Pass range of numbers to sum() function\n",
    "n=int(input(\"enter number: \"))\n",
    "summin(n)\n"
   ]
  },
  {
   "cell_type": "markdown",
   "id": "2f1d6374",
   "metadata": {},
   "source": [
    "### Exercise 3: \n",
    "__Write a function called mul_table that takes as input a number and prints the multiplication table of that number__\n",
    "\n",
    "Then run it.\n",
    "\n",
    "See if you can use the .format() method\n",
    "\n",
    "Expected output when input = 9:\n",
    "\n",
    "`9 * 1 = 9\n",
    "9 * 2 = 18\n",
    "9 * 3 = 27\n",
    "9 * 4 = 36\n",
    "9 * 5 = 45\n",
    "9 * 6 = 54\n",
    "9 * 7 = 63\n",
    "9 * 8 = 72\n",
    "9 * 9 = 81\n",
    "9 * 10 = 90`"
   ]
  },
  {
   "cell_type": "code",
   "execution_count": 17,
   "id": "da6c9854",
   "metadata": {},
   "outputs": [
    {
     "name": "stdout",
     "output_type": "stream",
     "text": [
      "9 * 1 = 9 \n",
      "9 * 2 = 18 \n",
      "9 * 3 = 27 \n",
      "9 * 4 = 36 \n",
      "9 * 5 = 45 \n",
      "9 * 6 = 54 \n",
      "9 * 7 = 63 \n",
      "9 * 8 = 72 \n",
      "9 * 9 = 81 \n",
      "9 * 10 = 90 \n"
     ]
    }
   ],
   "source": [
    "# your_code_here\n",
    "\n",
    "def mul_table(n):\n",
    "    for i in range(1,n+2):\n",
    "        print(f'{9} * {i} = {9*i} ')\n",
    "    \n",
    "mul_table(9)\n",
    "\n"
   ]
  },
  {
   "cell_type": "markdown",
   "id": "dfb64a26",
   "metadata": {},
   "source": [
    "### Exercise 4: \n",
    "__Arrange string characters such that uppercase letters should come first__\n",
    "\n",
    "Decode the secret!\n",
    "The given string contains a combination of the lower and upper case letters. Write a program to arrange the characters of a string so that all uppercase letters should come first.\n",
    "\n",
    "Hint: a straightforward solution uses a for loop, an if/else, and several string methods (methods are the thing you call by appending a dot to the name of the python object, for example:\n",
    "\n",
    "`last_name = \"Dupont\"\n",
    "last_name.upper()`\n",
    "returns\n",
    "`DUPONT`"
   ]
  },
  {
   "cell_type": "code",
   "execution_count": 5,
   "id": "50f3e4ea",
   "metadata": {},
   "outputs": [
    {
     "data": {
      "text/plain": [
       "'DUPONT'"
      ]
     },
     "execution_count": 5,
     "metadata": {},
     "output_type": "execute_result"
    }
   ],
   "source": [
    "last_name = \"Dupont\"\n",
    "last_name.upper()"
   ]
  },
  {
   "cell_type": "code",
   "execution_count": 20,
   "id": "d28bff19",
   "metadata": {},
   "outputs": [],
   "source": [
    "secret = \"yILtOhVonEP\""
   ]
  },
  {
   "cell_type": "code",
   "execution_count": 7,
   "id": "b73e06e9",
   "metadata": {},
   "outputs": [
    {
     "name": "stdout",
     "output_type": "stream",
     "text": [
      "Scrambled String: yILtOhVonEP\n",
      "Result: ILOVEPython\n"
     ]
    }
   ],
   "source": [
    "# your_code_here\n",
    "          \n",
    "\n",
    "print('Scrambled String:', secret)\n",
    "print('Result:', sorted_str)"
   ]
  },
  {
   "cell_type": "code",
   "execution_count": 23,
   "id": "461da73c",
   "metadata": {},
   "outputs": [
    {
     "data": {
      "text/plain": [
       "'ILOVEPython'"
      ]
     },
     "execution_count": 23,
     "metadata": {},
     "output_type": "execute_result"
    }
   ],
   "source": [
    "def update_strings(n):\n",
    "    upper=[]\n",
    "    lower=[]\n",
    "    for i in n:\n",
    "        if i.isupper():\n",
    "            upper.append(i)\n",
    "        elif i.islower():\n",
    "            lower.append(i)\n",
    "    fullstring=upper+lower\n",
    "    \n",
    "    return \"\".join(fullstring)\n",
    "\n",
    "update_strings(secret)"
   ]
  },
  {
   "cell_type": "markdown",
   "id": "6df72077",
   "metadata": {},
   "source": [
    "## Import Numpy as np"
   ]
  },
  {
   "cell_type": "code",
   "execution_count": 8,
   "id": "167b616e",
   "metadata": {},
   "outputs": [],
   "source": [
    "#your_code_here"
   ]
  },
  {
   "cell_type": "markdown",
   "id": "590be822",
   "metadata": {},
   "source": [
    "### Exercise 5:\n",
    "Following is a provided numPy array. Return array of items by taking the second column from all rows. Print it.\n",
    "\n",
    "Expected output:\n",
    "\n",
    "`Printing array of items in the third column from all rows:\n",
    "[22 55 88]`"
   ]
  },
  {
   "cell_type": "code",
   "execution_count": 25,
   "id": "ade3513e",
   "metadata": {},
   "outputs": [],
   "source": [
    "import numpy as np\n",
    "sampleArray = np.array([[11 ,22, 33], [44, 55, 66], [77, 88, 99]]) \n",
    "\n"
   ]
  },
  {
   "cell_type": "code",
   "execution_count": 31,
   "id": "90a8e599",
   "metadata": {},
   "outputs": [
    {
     "data": {
      "text/plain": [
       "array([[11, 22, 33],\n",
       "       [44, 55, 66],\n",
       "       [77, 88, 99]])"
      ]
     },
     "execution_count": 31,
     "metadata": {},
     "output_type": "execute_result"
    }
   ],
   "source": [
    "sampleArray"
   ]
  },
  {
   "cell_type": "code",
   "execution_count": 33,
   "id": "439c2581",
   "metadata": {},
   "outputs": [
    {
     "data": {
      "text/plain": [
       "[22, 55, 88]"
      ]
     },
     "execution_count": 33,
     "metadata": {},
     "output_type": "execute_result"
    }
   ],
   "source": [
    "lista=[]\n",
    "for i in range(0,3):\n",
    "    lista.append(sampleArray[i][1])\n",
    "lista"
   ]
  },
  {
   "cell_type": "markdown",
   "id": "a8c6dc9d",
   "metadata": {},
   "source": [
    "### Exercise 6a:\n",
    "__Create a 4X2 integer array and Print its attributes__\n",
    "\n",
    "You can decide which integers, below is just an example.\n",
    "Print the following Attributes:\n",
    "\n",
    "    The shape of an array.\n",
    "    Array dimensions.\n",
    "    The Length of each element of the array in bytes.\n",
    "\n",
    "#### Expected Output:\n",
    "```\n",
    "Printing Array\n",
    "\n",
    "[[64392 31655]\n",
    " [32579     0]\n",
    " [49248   462]\n",
    " [    0     0]]\n",
    "\n",
    "Printing NumPy array Attributes\n",
    "\n",
    "Array shape is  (4, 2)\n",
    "Array dimensions are  2\n",
    "Array sum is  178336\n",
    "```\n",
    "\n",
    "Tip: you can tell the print command to include an \"enter\" into the output by including \\n\n",
    "\n",
    "See if you can make use of the f-string functionality from day 1\n",
    "\n",
    "*Remember to comment your code!*"
   ]
  },
  {
   "cell_type": "code",
   "execution_count": 42,
   "id": "7d55595f",
   "metadata": {},
   "outputs": [
    {
     "name": "stdout",
     "output_type": "stream",
     "text": [
      "enter number for array no [0] [0] :88\n",
      "enter number for array no [0] [1] :55\n",
      "enter number for array no [1] [0] :11\n",
      "enter number for array no [1] [1] :6\n",
      "enter number for array no [2] [0] :88\n",
      "enter number for array no [2] [1] :2\n",
      "enter number for array no [3] [0] :66\n",
      "enter number for array no [3] [1] :77\n",
      "[[88 55]\n",
      " [11 6]\n",
      " [88 2]\n",
      " [66 77]]\n",
      "Attributes of array\n",
      "Array shape is (4, 2)\n",
      "Array dimensions is 2\n",
      "Array sum is 393\n"
     ]
    }
   ],
   "source": [
    "# Building the array\n",
    "import numpy\n",
    "def make_42array():\n",
    "    arr=numpy.empty(shape=(4, 2), dtype='object')\n",
    "    for i in range(0,4):\n",
    "        for j in range(0,2):\n",
    "            n=int(input(f\"enter number for array no [{i}] [{j}] :\"))\n",
    "            arr[i][j]=n\n",
    "    print(arr)\n",
    "    print(\"Attributes of array\")\n",
    "    print(f\"Array shape is {arr.shape}\")\n",
    "    print(f\"Array dimensions is {arr.ndim}\")\n",
    "    print(f\"Array sum is {arr.sum()}\")\n",
    "    \n",
    "\n",
    "make_42array()"
   ]
  },
  {
   "cell_type": "code",
   "execution_count": 11,
   "id": "063ed048",
   "metadata": {},
   "outputs": [
    {
     "name": "stdout",
     "output_type": "stream",
     "text": [
      "Printing Array\n",
      "\n",
      "[[64392 31655]\n",
      " [32579     0]\n",
      " [49248   462]\n",
      " [    0     0]] \n",
      "\n",
      "Printing NumPy array Attributes\n",
      "\n",
      "Array shape is  (4, 2)\n",
      "Array dimensions are  2\n",
      "Array sum is  178336\n"
     ]
    }
   ],
   "source": [
    "# Creating the output"
   ]
  },
  {
   "cell_type": "markdown",
   "id": "27e25765",
   "metadata": {},
   "source": [
    "### Exercise 6b:\n",
    "__make a function that does the same__\n",
    "\n",
    "The function should be able to take *any* 2-dimensional Numpy array of integers\n",
    "\n",
    "Than use the package called random to make a new 2-dimensional array as above and run your function on it. Make it a different shape!"
   ]
  },
  {
   "cell_type": "code",
   "execution_count": 60,
   "id": "fb809a8c",
   "metadata": {},
   "outputs": [],
   "source": [
    "# your_code_here\n",
    "def make_any2darray(m,n):\n",
    "    print(f\"the m is {m}, the n is {n}\")\n",
    "    arr=numpy.empty(shape=(m, n), dtype='object')\n",
    "    for i in range(0,n):\n",
    "        for j in range(0,m):\n",
    "            n=int(input(f\"enter number for array no [{i}] [{j}] :\"))\n",
    "            arr[i][j]=n\n",
    "    print(arr)\n",
    "    print(\"Attributes of array\")\n",
    "    print(f\"Array shape is {arr.shape}\")\n",
    "    print(f\"Array dimensions is {arr.ndim}\")\n",
    "    print(f\"Array sum is {arr.sum()}\")\n",
    "    \n",
    "\n"
   ]
  },
  {
   "cell_type": "code",
   "execution_count": 61,
   "id": "d8d0383e",
   "metadata": {},
   "outputs": [
    {
     "name": "stdout",
     "output_type": "stream",
     "text": [
      "the m is 4, the n is 4\n",
      "enter number for array no [0] [0] :88\n",
      "enter number for array no [0] [1] :566\n",
      "enter number for array no [0] [2] :211\n",
      "enter number for array no [0] [3] :666\n",
      "enter number for array no [1] [0] :777\n",
      "enter number for array no [1] [1] :55\n",
      "enter number for array no [1] [2] :22\n",
      "enter number for array no [1] [3] :22\n",
      "enter number for array no [2] [0] :666\n",
      "enter number for array no [2] [1] :77\n",
      "enter number for array no [2] [2] :999\n",
      "enter number for array no [2] [3] :5\n",
      "enter number for array no [3] [0] :66\n",
      "enter number for array no [3] [1] :22\n",
      "enter number for array no [3] [2] :77\n",
      "enter number for array no [3] [3] :33\n",
      "[[88 566 211 666]\n",
      " [777 55 22 22]\n",
      " [666 77 999 5]\n",
      " [66 22 77 33]]\n",
      "Attributes of array\n",
      "Array shape is (4, 4)\n",
      "Array dimensions is 2\n",
      "Array sum is 4352\n"
     ]
    }
   ],
   "source": [
    "# import random\n",
    "import random\n",
    "m=random.randint(1,5)\n",
    "n=random.randint(1,5)\n",
    "\n",
    "\n",
    "\n",
    "# make a new array\n",
    "make_any2darray(m,n)\n",
    "\n"
   ]
  },
  {
   "cell_type": "code",
   "execution_count": 14,
   "id": "1dac0946",
   "metadata": {},
   "outputs": [
    {
     "name": "stdout",
     "output_type": "stream",
     "text": [
      "Printing Array\n",
      "\n",
      "[[162 200 199  69  84  56  53 102  25 175   1 124  58  31 120   3]\n",
      " [154 133 152 170 115 152  14 199  42 193  77  13  93  32  28  34]] \n",
      "\n",
      "Printing NumPy array Attributes\n",
      "\n",
      "Array shape is  (2, 16)\n",
      "Array dimensions are  2\n",
      "Array sum is  3063\n"
     ]
    }
   ],
   "source": [
    "# apply the function on the array\n"
   ]
  },
  {
   "cell_type": "markdown",
   "id": "8bcbcc1d",
   "metadata": {},
   "source": [
    "### Exercise 6c: \n",
    "__use reshape to mold your latest 2-d array into a 3-dimensional array__\n",
    "\n",
    "Does it work? If not, what could be the problem? (hint: you may need to drop or add elements to arrive at a suitable number that can fit the new shape)"
   ]
  },
  {
   "cell_type": "code",
   "execution_count": 65,
   "id": "adba568e",
   "metadata": {},
   "outputs": [
    {
     "data": {
      "text/plain": [
       "array([[[11, 22, 33],\n",
       "        [44, 55, 66],\n",
       "        [77, 88, 99]]])"
      ]
     },
     "execution_count": 65,
     "metadata": {},
     "output_type": "execute_result"
    }
   ],
   "source": [
    "#Reshape the array\n",
    "array_3d = sampleArray.reshape((1, 3, 3))\n",
    "array_3d"
   ]
  },
  {
   "cell_type": "markdown",
   "id": "1382ab1d",
   "metadata": {},
   "source": [
    "### Exercise 6d: \n",
    "__see if your function also works for 3-dimensional arrays.__\n",
    "If it doesn't, why not? See if you can fix it."
   ]
  },
  {
   "cell_type": "code",
   "execution_count": 66,
   "id": "58ce88dc",
   "metadata": {},
   "outputs": [
    {
     "data": {
      "text/plain": [
       "array([[[11],\n",
       "        [22],\n",
       "        [33]],\n",
       "\n",
       "       [[44],\n",
       "        [55],\n",
       "        [66]],\n",
       "\n",
       "       [[77],\n",
       "        [88],\n",
       "        [99]]])"
      ]
     },
     "execution_count": 66,
     "metadata": {},
     "output_type": "execute_result"
    }
   ],
   "source": [
    "# Run the function on the latest array\n",
    "array_3d2 = array_3d.reshape((3, 3, 1))\n",
    "array_3d2"
   ]
  },
  {
   "cell_type": "markdown",
   "id": "03856d82",
   "metadata": {},
   "source": [
    "### Exercise 7:\n",
    "__Following is a new provided numPy array. Return array of odd (impair) rows and even (pair) columns. Print it__"
   ]
  },
  {
   "cell_type": "code",
   "execution_count": 67,
   "id": "49f6afd0",
   "metadata": {},
   "outputs": [
    {
     "name": "stdout",
     "output_type": "stream",
     "text": [
      "Input Array:\n",
      "[[  3   9   9  12]\n",
      " [ 16  18 231  24]\n",
      " [ 27  30  33  36]\n",
      " [ 39  42  45  58]\n",
      " [ 51  54  57  61]]\n",
      "\n",
      "Printing array of odd rows and even columns:\n"
     ]
    }
   ],
   "source": [
    "sampleArray = np.array([[3 ,9, 9, 12], [16 ,18, 231, 24], \n",
    "[27 ,30, 33, 36], [39 ,42, 45, 58], [51 ,54, 57, 61]]) \n",
    "print(\"Input Array:\")\n",
    "print(sampleArray)\n",
    "\n",
    "print(\"\\nPrinting array of odd rows and even columns:\")\n"
   ]
  },
  {
   "cell_type": "markdown",
   "id": "a1e9cb92",
   "metadata": {},
   "source": [
    "[[ 9 12]\n",
    " [30 36]\n",
    " [54 61]]"
   ]
  },
  {
   "cell_type": "code",
   "execution_count": 73,
   "id": "9f127aa1",
   "metadata": {},
   "outputs": [
    {
     "name": "stdout",
     "output_type": "stream",
     "text": [
      "[9, 12, 30, 36, 54, 61]\n"
     ]
    },
    {
     "data": {
      "text/plain": [
       "array([[ 9, 12],\n",
       "       [30, 36],\n",
       "       [54, 61]])"
      ]
     },
     "execution_count": 73,
     "metadata": {},
     "output_type": "execute_result"
    }
   ],
   "source": [
    "array=[]\n",
    "for i in range(0,sampleArray.shape[0]):\n",
    "    for j in range(0,sampleArray.shape[1]):\n",
    "        if (i%2==0) and (j%2!=0):\n",
    "            array.append(sampleArray[i][j])\n",
    "print(array)\n",
    "res = np.array(array)\n",
    "array_oddeven = res.reshape(( 3, 2))\n",
    "array_oddeven"
   ]
  },
  {
   "cell_type": "markdown",
   "id": "f2416b39",
   "metadata": {},
   "source": [
    "### Exercise 8:\n",
    "__Iterate two lists simultaneously__\n",
    "\n",
    "Given a two Python list. Write a program to iterate both lists simultaneously and display items from list1 in original order and items from list2 in reverse order.\n",
    "\n",
    "Tip: you can return a list in reverse with `[::-1]` (can you understand why?)\n",
    "\n",
    "Expected output:\n",
    "\n",
    "`10 400\n",
    "20 300\n",
    "30 200\n",
    "40 100`"
   ]
  },
  {
   "cell_type": "code",
   "execution_count": 84,
   "id": "a1a5e217",
   "metadata": {},
   "outputs": [],
   "source": [
    "list1 = [10, 20, 30, 40]\n",
    "list2 = [100, 200, 300, 400]"
   ]
  },
  {
   "cell_type": "code",
   "execution_count": 19,
   "id": "75331076",
   "metadata": {},
   "outputs": [
    {
     "name": "stdout",
     "output_type": "stream",
     "text": [
      "10 400\n",
      "20 300\n",
      "30 200\n",
      "40 100\n"
     ]
    }
   ],
   "source": [
    "# your_code_here\n"
   ]
  },
  {
   "cell_type": "code",
   "execution_count": 94,
   "id": "042e97ea",
   "metadata": {},
   "outputs": [
    {
     "name": "stdout",
     "output_type": "stream",
     "text": [
      "10 400\n",
      "20 300\n",
      "30 200\n",
      "40 100\n"
     ]
    }
   ],
   "source": [
    "for i in range(0,4):\n",
    "    print(f\"{list1[i]} {list2[-(i+1)]}\")"
   ]
  },
  {
   "cell_type": "markdown",
   "id": "71b1cacb",
   "metadata": {},
   "source": [
    "### Exercise 9:\n",
    "__Replace list’s item with new value if found__\n",
    "\n",
    "You are given a Python list. Write a program to find value 20 in the list, and if it is present, replace it with 200. Only update the first occurrence of the item."
   ]
  },
  {
   "cell_type": "code",
   "execution_count": 106,
   "id": "d0c26a3c",
   "metadata": {},
   "outputs": [],
   "source": [
    "list1 = [5, 10, 15, 20, 25, 50, 20]\n",
    "\n",
    "# your_code_here\n"
   ]
  },
  {
   "cell_type": "code",
   "execution_count": 107,
   "id": "eadb8140",
   "metadata": {},
   "outputs": [
    {
     "data": {
      "text/plain": [
       "[5, 10, 15, 200, 25, 50, 20]"
      ]
     },
     "execution_count": 107,
     "metadata": {},
     "output_type": "execute_result"
    }
   ],
   "source": [
    "for i in range(len(list1)):\n",
    "    if list1[i]==20:\n",
    "        list1[i]=200\n",
    "        break\n",
    "        \n",
    "list1"
   ]
  },
  {
   "cell_type": "code",
   "execution_count": null,
   "id": "930d8aef",
   "metadata": {},
   "outputs": [],
   "source": []
  }
 ],
 "metadata": {
  "kernelspec": {
   "display_name": "Python 3 (ipykernel)",
   "language": "python",
   "name": "python3"
  },
  "language_info": {
   "codemirror_mode": {
    "name": "ipython",
    "version": 3
   },
   "file_extension": ".py",
   "mimetype": "text/x-python",
   "name": "python",
   "nbconvert_exporter": "python",
   "pygments_lexer": "ipython3",
   "version": "3.11.5"
  },
  "toc": {
   "base_numbering": 1,
   "nav_menu": {},
   "number_sections": true,
   "sideBar": true,
   "skip_h1_title": false,
   "title_cell": "Table of Contents",
   "title_sidebar": "Contents",
   "toc_cell": false,
   "toc_position": {},
   "toc_section_display": true,
   "toc_window_display": false
  }
 },
 "nbformat": 4,
 "nbformat_minor": 5
}
