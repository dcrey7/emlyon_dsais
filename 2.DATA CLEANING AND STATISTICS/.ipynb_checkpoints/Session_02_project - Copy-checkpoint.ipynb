{
 "cells": [
  {
   "cell_type": "code",
   "execution_count": 3,
   "id": "04e966fb-9556-40cc-bbc7-70463d6c4d6b",
   "metadata": {},
   "outputs": [
    {
     "data": {
      "text/markdown": [
       "<div>\n",
       "    <img src=\"images/emlyon.png\" style=\"height:60px; float:left; padding-right:10px; margin-top:5px\" />\n",
       "    <span>\n",
       "        <h1 style=\"padding-bottom:5px;\"> AI Booster Week 02 - Python for Data Science </h1>\n",
       "        <a href=\"https://masters.em-lyon.com/fr/msc-in-data-science-artificial-intelligence-strategy\">[Emlyon]</a> MSc in Data Science & Artificial Intelligence Strategy (DSAIS) <br/>\n",
       "         Paris | © Antoine SCHERRER\n",
       "    </span>\n",
       "</div>\n",
       "\n"
      ],
      "text/plain": [
       "<IPython.core.display.Markdown object>"
      ]
     },
     "metadata": {},
     "output_type": "display_data"
    }
   ],
   "source": [
    "from IPython.display import Markdown, display\n",
    "display(Markdown(\"header-project.md\"))"
   ]
  },
  {
   "cell_type": "markdown",
   "id": "3a26bfec-c30b-4ea2-8c13-88087ba4ace3",
   "metadata": {},
   "source": [
    "## **[GROUP WORK] Projet step 01: descriptive stats and data cleaning**\n",
    "\n",
    "In order to prepare the data science project that will need to complete, gather in project group and answer the following questions:\n",
    "\n",
    "The project will use the `california_houses.csv`.\n",
    "In this dataset, **each row of the dataset represents one district in California**.\n",
    "\n",
    "\n",
    " - Load the dataset\n",
    " - For **each** column, print out descriptive statistics (including distributions, etc.) that you find relevant to get to know the data\n",
    " - Identify and fix issues in the dataset (spoiler alert: there are many!)\n",
    " - Create a categorical  variable \\<Closest_city> indicating the closest CA city and drop the distance to each city (not needed)\n",
    " - Describe **each** column with a descriptive sentence\n",
    " - Save your clean dataset as a csv file\n",
    " - Using a library such as `geopandas` or `plotly`, plot the location of districts on a map\n",
    " - Using the function you wrote in the first two sessions, perform a descriptive analysis of each variable independently."
   ]
  }
 ],
 "metadata": {
  "kernelspec": {
   "display_name": "Python 3 (ipykernel)",
   "language": "python",
   "name": "python3"
  },
  "language_info": {
   "codemirror_mode": {
    "name": "ipython",
    "version": 3
   },
   "file_extension": ".py",
   "mimetype": "text/x-python",
   "name": "python",
   "nbconvert_exporter": "python",
   "pygments_lexer": "ipython3",
   "version": "3.11.5"
  },
  "toc": {
   "base_numbering": 1,
   "nav_menu": {},
   "number_sections": true,
   "sideBar": true,
   "skip_h1_title": false,
   "title_cell": "Table of Contents",
   "title_sidebar": "Contents",
   "toc_cell": false,
   "toc_position": {},
   "toc_section_display": true,
   "toc_window_display": false
  }
 },
 "nbformat": 4,
 "nbformat_minor": 5
}
