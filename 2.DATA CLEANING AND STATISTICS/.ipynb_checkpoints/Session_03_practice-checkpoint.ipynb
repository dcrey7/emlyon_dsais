{
 "cells": [
  {
   "cell_type": "code",
   "execution_count": 1,
   "id": "0fb8e8ec-eedc-4793-a1f6-ddb545de5fde",
   "metadata": {},
   "outputs": [
    {
     "data": {
      "text/markdown": [
       "<div>\n",
       "    <img src=\"images/emlyon.png\" style=\"height:60px; float:left; padding-right:10px; margin-top:5px\" />\n",
       "    <span>\n",
       "        <h1 style=\"padding-bottom:5px;\"> AI Booster Week 02 - Python for Data Science </h1>\n",
       "        <a href=\"https://masters.em-lyon.com/fr/msc-in-data-science-artificial-intelligence-strategy\">[Emlyon]</a> MSc in Data Science & Artificial Intelligence Strategy (DSAIS) <br/>\n",
       "         Paris | © Antoine SCHERRER\n",
       "    </span>\n",
       "</div>\n",
       "\n",
       "Please make sure you have a working installation of Jupyter Notebook / Jupyter Lab, with Python 3.6+ up and running.\n",
       "\n",
       "## Naming conventions\n",
       "\n",
       "Since we will implement functions that are already available in python standard library or other libraries, you will have to *prefix* every function with `msds_` prefix.\n",
       "\n",
       "For instance, the function implementing the `mean` function should be named `msds_mean`.\n",
       "\n",
       "For every function you write, you will need to write a test function that should be names `test_msds_[function_name]`.\n",
       "\n",
       "For instance, the test function for the mean will be: `test_msds_mean`.\n",
       "\n",
       "All function should be in snake case (no Camel case!)\n",
       "\n",
       "When creating classes, then follow these rules:\n",
       " - class names should be in camel case\n",
       " - method names should be in snake case\n",
       " - attribute names should be in \n",
       "\n",
       "## Exercise's difficulty\n",
       "\n",
       "Every exercise will be prefixed with an indication of its difficulty:\n",
       " - [easy]: for very easy exercise\n",
       " - [moderate]: for intermediate level exercise\n",
       " - [advanced]: for advanced students\n",
       "\n",
       "Advanced exercises are not mandatory.\n"
      ],
      "text/plain": [
       "<IPython.core.display.Markdown object>"
      ]
     },
     "metadata": {},
     "output_type": "display_data"
    }
   ],
   "source": [
    "from IPython.display import Markdown, display\n",
    "display(Markdown(\"header.md\"))"
   ]
  },
  {
   "cell_type": "markdown",
   "id": "0b0067a6-ec74-46ae-b53d-f924f93984d4",
   "metadata": {},
   "source": [
    "## Session 03 - Bivariate statistics - Practice"
   ]
  },
  {
   "cell_type": "markdown",
   "id": "36ec64bc-f03b-419a-9eac-c3055d374ee9",
   "metadata": {},
   "source": [
    "## Qualitative data\n"
   ]
  },
  {
   "cell_type": "markdown",
   "id": "f340ac8f-def2-49d3-a315-bf064083e083",
   "metadata": {},
   "source": [
    "### [moderate] Compute expected frequency matrix\n",
    "\n",
    "Given two qualitative data sets (iterables), compute the expected frequency matrix (in count) under the assumption that data sets are independent.\n",
    "\n",
    "Let's state that:\n",
    " - $c$ is the number of distinct values for $X$ dataset\n",
    " - $l$ is the number fo distinct values for $Y$ dataset\n"
   ]
  },
  {
   "cell_type": "markdown",
   "id": "384fa60f-b98a-455d-b987-c0775bdfc33d",
   "metadata": {},
   "source": [
    "### [moderate] Compute $\\chi^2$ statistics\n",
    "\n",
    "Using the formula from the course, compute the expected frequency matrix and the acutal frequency matrix (from Session_03!).\n",
    "\n",
    "Then compute the $\\chi^2$ quantity.\n",
    "\n",
    "Compute also $\\phi$ and $V_{\\text{cramer}}$ statistics\n",
    "\n",
    "Apply your results to various couples of qualitative variables from datasets you already explored."
   ]
  },
  {
   "cell_type": "markdown",
   "id": "0bd72ff9-3c01-4896-954c-bd17acf33bdc",
   "metadata": {},
   "source": [
    "### [moderate] Study how smoking relates to lung cancer\n",
    "\n",
    "Wynder and Graham's case-control study of smoking and lung cancer. A historically important study published compared the smoking histories of 605 cases with lung cancer to 780 controls without cancer. Data on average use of tobacco during the past 20 years was classified as follows:\n",
    " - 5 = Chain smoker (35 cigarettes of more per day for at least 20 years)\n",
    " - 4 = Excessive smoker (21-34 cigarettes per day for more than 20 years)\n",
    " - 3 = Heavy smoker (16-20 cigarettes per day for more than 20 years)\n",
    " - 2 = Moderately heavy smoker (10-15 cigarettes per day for more than 20 years)\n",
    " - 1 = Light smoker (1-9 cigarettes per day for more than 20 years)\n",
    " - 0 = Non-smoker (less than 1 cigarette per day for more than 20 years)\n",
    "\n",
    "If the patient smoked for less than 20 years, the amount of smoking was reduced in proportion to its duration.\n",
    "\n",
    "This is the contingency table from the study:\n",
    "\n",
    "```\n",
    "CT = {\n",
    "        '5': {'YES': 123,'NO': 64}, \n",
    "        '4': {'YES': 186,'NO': 98}, \n",
    "        '3': {'YES': 213,'NO': 274}, \n",
    "        '2': {'YES': 61,'NO': 147}, \n",
    "        '1': {'YES': 14,'NO': 82}, \n",
    "        '0': {'YES': 8,'NO': 115}, \n",
    "    }\n",
    "```\n",
    "\n",
    "Source: https://www.scielosp.org/pdf/bwho/v83n2/v83n2a15.pdf\n",
    "\n",
    "Use this contingency table to determine $\\chi^2$, $\\phi$ and Cramer's V statistics for testing the independence between these 2 variables."
   ]
  },
  {
   "cell_type": "markdown",
   "id": "b204418c-8b2f-46a4-a4f4-5150db28f0df",
   "metadata": {},
   "source": [
    "## Quantitative data\n"
   ]
  },
  {
   "cell_type": "markdown",
   "id": "bce2c4f5-33cc-4325-a0c2-0e8637b8c170",
   "metadata": {},
   "source": [
    "### [easy] Correlation between weights and heights\n",
    "\n",
    "Analyze the `weights_heights.csv` dataset using the previous functions to evaluate the correlation between weights and heights.\n"
   ]
  },
  {
   "cell_type": "markdown",
   "id": "c63e3dcf-5b2f-4c53-a64c-dcb4f2fd299f",
   "metadata": {},
   "source": [
    "### [moderate] Correlation matrix\n",
    "\n",
    "Write a function that computes the correlation matrix of a dataframe.\n",
    "It is a symetric matrix that contains the correlation coeficient value for each couple of columns.\n",
    "\n",
    "Use your implementation on the `wine.csv` dataset.\n",
    "Validate your implementation by comparing your results with results from `statistics` or `statmodels` packages."
   ]
  },
  {
   "cell_type": "markdown",
   "id": "17109218-c0d1-4b6e-a521-7a582356de01",
   "metadata": {},
   "source": [
    "### [moderate] Visualization of correlation matrix\n",
    "\n",
    "Write a function that draws a heatmap based on the correlation matrix computed before. "
   ]
  },
  {
   "cell_type": "markdown",
   "id": "9509911d-1a1e-4e9b-b140-c5834dde6ab6",
   "metadata": {},
   "source": [
    "### [advanced] Auto-correlation function for time serie data\n",
    "\n",
    "When data corresponds to a variation of some quantity in time, then it's called a time serie.\n",
    "\n",
    "To study time series, one can plot the auto-correlation function, which basically corresponds to how much data at a given time distance are correlated.\n",
    "\n",
    "The autocorrelation function is supposed to be decreasing rapidly, unless the signal exhibit a particular property called long range dependance.\n",
    "\n",
    "Write a function that computes the auto-correlation function of a given time serie data (use `A1H.csv` and refer to associated paper for description of the data : http://www3.dsi.uminho.pt/pcortez/data/itraffic.html\n",
    "\n",
    "For definition of the formula you can refer to: https://real-statistics.com/time-series-analysis/stochastic-processes/autocorrelation-function/\n",
    "\n",
    "Only compute for lags between 0 and 200.\n",
    "\n",
    "Compare the observed autocorrelation function with one you get on a random normal variable."
   ]
  },
  {
   "cell_type": "markdown",
   "id": "e01239e6-e4f0-44e2-964c-80e08eb74d14",
   "metadata": {},
   "source": [
    "## Object-oriented programming"
   ]
  },
  {
   "cell_type": "markdown",
   "id": "34d241a5-2510-462d-b726-eb200c1821c4",
   "metadata": {},
   "source": [
    "### [advanced] Convert all your functions and organize them in classes using OOP"
   ]
  }
 ],
 "metadata": {
  "kernelspec": {
   "display_name": "Python 3 (ipykernel)",
   "language": "python",
   "name": "python3"
  },
  "language_info": {
   "codemirror_mode": {
    "name": "ipython",
    "version": 3
   },
   "file_extension": ".py",
   "mimetype": "text/x-python",
   "name": "python",
   "nbconvert_exporter": "python",
   "pygments_lexer": "ipython3",
   "version": "3.10.13"
  }
 },
 "nbformat": 4,
 "nbformat_minor": 5
}
