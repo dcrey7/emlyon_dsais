{
 "cells": [
  {
   "cell_type": "code",
   "execution_count": 11,
   "id": "0264db1c-f67f-4fd4-b799-156ba3dc44d1",
   "metadata": {},
   "outputs": [
    {
     "data": {
      "text/markdown": [
       "<div>\n",
       "    <img src=\"images/emlyon.png\" style=\"height:60px; float:left; padding-right:10px; margin-top:5px\" />\n",
       "    <span>\n",
       "        <h1 style=\"padding-bottom:5px;\"> AI Booster Week 02 - Python for Data Science </h1>\n",
       "        <a href=\"https://masters.em-lyon.com/fr/msc-in-data-science-artificial-intelligence-strategy\">[Emlyon]</a> MSc in Data Science & Artificial Intelligence Strategy (DSAIS) <br/>\n",
       "         Paris | © Antoine SCHERRER\n",
       "    </span>\n",
       "</div>\n",
       "\n",
       "Please make sure you have a working installation of Jupyter Notebook / Jupyter Lab, with Python 3.6+ up and running.\n",
       "\n",
       "## Naming conventions\n",
       "\n",
       "Since we will implement functions that are already available in python standard library or other libraries, you will have to *prefix* every function with `msds_` prefix.\n",
       "\n",
       "For instance, the function implementing the `mean` function should be named `msds_mean`.\n",
       "\n",
       "For every function you write, you will need to write a test function that should be names `test_msds_[function_name]`.\n",
       "\n",
       "For instance, the test function for the mean will be: `test_msds_mean`.\n",
       "\n",
       "All function should be in snake case (no Camel case!)\n",
       "\n",
       "When creating classes, then follow these rules:\n",
       " - class names should be in camel case\n",
       " - method names should be in snake case\n",
       " - attribute names should be in \n",
       "\n",
       "## Exercise's difficulty\n",
       "\n",
       "Every exercise will be prefixed with an indication of its difficulty:\n",
       " - [easy]: for very easy exercise\n",
       " - [moderate]: for intermediate level exercise\n",
       " - [advanced]: for advanced students\n",
       "\n",
       "Advanced exercises are not mandatory.\n"
      ],
      "text/plain": [
       "<IPython.core.display.Markdown object>"
      ]
     },
     "metadata": {},
     "output_type": "display_data"
    }
   ],
   "source": [
    "from IPython.display import Markdown, display\n",
    "\n",
    "display(Markdown(\"header.md\"))"
   ]
  },
  {
   "cell_type": "code",
   "execution_count": 2,
   "id": "431e3e89",
   "metadata": {},
   "outputs": [
    {
     "name": "stdout",
     "output_type": "stream",
     "text": [
      "Defaulting to user installation because normal site-packages is not writeable\n",
      "Collecting import_ipynb\n",
      "  Obtaining dependency information for import_ipynb from https://files.pythonhosted.org/packages/80/5d/a94923929ac5687d4a3b83440d1f95aaed7eea4a2b05c31d76d8f5564a89/import_ipynb-0.1.4-py3-none-any.whl.metadata\n",
      "  Downloading import_ipynb-0.1.4-py3-none-any.whl.metadata (2.3 kB)\n",
      "Requirement already satisfied: IPython in c:\\programdata\\anaconda3\\lib\\site-packages (from import_ipynb) (8.15.0)\n",
      "Requirement already satisfied: nbformat in c:\\programdata\\anaconda3\\lib\\site-packages (from import_ipynb) (5.9.2)\n",
      "Requirement already satisfied: backcall in c:\\programdata\\anaconda3\\lib\\site-packages (from IPython->import_ipynb) (0.2.0)\n",
      "Requirement already satisfied: decorator in c:\\programdata\\anaconda3\\lib\\site-packages (from IPython->import_ipynb) (5.1.1)\n",
      "Requirement already satisfied: jedi>=0.16 in c:\\programdata\\anaconda3\\lib\\site-packages (from IPython->import_ipynb) (0.18.1)\n",
      "Requirement already satisfied: matplotlib-inline in c:\\programdata\\anaconda3\\lib\\site-packages (from IPython->import_ipynb) (0.1.6)\n",
      "Requirement already satisfied: pickleshare in c:\\programdata\\anaconda3\\lib\\site-packages (from IPython->import_ipynb) (0.7.5)\n",
      "Requirement already satisfied: prompt-toolkit!=3.0.37,<3.1.0,>=3.0.30 in c:\\programdata\\anaconda3\\lib\\site-packages (from IPython->import_ipynb) (3.0.36)\n",
      "Requirement already satisfied: pygments>=2.4.0 in c:\\programdata\\anaconda3\\lib\\site-packages (from IPython->import_ipynb) (2.15.1)\n",
      "Requirement already satisfied: stack-data in c:\\programdata\\anaconda3\\lib\\site-packages (from IPython->import_ipynb) (0.2.0)\n",
      "Requirement already satisfied: traitlets>=5 in c:\\programdata\\anaconda3\\lib\\site-packages (from IPython->import_ipynb) (5.7.1)\n",
      "Requirement already satisfied: colorama in c:\\programdata\\anaconda3\\lib\\site-packages (from IPython->import_ipynb) (0.4.6)\n",
      "Requirement already satisfied: fastjsonschema in c:\\programdata\\anaconda3\\lib\\site-packages (from nbformat->import_ipynb) (2.16.2)\n",
      "Requirement already satisfied: jsonschema>=2.6 in c:\\programdata\\anaconda3\\lib\\site-packages (from nbformat->import_ipynb) (4.17.3)\n",
      "Requirement already satisfied: jupyter-core in c:\\programdata\\anaconda3\\lib\\site-packages (from nbformat->import_ipynb) (5.3.0)\n",
      "Requirement already satisfied: parso<0.9.0,>=0.8.0 in c:\\programdata\\anaconda3\\lib\\site-packages (from jedi>=0.16->IPython->import_ipynb) (0.8.3)\n",
      "Requirement already satisfied: attrs>=17.4.0 in c:\\programdata\\anaconda3\\lib\\site-packages (from jsonschema>=2.6->nbformat->import_ipynb) (22.1.0)\n",
      "Requirement already satisfied: pyrsistent!=0.17.0,!=0.17.1,!=0.17.2,>=0.14.0 in c:\\programdata\\anaconda3\\lib\\site-packages (from jsonschema>=2.6->nbformat->import_ipynb) (0.18.0)\n",
      "Requirement already satisfied: wcwidth in c:\\programdata\\anaconda3\\lib\\site-packages (from prompt-toolkit!=3.0.37,<3.1.0,>=3.0.30->IPython->import_ipynb) (0.2.5)\n",
      "Requirement already satisfied: platformdirs>=2.5 in c:\\programdata\\anaconda3\\lib\\site-packages (from jupyter-core->nbformat->import_ipynb) (3.10.0)\n",
      "Requirement already satisfied: pywin32>=300 in c:\\programdata\\anaconda3\\lib\\site-packages (from jupyter-core->nbformat->import_ipynb) (305.1)\n",
      "Requirement already satisfied: executing in c:\\programdata\\anaconda3\\lib\\site-packages (from stack-data->IPython->import_ipynb) (0.8.3)\n",
      "Requirement already satisfied: asttokens in c:\\programdata\\anaconda3\\lib\\site-packages (from stack-data->IPython->import_ipynb) (2.0.5)\n",
      "Requirement already satisfied: pure-eval in c:\\programdata\\anaconda3\\lib\\site-packages (from stack-data->IPython->import_ipynb) (0.2.2)\n",
      "Requirement already satisfied: six in c:\\programdata\\anaconda3\\lib\\site-packages (from asttokens->stack-data->IPython->import_ipynb) (1.16.0)\n",
      "Downloading import_ipynb-0.1.4-py3-none-any.whl (4.1 kB)\n",
      "Installing collected packages: import_ipynb\n",
      "Successfully installed import_ipynb-0.1.4\n"
     ]
    }
   ],
   "source": [
    "!pip install import_ipynb"
   ]
  },
  {
   "cell_type": "code",
   "execution_count": 8,
   "id": "3a56b3cb",
   "metadata": {},
   "outputs": [
    {
     "data": {
      "text/plain": [
       "['C:\\\\Users\\\\abhis\\\\Downloads\\\\EMLYON CLASSES\\\\PYTHON\\\\2.DATA CLEANING AND STATISTICS',\n",
       " 'C:\\\\ProgramData\\\\anaconda3\\\\python311.zip',\n",
       " 'C:\\\\ProgramData\\\\anaconda3\\\\DLLs',\n",
       " 'C:\\\\ProgramData\\\\anaconda3\\\\Lib',\n",
       " 'C:\\\\ProgramData\\\\anaconda3',\n",
       " '',\n",
       " 'C:\\\\Users\\\\abhis\\\\AppData\\\\Roaming\\\\Python\\\\Python311\\\\site-packages',\n",
       " 'C:\\\\ProgramData\\\\anaconda3\\\\Lib\\\\site-packages',\n",
       " 'C:\\\\ProgramData\\\\anaconda3\\\\Lib\\\\site-packages\\\\win32',\n",
       " 'C:\\\\ProgramData\\\\anaconda3\\\\Lib\\\\site-packages\\\\win32\\\\lib',\n",
       " 'C:\\\\ProgramData\\\\anaconda3\\\\Lib\\\\site-packages\\\\Pythonwin']"
      ]
     },
     "execution_count": 8,
     "metadata": {},
     "output_type": "execute_result"
    }
   ],
   "source": [
    "import sys\n",
    "sys.path"
   ]
  },
  {
   "cell_type": "code",
   "execution_count": 19,
   "id": "89ee5421-a1de-4753-a1aa-38df6f1cf04a",
   "metadata": {},
   "outputs": [],
   "source": [
    "# Initial imports\n",
    "import unittest\n",
    "import math\n",
    "\n",
    "# This imports all functions defined in the Session_01 notebook!\n",
    "import import_ipynb\n",
    "from Session_01 import *"
   ]
  },
  {
   "cell_type": "code",
   "execution_count": null,
   "id": "26970c57",
   "metadata": {},
   "outputs": [],
   "source": [
    "ms"
   ]
  },
  {
   "cell_type": "markdown",
   "id": "2cc20bcb-e64c-466c-aa85-971e43c83607",
   "metadata": {},
   "source": [
    "# Session 01 - Introduction - Practice\n",
    "\n",
    "Solving **all** question from Session_01 is mandatory before solving these practice exercises."
   ]
  },
  {
   "cell_type": "markdown",
   "id": "3abb3dfe-ab48-4814-9357-af3cb16226c9",
   "metadata": {},
   "source": [
    "### [easy] write a function that computes the geometric mean of an iterable given as parameter.\n",
    "\n",
    "The geometric mean is defined as:\n",
    "\n",
    "$\\Large {\\displaystyle \\left(\\prod{X_i}\\right)^{1/n}}$\n",
    "\n",
    "$X_i$ is $i$-th data point\n"
   ]
  },
  {
   "cell_type": "code",
   "execution_count": 14,
   "id": "e3cea4bf-78e3-480c-a730-5821b61fcfb1",
   "metadata": {},
   "outputs": [],
   "source": [
    "## YOUR CODE HERE\n",
    "import math \n",
    "def geo_mean(data):\n",
    "    geo_sum=1\n",
    "    for i in data:\n",
    "        geo_sum*=(i)\n",
    "    return ((geo_sum)**(1/len(data)))\n",
    "        "
   ]
  },
  {
   "cell_type": "code",
   "execution_count": 16,
   "id": "6846faf0",
   "metadata": {},
   "outputs": [
    {
     "data": {
      "text/plain": [
       "79370.05259840992"
      ]
     },
     "execution_count": 16,
     "metadata": {},
     "output_type": "execute_result"
    }
   ],
   "source": [
    "geo_mean([100000,50000,100000])"
   ]
  },
  {
   "cell_type": "markdown",
   "id": "f4c6a128-af07-405b-9ffe-6bf5afdb13b6",
   "metadata": {},
   "source": [
    "### [easy] write a function that computes the harmonic mean of an iterable given as parameter.\n",
    "\n",
    "The harmonic mean is defined as:\n",
    "\n",
    "$\\Large {\\displaystyle \\frac{n}{\\sum_{i=1}^{n} \\frac{1}{X_i}}}$\n",
    "\n",
    "$X_i$ is $i$-th data point\n"
   ]
  },
  {
   "cell_type": "code",
   "execution_count": 17,
   "id": "8511d8ff-4029-4427-91c1-b8b2d2a9a820",
   "metadata": {},
   "outputs": [],
   "source": [
    "## YOUR CODE HERE\n",
    "def har_mean(data):\n",
    "    har_sum=0\n",
    "    for i in data:\n",
    "        har_sum+=1/i\n",
    "    return (len(data)/har_sum)\n",
    "        \n",
    "        "
   ]
  },
  {
   "cell_type": "code",
   "execution_count": 18,
   "id": "6b65aaa4",
   "metadata": {},
   "outputs": [
    {
     "data": {
      "text/plain": [
       "75000.0"
      ]
     },
     "execution_count": 18,
     "metadata": {},
     "output_type": "execute_result"
    }
   ],
   "source": [
    "har_mean([100000,50000,100000])"
   ]
  },
  {
   "cell_type": "markdown",
   "id": "faa1967c-029d-42bc-9745-28b10e712c51",
   "metadata": {},
   "source": [
    "### [moderate] write a function that computes all data needed for a box-plot\n",
    "\n",
    "Function should output two lists, the first list is the data needed to plot a box plot (in this order)\n",
    " - lower fence ($Q1 - 1.5\\times IQR$)\n",
    " - 1st quartile ($Q1$) \n",
    " - median ($Q2$)\n",
    " - 3rd quartile ($Q3$)\n",
    " - upper fence ($Q3 + 1.5\\times IQR$)\n",
    "\n",
    "The second list should contain all outliers ($v$ < lower fence or $v$ > upper fence)"
   ]
  },
  {
   "cell_type": "code",
   "execution_count": 22,
   "id": "91bd05de-1fcb-470d-82b0-67fccf125644",
   "metadata": {},
   "outputs": [],
   "source": [
    "## YOUR CODE HERE\n",
    "def box_plotsdata(data):\n",
    "    q1=msds_quartile(data,1)\n",
    "    q2=msds_quartile(data,2)\n",
    "    q3=msds_quartile(data,3)\n",
    "    iqr=msds_iqr(data)\n",
    "    l_f=q1-(1.5*iqr)\n",
    "    u_f=q3+(1.5*iqr)\n",
    "    list1=[l_f,q1,q2,q3,u_f]\n",
    "    outlierlower=[]\n",
    "    outlierupper=[]\n",
    "    for i in data:\n",
    "        if i>u_f:\n",
    "            outlierupper.append(i)\n",
    "        elif i<l_f:\n",
    "            outlierlower.append(i)\n",
    "    list2=outlierlower+outlierupper\n",
    "    finallist2=set(list2)\n",
    "    return list1,finallist2\n",
    "\n"
   ]
  },
  {
   "cell_type": "code",
   "execution_count": 23,
   "id": "470cbf57",
   "metadata": {},
   "outputs": [
    {
     "data": {
      "text/plain": [
       "([4.0, 29.5, 43.0, 46.5, 72.0], {1, 2, 99, 100})"
      ]
     },
     "execution_count": 23,
     "metadata": {},
     "output_type": "execute_result"
    }
   ],
   "source": [
    "box_plotsdata([1,2,22,24,35,41,42,43,44,45,46,47,48,99,100])"
   ]
  },
  {
   "cell_type": "markdown",
   "id": "0bb79a20-dc21-4f6d-bf1d-0f6285fba49e",
   "metadata": {},
   "source": [
    "### [moderate] write a function that computes all deciles\n",
    "\n",
    "Function should output the list of 9 deciles (D1 .. D9).\n",
    "\n",
    "You should write a test function and compare your results to the one from a statistics package.\n",
    "\n",
    "Use `salary.csv` and `heights_weights.csv` datasets to check your results."
   ]
  },
  {
   "cell_type": "code",
   "execution_count": 37,
   "id": "199b7451",
   "metadata": {},
   "outputs": [],
   "source": [
    "def decile(data, n):\n",
    "    if n < 1 or n > 9:\n",
    "        raise ValueError(\"n must be between 1 and 9\")\n",
    "    \n",
    "    sorted_data = sorted(data)\n",
    "    index = (n / 10) * (len(sorted_data) - 1)\n",
    "    \n",
    "    if index.is_integer():\n",
    "        return sorted_data[int(index)]\n",
    "    else:\n",
    "        lower = int(index)\n",
    "        fraction = index - lower\n",
    "        return sorted_data[lower] + fraction * (sorted_data[lower + 1] - sorted_data[lower])\n",
    "        \n",
    "    "
   ]
  },
  {
   "cell_type": "code",
   "execution_count": 48,
   "id": "7db727a7",
   "metadata": {},
   "outputs": [
    {
     "data": {
      "text/plain": [
       "[12.6, 37.2, 40.1, 41.8, 45.0, 52.6, 85.9, 160.0, 360.0]"
      ]
     },
     "execution_count": 48,
     "metadata": {},
     "output_type": "execute_result"
    }
   ],
   "source": [
    "test_data1 = [6, 7, 15, 36, 39, 40, 41, 42, 43, 47, 49,67,88,100,200,300,500,1000]\n",
    "dec_list=[]\n",
    "for i in range(9):\n",
    "    dec_list.append(round(decile(test_data1, i+1),1))\n",
    "    \n",
    "dec_list"
   ]
  },
  {
   "cell_type": "code",
   "execution_count": 43,
   "id": "050e75bd",
   "metadata": {},
   "outputs": [],
   "source": [
    "import statistics\n",
    "\n",
    "def get_deciles(data):\n",
    "    return statistics.quantiles(data, n=10, method='inclusive')"
   ]
  },
  {
   "cell_type": "code",
   "execution_count": 44,
   "id": "94f21450",
   "metadata": {},
   "outputs": [
    {
     "data": {
      "text/plain": [
       "[12.6, 37.2, 40.1, 41.8, 45.0, 52.6, 85.9, 160.0, 360.0]"
      ]
     },
     "execution_count": 44,
     "metadata": {},
     "output_type": "execute_result"
    }
   ],
   "source": [
    "get_deciles(test_data1)"
   ]
  },
  {
   "cell_type": "code",
   "execution_count": 26,
   "id": "9b67ef2f-3842-4ca4-ae14-cf8c1337d5c4",
   "metadata": {},
   "outputs": [],
   "source": [
    "## YOUR CODE HERE\n",
    "sal_df=pd.read_csv('salary.csv')\n",
    "weight_df=pd.read_csv('heights_weights.csv')\n",
    "mountain_df=pd.read_csv('highest_mountains.csv')\n"
   ]
  },
  {
   "cell_type": "code",
   "execution_count": 27,
   "id": "67ab9bab",
   "metadata": {},
   "outputs": [
    {
     "data": {
      "text/html": [
       "<div>\n",
       "<style scoped>\n",
       "    .dataframe tbody tr th:only-of-type {\n",
       "        vertical-align: middle;\n",
       "    }\n",
       "\n",
       "    .dataframe tbody tr th {\n",
       "        vertical-align: top;\n",
       "    }\n",
       "\n",
       "    .dataframe thead th {\n",
       "        text-align: right;\n",
       "    }\n",
       "</style>\n",
       "<table border=\"1\" class=\"dataframe\">\n",
       "  <thead>\n",
       "    <tr style=\"text-align: right;\">\n",
       "      <th></th>\n",
       "      <th>Age</th>\n",
       "      <th>Gender</th>\n",
       "      <th>Education Level</th>\n",
       "      <th>Job Title</th>\n",
       "      <th>Years of Experience</th>\n",
       "      <th>Salary</th>\n",
       "    </tr>\n",
       "  </thead>\n",
       "  <tbody>\n",
       "    <tr>\n",
       "      <th>0</th>\n",
       "      <td>32.0</td>\n",
       "      <td>Male</td>\n",
       "      <td>Bachelor's</td>\n",
       "      <td>Software Engineer</td>\n",
       "      <td>5.0</td>\n",
       "      <td>90000.0</td>\n",
       "    </tr>\n",
       "    <tr>\n",
       "      <th>1</th>\n",
       "      <td>28.0</td>\n",
       "      <td>Female</td>\n",
       "      <td>Master's</td>\n",
       "      <td>Data Analyst</td>\n",
       "      <td>3.0</td>\n",
       "      <td>65000.0</td>\n",
       "    </tr>\n",
       "    <tr>\n",
       "      <th>2</th>\n",
       "      <td>45.0</td>\n",
       "      <td>Male</td>\n",
       "      <td>PhD</td>\n",
       "      <td>Senior Manager</td>\n",
       "      <td>15.0</td>\n",
       "      <td>150000.0</td>\n",
       "    </tr>\n",
       "    <tr>\n",
       "      <th>3</th>\n",
       "      <td>36.0</td>\n",
       "      <td>Female</td>\n",
       "      <td>Bachelor's</td>\n",
       "      <td>Sales Associate</td>\n",
       "      <td>7.0</td>\n",
       "      <td>60000.0</td>\n",
       "    </tr>\n",
       "    <tr>\n",
       "      <th>4</th>\n",
       "      <td>52.0</td>\n",
       "      <td>Male</td>\n",
       "      <td>Master's</td>\n",
       "      <td>Director</td>\n",
       "      <td>20.0</td>\n",
       "      <td>200000.0</td>\n",
       "    </tr>\n",
       "  </tbody>\n",
       "</table>\n",
       "</div>"
      ],
      "text/plain": [
       "    Age  Gender Education Level          Job Title  Years of Experience  \\\n",
       "0  32.0    Male      Bachelor's  Software Engineer                  5.0   \n",
       "1  28.0  Female        Master's       Data Analyst                  3.0   \n",
       "2  45.0    Male             PhD     Senior Manager                 15.0   \n",
       "3  36.0  Female      Bachelor's    Sales Associate                  7.0   \n",
       "4  52.0    Male        Master's           Director                 20.0   \n",
       "\n",
       "     Salary  \n",
       "0   90000.0  \n",
       "1   65000.0  \n",
       "2  150000.0  \n",
       "3   60000.0  \n",
       "4  200000.0  "
      ]
     },
     "execution_count": 27,
     "metadata": {},
     "output_type": "execute_result"
    }
   ],
   "source": [
    "sal_df.head()"
   ]
  },
  {
   "cell_type": "code",
   "execution_count": 28,
   "id": "29e63fbe",
   "metadata": {},
   "outputs": [
    {
     "data": {
      "text/html": [
       "<div>\n",
       "<style scoped>\n",
       "    .dataframe tbody tr th:only-of-type {\n",
       "        vertical-align: middle;\n",
       "    }\n",
       "\n",
       "    .dataframe tbody tr th {\n",
       "        vertical-align: top;\n",
       "    }\n",
       "\n",
       "    .dataframe thead th {\n",
       "        text-align: right;\n",
       "    }\n",
       "</style>\n",
       "<table border=\"1\" class=\"dataframe\">\n",
       "  <thead>\n",
       "    <tr style=\"text-align: right;\">\n",
       "      <th></th>\n",
       "      <th>Index</th>\n",
       "      <th>Height(Inches)</th>\n",
       "      <th>Weight(Pounds)</th>\n",
       "    </tr>\n",
       "  </thead>\n",
       "  <tbody>\n",
       "    <tr>\n",
       "      <th>0</th>\n",
       "      <td>1</td>\n",
       "      <td>65.78331</td>\n",
       "      <td>112.9925</td>\n",
       "    </tr>\n",
       "    <tr>\n",
       "      <th>1</th>\n",
       "      <td>2</td>\n",
       "      <td>71.51521</td>\n",
       "      <td>136.4873</td>\n",
       "    </tr>\n",
       "    <tr>\n",
       "      <th>2</th>\n",
       "      <td>3</td>\n",
       "      <td>69.39874</td>\n",
       "      <td>153.0269</td>\n",
       "    </tr>\n",
       "    <tr>\n",
       "      <th>3</th>\n",
       "      <td>4</td>\n",
       "      <td>68.21660</td>\n",
       "      <td>142.3354</td>\n",
       "    </tr>\n",
       "    <tr>\n",
       "      <th>4</th>\n",
       "      <td>5</td>\n",
       "      <td>67.78781</td>\n",
       "      <td>144.2971</td>\n",
       "    </tr>\n",
       "  </tbody>\n",
       "</table>\n",
       "</div>"
      ],
      "text/plain": [
       "   Index  Height(Inches)  Weight(Pounds)\n",
       "0      1        65.78331        112.9925\n",
       "1      2        71.51521        136.4873\n",
       "2      3        69.39874        153.0269\n",
       "3      4        68.21660        142.3354\n",
       "4      5        67.78781        144.2971"
      ]
     },
     "execution_count": 28,
     "metadata": {},
     "output_type": "execute_result"
    }
   ],
   "source": [
    "weight_df.head()"
   ]
  },
  {
   "cell_type": "code",
   "execution_count": 29,
   "id": "0d177d45",
   "metadata": {},
   "outputs": [
    {
     "data": {
      "text/html": [
       "<div>\n",
       "<style scoped>\n",
       "    .dataframe tbody tr th:only-of-type {\n",
       "        vertical-align: middle;\n",
       "    }\n",
       "\n",
       "    .dataframe tbody tr th {\n",
       "        vertical-align: top;\n",
       "    }\n",
       "\n",
       "    .dataframe thead th {\n",
       "        text-align: right;\n",
       "    }\n",
       "</style>\n",
       "<table border=\"1\" class=\"dataframe\">\n",
       "  <thead>\n",
       "    <tr style=\"text-align: right;\">\n",
       "      <th></th>\n",
       "      <th>Mount Everest</th>\n",
       "      <th>8848</th>\n",
       "      <th>Mahalangur Himalaya</th>\n",
       "    </tr>\n",
       "  </thead>\n",
       "  <tbody>\n",
       "    <tr>\n",
       "      <th>0</th>\n",
       "      <td>K2</td>\n",
       "      <td>8611</td>\n",
       "      <td>Baltoro Karakoram</td>\n",
       "    </tr>\n",
       "    <tr>\n",
       "      <th>1</th>\n",
       "      <td>Kangchenjunga</td>\n",
       "      <td>8586</td>\n",
       "      <td>Kangchenjunga Himalaya</td>\n",
       "    </tr>\n",
       "    <tr>\n",
       "      <th>2</th>\n",
       "      <td>Lhotse</td>\n",
       "      <td>8516</td>\n",
       "      <td>Mahalangur Himalaya</td>\n",
       "    </tr>\n",
       "    <tr>\n",
       "      <th>3</th>\n",
       "      <td>Makalu</td>\n",
       "      <td>8485</td>\n",
       "      <td>Mahalangur Himalaya</td>\n",
       "    </tr>\n",
       "    <tr>\n",
       "      <th>4</th>\n",
       "      <td>Cho Oyu</td>\n",
       "      <td>8188</td>\n",
       "      <td>Mahalangur Himalaya</td>\n",
       "    </tr>\n",
       "  </tbody>\n",
       "</table>\n",
       "</div>"
      ],
      "text/plain": [
       "   Mount Everest  8848     Mahalangur Himalaya\n",
       "0             K2  8611       Baltoro Karakoram\n",
       "1  Kangchenjunga  8586  Kangchenjunga Himalaya\n",
       "2         Lhotse  8516     Mahalangur Himalaya\n",
       "3         Makalu  8485     Mahalangur Himalaya\n",
       "4        Cho Oyu  8188     Mahalangur Himalaya"
      ]
     },
     "execution_count": 29,
     "metadata": {},
     "output_type": "execute_result"
    }
   ],
   "source": [
    "mountain_df.head()"
   ]
  },
  {
   "cell_type": "markdown",
   "id": "f3720b4b-af2c-44bb-9a94-dc30501fb4a4",
   "metadata": {},
   "source": [
    "### [moderate] Application to data\n",
    "\n",
    "Using the functions you implemented today, perform a basic statistical description of `highest_mountains.csv`, `salary.csv` and `heights_wweights.csv` datasets."
   ]
  },
  {
   "cell_type": "code",
   "execution_count": 32,
   "id": "d922a659",
   "metadata": {},
   "outputs": [
    {
     "data": {
      "text/plain": [
       "0       90000.0\n",
       "1       65000.0\n",
       "2      150000.0\n",
       "3       60000.0\n",
       "4      200000.0\n",
       "         ...   \n",
       "370     85000.0\n",
       "371    170000.0\n",
       "372     40000.0\n",
       "373     90000.0\n",
       "374    150000.0\n",
       "Name: Salary, Length: 375, dtype: float64"
      ]
     },
     "execution_count": 32,
     "metadata": {},
     "output_type": "execute_result"
    }
   ],
   "source": [
    "sal_df['Salary']"
   ]
  },
  {
   "cell_type": "code",
   "execution_count": 34,
   "id": "40ba35b1",
   "metadata": {},
   "outputs": [
    {
     "data": {
      "text/plain": [
       "[90000.0,\n",
       " 65000.0,\n",
       " 150000.0,\n",
       " 60000.0,\n",
       " 200000.0,\n",
       " 55000.0,\n",
       " 120000.0,\n",
       " 80000.0,\n",
       " 45000.0,\n",
       " 110000.0,\n",
       " 75000.0,\n",
       " 140000.0,\n",
       " 65000.0,\n",
       " 130000.0,\n",
       " 40000.0,\n",
       " 125000.0,\n",
       " 90000.0,\n",
       " 115000.0,\n",
       " 35000.0,\n",
       " 180000.0,\n",
       " 80000.0,\n",
       " 190000.0,\n",
       " 50000.0,\n",
       " 60000.0,\n",
       " 140000.0,\n",
       " 45000.0,\n",
       " 110000.0,\n",
       " 40000.0,\n",
       " 140000.0,\n",
       " 90000.0,\n",
       " 250000.0,\n",
       " 55000.0,\n",
       " 75000.0,\n",
       " 65000.0,\n",
       " 170000.0,\n",
       " 45000.0,\n",
       " 60000.0,\n",
       " 115000.0,\n",
       " 40000.0,\n",
       " 160000.0,\n",
       " 80000.0,\n",
       " 190000.0,\n",
       " 60000.0,\n",
       " 45000.0,\n",
       " 130000.0,\n",
       " 40000.0,\n",
       " 75000.0,\n",
       " 180000.0,\n",
       " 120000.0,\n",
       " 35000.0,\n",
       " 130000.0,\n",
       " 85000.0,\n",
       " 60000.0,\n",
       " 200000.0,\n",
       " 50000.0,\n",
       " 95000.0,\n",
       " 65000.0,\n",
       " 140000.0,\n",
       " 55000.0,\n",
       " 105000.0,\n",
       " 170000.0,\n",
       " 50000.0,\n",
       " 80000.0,\n",
       " 180000.0,\n",
       " 35000.0,\n",
       " 90000.0,\n",
       " 120000.0,\n",
       " 45000.0,\n",
       " 90000.0,\n",
       " 150000.0,\n",
       " 65000.0,\n",
       " 70000.0,\n",
       " 190000.0,\n",
       " 40000.0,\n",
       " 120000.0,\n",
       " 95000.0,\n",
       " 160000.0,\n",
       " 100000.0,\n",
       " 180000.0,\n",
       " 55000.0,\n",
       " 70000.0,\n",
       " 80000.0,\n",
       " 30000.0,\n",
       " 250000.0,\n",
       " 40000.0,\n",
       " 95000.0,\n",
       " 45000.0,\n",
       " 80000.0,\n",
       " 135000.0,\n",
       " 55000.0,\n",
       " 120000.0,\n",
       " 40000.0,\n",
       " 105000.0,\n",
       " 170000.0,\n",
       " 75000.0,\n",
       " 65000.0,\n",
       " 160000.0,\n",
       " 35000.0,\n",
       " 90000.0,\n",
       " 110000.0,\n",
       " 45000.0,\n",
       " 95000.0,\n",
       " 150000.0,\n",
       " 50000.0,\n",
       " 80000.0,\n",
       " 220000.0,\n",
       " 50000.0,\n",
       " 60000.0,\n",
       " 100000.0,\n",
       " 40000.0,\n",
       " 110000.0,\n",
       " 95000.0,\n",
       " 130000.0,\n",
       " 90000.0,\n",
       " 35000.0,\n",
       " 95000.0,\n",
       " 65000.0,\n",
       " 170000.0,\n",
       " 45000.0,\n",
       " 120000.0,\n",
       " 100000.0,\n",
       " 180000.0,\n",
       " 50000.0,\n",
       " 80000.0,\n",
       " 140000.0,\n",
       " 40000.0,\n",
       " 95000.0,\n",
       " 110000.0,\n",
       " 50000.0,\n",
       " 105000.0,\n",
       " 160000.0,\n",
       " 45000.0,\n",
       " 100000.0,\n",
       " 160000.0,\n",
       " 35000.0,\n",
       " 55000.0,\n",
       " 140000.0,\n",
       " 50000.0,\n",
       " 60000.0,\n",
       " 120000.0,\n",
       " 40000.0,\n",
       " 110000.0,\n",
       " 50000.0,\n",
       " 135000.0,\n",
       " 40000.0,\n",
       " 90000.0,\n",
       " 150000.0,\n",
       " 60000.0,\n",
       " 80000.0,\n",
       " 175000.0,\n",
       " 45000.0,\n",
       " 120000.0,\n",
       " 140000.0,\n",
       " 35000.0,\n",
       " 95000.0,\n",
       " 110000.0,\n",
       " 50000.0,\n",
       " 115000.0,\n",
       " 185000.0,\n",
       " 40000.0,\n",
       " 90000.0,\n",
       " 175000.0,\n",
       " 45000.0,\n",
       " 80000.0,\n",
       " 120000.0,\n",
       " 35000.0,\n",
       " 110000.0,\n",
       " 150000.0,\n",
       " 50000.0,\n",
       " 105000.0,\n",
       " 180000.0,\n",
       " 40000.0,\n",
       " nan,\n",
       " 140000.0,\n",
       " 45000.0,\n",
       " 85000.0,\n",
       " 140000.0,\n",
       " 50000.0,\n",
       " 80000.0,\n",
       " 170000.0,\n",
       " 40000.0,\n",
       " 105000.0,\n",
       " 145000.0,\n",
       " 40000.0,\n",
       " 85000.0,\n",
       " 130000.0,\n",
       " 95000.0,\n",
       " 100000.0,\n",
       " 180000.0,\n",
       " 35000.0,\n",
       " 95000.0,\n",
       " 170000.0,\n",
       " 45000.0,\n",
       " 95000.0,\n",
       " 120000.0,\n",
       " 40000.0,\n",
       " 90000.0,\n",
       " 155000.0,\n",
       " 55000.0,\n",
       " 110000.0,\n",
       " 180000.0,\n",
       " 45000.0,\n",
       " 130000.0,\n",
       " 45000.0,\n",
       " 90000.0,\n",
       " 160000.0,\n",
       " 50000.0,\n",
       " 120000.0,\n",
       " 170000.0,\n",
       " 40000.0,\n",
       " 110000.0,\n",
       " 150000.0,\n",
       " 40000.0,\n",
       " 85000.0,\n",
       " 130000.0,\n",
       " 100000.0,\n",
       " 95000.0,\n",
       " 180000.0,\n",
       " 35000.0,\n",
       " 100000.0,\n",
       " 170000.0,\n",
       " 45000.0,\n",
       " 100000.0,\n",
       " 140000.0,\n",
       " 40000.0,\n",
       " 105000.0,\n",
       " 160000.0,\n",
       " 70000.0,\n",
       " 120000.0,\n",
       " 190000.0,\n",
       " 45000.0,\n",
       " 120000.0,\n",
       " 50000.0,\n",
       " 85000.0,\n",
       " 140000.0,\n",
       " 45000.0,\n",
       " 100000.0,\n",
       " 140000.0,\n",
       " 70000.0,\n",
       " 120000.0,\n",
       " 160000.0,\n",
       " 40000.0,\n",
       " 120000.0,\n",
       " 150000.0,\n",
       " 70000.0,\n",
       " 95000.0,\n",
       " 180000.0,\n",
       " 50000.0,\n",
       " 95000.0,\n",
       " 170000.0,\n",
       " 40000.0,\n",
       " 110000.0,\n",
       " 150000.0,\n",
       " 40000.0,\n",
       " 85000.0,\n",
       " 130000.0,\n",
       " 100000.0,\n",
       " 95000.0,\n",
       " 180000.0,\n",
       " 350.0,\n",
       " nan,\n",
       " 120000.0,\n",
       " 160000.0,\n",
       " 50000.0,\n",
       " 110000.0,\n",
       " 40000.0,\n",
       " 95000.0,\n",
       " 140000.0,\n",
       " 60000.0,\n",
       " 110000.0,\n",
       " 150000.0,\n",
       " 60000.0,\n",
       " 90000.0,\n",
       " 180000.0,\n",
       " 40000.0,\n",
       " 120000.0,\n",
       " 160000.0,\n",
       " 70000.0,\n",
       " 95000.0,\n",
       " 180000.0,\n",
       " 50000.0,\n",
       " 95000.0,\n",
       " 170000.0,\n",
       " 35000.0,\n",
       " 100000.0,\n",
       " 150000.0,\n",
       " 60000.0,\n",
       " 85000.0,\n",
       " 130000.0,\n",
       " 65000.0,\n",
       " 110000.0,\n",
       " 180000.0,\n",
       " 40000.0,\n",
       " 90000.0,\n",
       " 140000.0,\n",
       " 60000.0,\n",
       " 130000.0,\n",
       " 160000.0,\n",
       " 40000.0,\n",
       " 100000.0,\n",
       " 180000.0,\n",
       " 55000.0,\n",
       " 120000.0,\n",
       " 150000.0,\n",
       " 70000.0,\n",
       " 95000.0,\n",
       " 180000.0,\n",
       " 50000.0,\n",
       " 120000.0,\n",
       " 170000.0,\n",
       " 35000.0,\n",
       " 100000.0,\n",
       " 150000.0,\n",
       " 60000.0,\n",
       " 85000.0,\n",
       " 130000.0,\n",
       " 80000.0,\n",
       " 95000.0,\n",
       " 40000.0,\n",
       " 120000.0,\n",
       " 160000.0,\n",
       " 65000.0,\n",
       " 130000.0,\n",
       " 180000.0,\n",
       " 40000.0,\n",
       " 100000.0,\n",
       " 150000.0,\n",
       " 55000.0,\n",
       " 110000.0,\n",
       " 180000.0,\n",
       " 50000.0,\n",
       " 130000.0,\n",
       " 160000.0,\n",
       " 60000.0,\n",
       " 95000.0,\n",
       " 170000.0,\n",
       " 40000.0,\n",
       " 90000.0,\n",
       " 150000.0,\n",
       " 70000.0,\n",
       " 90000.0,\n",
       " 170000.0,\n",
       " 50000.0,\n",
       " 150000.0,\n",
       " 160000.0,\n",
       " 60000.0,\n",
       " 85000.0,\n",
       " 180000.0,\n",
       " 35000.0,\n",
       " 110000.0,\n",
       " 160000.0,\n",
       " 55000.0,\n",
       " 110000.0,\n",
       " 180000.0,\n",
       " 50000.0,\n",
       " 130000.0,\n",
       " 160000.0,\n",
       " 60000.0,\n",
       " 95000.0,\n",
       " 170000.0,\n",
       " 40000.0,\n",
       " 90000.0,\n",
       " 150000.0,\n",
       " 70000.0,\n",
       " 90000.0,\n",
       " 170000.0,\n",
       " 50000.0,\n",
       " 150000.0,\n",
       " 160000.0,\n",
       " 60000.0,\n",
       " 85000.0,\n",
       " 170000.0,\n",
       " 40000.0,\n",
       " 90000.0,\n",
       " 150000.0]"
      ]
     },
     "execution_count": 34,
     "metadata": {},
     "output_type": "execute_result"
    }
   ],
   "source": [
    "sal_df['Salary'].tolist()"
   ]
  },
  {
   "cell_type": "code",
   "execution_count": 35,
   "id": "0d14fc9e-3890-4e1f-9dd6-7fb24f0921e9",
   "metadata": {
    "scrolled": true
   },
   "outputs": [
    {
     "data": {
      "text/plain": [
       "([75000.0, 90000.0, nan, 100000.0, 115000.0],\n",
       " {350.0,\n",
       "  30000.0,\n",
       "  35000.0,\n",
       "  40000.0,\n",
       "  45000.0,\n",
       "  50000.0,\n",
       "  55000.0,\n",
       "  60000.0,\n",
       "  65000.0,\n",
       "  70000.0,\n",
       "  120000.0,\n",
       "  125000.0,\n",
       "  130000.0,\n",
       "  135000.0,\n",
       "  140000.0,\n",
       "  145000.0,\n",
       "  150000.0,\n",
       "  155000.0,\n",
       "  160000.0,\n",
       "  170000.0,\n",
       "  175000.0,\n",
       "  180000.0,\n",
       "  185000.0,\n",
       "  190000.0,\n",
       "  200000.0,\n",
       "  220000.0,\n",
       "  250000.0})"
      ]
     },
     "execution_count": 35,
     "metadata": {},
     "output_type": "execute_result"
    }
   ],
   "source": [
    "## YOUR CODE HERE\n",
    "box_plotsdata(weight_df['Height(Inches)'].tolist())"
   ]
  },
  {
   "cell_type": "code",
   "execution_count": null,
   "id": "c91cb325",
   "metadata": {},
   "outputs": [],
   "source": [
    "box_plotsdata(sal_df['Salary'].tolist())"
   ]
  },
  {
   "cell_type": "markdown",
   "id": "a38622a9-76fe-4d3c-956d-934593ffe446",
   "metadata": {},
   "source": [
    "### [advanced] Deciles, percentiles, etc.\n",
    "\n",
    "Write a function that takes a data set and an integer `P` as parameter.\n",
    "`P` will be the number of segment in which we want to slice our data (4 means quartiles, 10 deciles, 100 percentiles).\n",
    "Function should output all values (N-1).\n",
    "Function should also print N messages like this, replacing `[...]` by the correct value:\n",
    "```\n",
    "[...]% of data values are below [...]\n",
    "[...]% of data values are between [...] and [...]\n",
    "...\n",
    "[...]% percent of data values are above [...]\n",
    "```\n",
    "For instance, if `P=4`, the message should look like this (replacing `[Q1]` by actual values):\n",
    "```\n",
    "25% of data values are below [Q1]\n",
    "50% of data values are below [Q2]\n",
    "75% of data values are below [Q3]\n",
    "```\n",
    "\n",
    "Validate on weights dataset."
   ]
  },
  {
   "cell_type": "code",
   "execution_count": null,
   "id": "b69b56f1-8927-43a3-9825-07cdcb341bf6",
   "metadata": {},
   "outputs": [],
   "source": [
    "## YOUR CODE HERE"
   ]
  },
  {
   "cell_type": "code",
   "execution_count": 77,
   "id": "6e306008",
   "metadata": {},
   "outputs": [
    {
     "name": "stdout",
     "output_type": "stream",
     "text": [
      "25.0% of data values are below 3.25\n",
      "50.0% of data values are below 5.50\n",
      "75.0% of data values are below 7.75\n",
      "\n",
      "Returned percentiles: [3.25, 5.5, 7.75]\n"
     ]
    }
   ],
   "source": [
    "def calculate_percentile(data,n):\n",
    "        N = len(data)\n",
    "        index = (n / 100) * (N - 1)\n",
    "        if index.is_integer():\n",
    "            return data[int(index)]\n",
    "        else:\n",
    "            lower = int(index)\n",
    "            fraction = index - lower\n",
    "            return data[lower] + fraction * (data[lower + 1] - data[lower])\n",
    "        \n",
    "        \n",
    "def advanced_percentiles(data, P):\n",
    "    sorted_data = sorted(data)\n",
    "    N = len(sorted_data)\n",
    "    \n",
    "    \n",
    "    \n",
    "    percentiles = [calculate_percentile(sorted_data,(i+1) * 100 / P) for i in range(P-1)]\n",
    "    \n",
    "    for i in range(P-1):\n",
    "        print(f\"{(i+1)*100/P:.1f}% of data values are below {percentiles[i]:.2f}\")\n",
    "    \n",
    "    return percentiles\n",
    "\n",
    "# Example usage:\n",
    "data = [1, 2, 3, 4, 5, 6, 7, 8, 9, 10]\n",
    "result = advanced_percentiles(data, 4)  # For quartiles\n",
    "print(\"\\nReturned percentiles:\", result)"
   ]
  },
  {
   "cell_type": "code",
   "execution_count": 78,
   "id": "bf1e8f58",
   "metadata": {},
   "outputs": [
    {
     "name": "stdout",
     "output_type": "stream",
     "text": [
      "10.0% of data values are below 12.60\n",
      "20.0% of data values are below 37.20\n",
      "30.0% of data values are below 40.10\n",
      "40.0% of data values are below 41.80\n",
      "50.0% of data values are below 45.00\n",
      "60.0% of data values are below 52.60\n",
      "70.0% of data values are below 85.90\n",
      "80.0% of data values are below 160.00\n",
      "90.0% of data values are below 360.00\n"
     ]
    },
    {
     "data": {
      "text/plain": [
       "[12.600000000000001,\n",
       " 37.2,\n",
       " 40.1,\n",
       " 41.8,\n",
       " 45.0,\n",
       " 52.59999999999999,\n",
       " 85.89999999999998,\n",
       " 160.00000000000014,\n",
       " 360.0000000000001]"
      ]
     },
     "execution_count": 78,
     "metadata": {},
     "output_type": "execute_result"
    }
   ],
   "source": [
    "advanced_percentiles(test_data1,10)"
   ]
  },
  {
   "cell_type": "markdown",
   "id": "b96a6459-e329-40cc-96dc-c6e0112008fe",
   "metadata": {},
   "source": [
    "### [advanced] Compute empirical critical values\n",
    "\n",
    "When performing statistical tests or building confidence intervals, \n",
    "you will sometimes need to compute the critical values for a given significance level $\\alpha$  (typically $\\alpha=0.05$).\n",
    "\n",
    "Using function from previous question, write a function that will compute this critical values (lower and upper), for two-tailed tests (lower critical value $c_l$, such that $P(X < c_l) = \\alpha / 2$, upper critical value is $c_h$, such that $P(X < c_h) = 1-\\alpha / 2$\n"
   ]
  },
  {
   "cell_type": "code",
   "execution_count": 79,
   "id": "320ce807-f386-496d-89f7-c48fb22665d7",
   "metadata": {},
   "outputs": [],
   "source": [
    "## YOUR CODE HERE\n",
    "\n",
    "def critical_values(data, alpha=0.05):\n",
    "    data=sorted(data)\n",
    "    lower_percentile = alpha / 2 * 100\n",
    "    upper_percentile = (1 - alpha / 2) * 100\n",
    "    \n",
    "    lower_critical = calculate_percentile(data, lower_percentile)\n",
    "    upper_critical = calculate_percentile(data, upper_percentile)\n",
    "    \n",
    "    print(f\"For significance level α = {alpha}:\")\n",
    "    print(f\"Lower critical value (cl): {lower_critical:.4f}\")\n",
    "    print(f\"Upper critical value (ch): {upper_critical:.4f}\")\n",
    "    print(f\"P(X < cl) = {alpha/2:.4f}\")\n",
    "    print(f\"P(X < ch) = {1-alpha/2:.4f}\")\n",
    "    \n",
    "    return lower_critical, upper_critical\n"
   ]
  },
  {
   "cell_type": "code",
   "execution_count": 84,
   "id": "3a9a28c0",
   "metadata": {},
   "outputs": [
    {
     "data": {
      "text/plain": [
       "[6, 7, 15, 36, 39, 40, 41, 42, 43, 47, 49, 67, 88, 100, 200, 300, 500, 1000]"
      ]
     },
     "execution_count": 84,
     "metadata": {},
     "output_type": "execute_result"
    }
   ],
   "source": [
    "test_data1"
   ]
  },
  {
   "cell_type": "code",
   "execution_count": 82,
   "id": "b53f4ce1",
   "metadata": {},
   "outputs": [
    {
     "name": "stdout",
     "output_type": "stream",
     "text": [
      "For significance level α = 0.05:\n",
      "Lower critical value (cl): 6.4250\n",
      "Upper critical value (ch): 787.5000\n",
      "P(X < cl) = 0.0250\n",
      "P(X < ch) = 0.9750\n"
     ]
    }
   ],
   "source": [
    "# Calculate critical values for α = 0.05 (default)\n",
    "cl, ch = critical_values(test_data1)"
   ]
  },
  {
   "cell_type": "code",
   "execution_count": 83,
   "id": "8a7da4bf",
   "metadata": {},
   "outputs": [
    {
     "name": "stdout",
     "output_type": "stream",
     "text": [
      "For significance level α = 0.01:\n",
      "Lower critical value (cl): 6.0850\n",
      "Upper critical value (ch): 957.5000\n",
      "P(X < cl) = 0.0050\n",
      "P(X < ch) = 0.9950\n"
     ]
    }
   ],
   "source": [
    "cl, ch = critical_values(test_data1,alpha=0.01)"
   ]
  },
  {
   "cell_type": "markdown",
   "id": "a1952427-d3c5-4a30-a0b5-9097b287df39",
   "metadata": {},
   "source": [
    "## Object-oriented programming"
   ]
  },
  {
   "cell_type": "markdown",
   "id": "2e825cfa-f772-44b1-b216-414be6fc54ee",
   "metadata": {},
   "source": [
    "### Q6 [advanced] Convert all your functions and organize them in classes using OOP\n",
    "\n",
    "The idea is that using OOP you can build your own statistics package, tailored to your needs.\n",
    "Think carefully how you will organize your package, how you want to use it, etc.\n"
   ]
  },
  {
   "cell_type": "code",
   "execution_count": 2,
   "id": "ea87faea-5ff7-46b5-ace2-02f05e487f56",
   "metadata": {},
   "outputs": [],
   "source": [
    "## YOUR CODE HERE"
   ]
  },
  {
   "cell_type": "code",
   "execution_count": 87,
   "id": "59f8187f",
   "metadata": {},
   "outputs": [
    {
     "name": "stdout",
     "output_type": "stream",
     "text": [
      "Summary: {'mean': 145.55555555555554, 'median': 45.0, 'mode': 67, 'std_dev': 246.80409526162342, 'variance': 60912.26143790849, 'range': 994, 'iqr': 57.75, 'skewness': 2.420240133078133, 'kurtosis': 8.256078998386121}\n",
      "Deciles: [12.6, 37.2, 40.1, 41.8, 45.0, 52.59999999999999, 85.9, 159.99999999999997, 360.0000000000001]\n",
      "Box Plot Data: {'lower_fence': -47.375, 'q1': 39.25, 'median': 45.0, 'q3': 97.0, 'upper_fence': 183.625, 'outliers': [200, 300, 500, 1000]}\n",
      "Critical Values (α=0.05): (6.425, 787.4999999999997)\n"
     ]
    }
   ],
   "source": [
    "import math\n",
    "import statistics\n",
    "\n",
    "class StatsBase:\n",
    "    def __init__(self, data):\n",
    "        self.data = data\n",
    "\n",
    "    def mean(self):\n",
    "        return sum(self.data) / len(self.data)\n",
    "\n",
    "    def median(self):\n",
    "        sorted_data = sorted(self.data)\n",
    "        n = len(sorted_data)\n",
    "        if n % 2 == 0:\n",
    "            return (sorted_data[n//2 - 1] + sorted_data[n//2]) / 2\n",
    "        else:\n",
    "            return sorted_data[n//2]\n",
    "\n",
    "    def mode(self):\n",
    "        return max(set(self.data), key=self.data.count)\n",
    "\n",
    "    def range(self):\n",
    "        return max(self.data) - min(self.data)\n",
    "\n",
    "    def variance(self, sample=True):\n",
    "        mean = self.mean()\n",
    "        squared_diff_sum = sum((x - mean) ** 2 for x in self.data)\n",
    "        if sample:\n",
    "            return squared_diff_sum / (len(self.data) - 1)\n",
    "        else:\n",
    "            return squared_diff_sum / len(self.data)\n",
    "\n",
    "    def std_dev(self, sample=True):\n",
    "        return math.sqrt(self.variance(sample))\n",
    "\n",
    "class DescriptiveStats(StatsBase):\n",
    "    def geometric_mean(self):\n",
    "        product = 1\n",
    "        for item in self.data:\n",
    "            product *= item\n",
    "        return product ** (1 / len(self.data))\n",
    "\n",
    "    def harmonic_mean(self):\n",
    "        return len(self.data) / sum(1 / x for x in self.data)\n",
    "\n",
    "    def coef_var(self):\n",
    "        return self.std_dev() / self.mean()\n",
    "\n",
    "class Quantiles(StatsBase):\n",
    "    def percentile(self, p):\n",
    "        sorted_data = sorted(self.data)\n",
    "        n = len(sorted_data)\n",
    "        index = p * (n - 1) / 100\n",
    "        if index.is_integer():\n",
    "            return sorted_data[int(index)]\n",
    "        else:\n",
    "            lower = int(index)\n",
    "            fraction = index - lower\n",
    "            return sorted_data[lower] + fraction * (sorted_data[lower + 1] - sorted_data[lower])\n",
    "\n",
    "    def quartile(self, q):\n",
    "        return self.percentile(q * 25)\n",
    "\n",
    "    def iqr(self):\n",
    "        return self.quartile(3) - self.quartile(1)\n",
    "\n",
    "    def deciles(self):\n",
    "        return [self.percentile(i * 10) for i in range(1, 10)]\n",
    "\n",
    "    def box_plot_data(self):\n",
    "        q1, q2, q3 = self.quartile(1), self.quartile(2), self.quartile(3)\n",
    "        iqr = self.iqr()\n",
    "        lower_fence = q1 - 1.5 * iqr\n",
    "        upper_fence = q3 + 1.5 * iqr\n",
    "        outliers = [x for x in self.data if x < lower_fence or x > upper_fence]\n",
    "        return {\n",
    "            'lower_fence': lower_fence,\n",
    "            'q1': q1,\n",
    "            'median': q2,\n",
    "            'q3': q3,\n",
    "            'upper_fence': upper_fence,\n",
    "            'outliers': outliers\n",
    "        }\n",
    "\n",
    "class MomentsAndCriticalValues(StatsBase):\n",
    "    def moment(self, n):\n",
    "        mean = self.mean()\n",
    "        return sum((x - mean) ** n for x in self.data) / len(self.data)\n",
    "\n",
    "    def standard_moment(self, n):\n",
    "        return self.moment(n) / (self.std_dev() ** n)\n",
    "\n",
    "    def skewness(self):\n",
    "        return self.standard_moment(3)\n",
    "\n",
    "    def kurtosis(self):\n",
    "        return self.standard_moment(4)\n",
    "\n",
    "    def critical_values(self, alpha=0.05):\n",
    "        sorted_data = sorted(self.data)\n",
    "        lower_percentile = alpha / 2 * 100\n",
    "        upper_percentile = (1 - alpha / 2) * 100\n",
    "        \n",
    "        lower_critical = Quantiles(self.data).percentile(lower_percentile)\n",
    "        upper_critical = Quantiles(self.data).percentile(upper_percentile)\n",
    "        \n",
    "        return lower_critical, upper_critical\n",
    "\n",
    "class StatsPackage(DescriptiveStats, Quantiles, MomentsAndCriticalValues):\n",
    "    def __init__(self, data):\n",
    "        super().__init__(data)\n",
    "\n",
    "    def summary(self):\n",
    "        return {\n",
    "            'mean': self.mean(),\n",
    "            'median': self.median(),\n",
    "            'mode': self.mode(),\n",
    "            'std_dev': self.std_dev(),\n",
    "            'variance': self.variance(),\n",
    "            'range': self.range(),\n",
    "            'iqr': self.iqr(),\n",
    "            'skewness': self.skewness(),\n",
    "            'kurtosis': self.kurtosis()\n",
    "        }\n",
    "\n",
    "# Example usage:\n",
    "\n",
    "stats = StatsPackage(test_data1)\n",
    "\n",
    "print(\"Summary:\", stats.summary())\n",
    "print(\"Deciles:\", stats.deciles())\n",
    "print(\"Box Plot Data:\", stats.box_plot_data())\n",
    "print(\"Critical Values (α=0.05):\", stats.critical_values())"
   ]
  },
  {
   "cell_type": "code",
   "execution_count": null,
   "id": "e0dee1da",
   "metadata": {},
   "outputs": [],
   "source": []
  }
 ],
 "metadata": {
  "kernelspec": {
   "display_name": "Python 3 (ipykernel)",
   "language": "python",
   "name": "python3"
  },
  "language_info": {
   "codemirror_mode": {
    "name": "ipython",
    "version": 3
   },
   "file_extension": ".py",
   "mimetype": "text/x-python",
   "name": "python",
   "nbconvert_exporter": "python",
   "pygments_lexer": "ipython3",
   "version": "3.11.5"
  },
  "toc": {
   "base_numbering": 1,
   "nav_menu": {},
   "number_sections": true,
   "sideBar": true,
   "skip_h1_title": false,
   "title_cell": "Table of Contents",
   "title_sidebar": "Contents",
   "toc_cell": false,
   "toc_position": {},
   "toc_section_display": true,
   "toc_window_display": false
  }
 },
 "nbformat": 4,
 "nbformat_minor": 5
}
