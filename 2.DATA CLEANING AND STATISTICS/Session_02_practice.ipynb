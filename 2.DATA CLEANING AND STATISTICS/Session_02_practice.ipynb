{
 "cells": [
  {
   "cell_type": "code",
   "execution_count": 1,
   "id": "9dc54d45-4680-4113-a577-fae23d125d38",
   "metadata": {},
   "outputs": [
    {
     "data": {
      "text/markdown": [
       "<div>\n",
       "    <img src=\"images/emlyon.png\" style=\"height:60px; float:left; padding-right:10px; margin-top:5px\" />\n",
       "    <span>\n",
       "        <h1 style=\"padding-bottom:5px;\"> AI Booster Week 01 - Python for Data Science </h1>\n",
       "        <a href=\"https://masters.em-lyon.com/fr/msc-in-data-science-artificial-intelligence-strategy\">[Emlyon]</a> MSc in Data Science & Artificial Intelligence Strategy (DSAIS) <br/>\n",
       "         Paris | © Antoine SCHERRER\n",
       "    </span>\n",
       "</div>\n",
       "\n",
       "Please make sure you have a working installation of Jupyter Notebook / Jupyter Lab, with Python 3.6+ up and running.\n",
       "\n",
       "## Naming conventions\n",
       "\n",
       "Since we will implement functions that are already available in python standard library or other libraries, you will have to *prefix* every function with `msds_` prefix.\n",
       "\n",
       "For instance, the function implementing the `mean` function should be named `msds_mean`.\n",
       "\n",
       "For every function you write, you will need to write a test function that should be names `test_msds_[function_name]`.\n",
       "\n",
       "For instance, the test function for the mean will be: `test_msds_mean`.\n",
       "\n",
       "All function should be in snake case (no Camel case!)\n",
       "\n",
       "When creating classes, then follow these rules:\n",
       " - class names should be in camel case\n",
       " - method names should be in snake case\n",
       " - attribute names should be in \n",
       "\n",
       "## Exercise's difficulty\n",
       "\n",
       "Every exercise will be prefixed with an indication of its difficulty:\n",
       " - [easy]: for very easy exercise\n",
       " - [moderate]: for intermediate level exercise\n",
       " - [advanced]: for advanced students\n",
       "\n",
       "Advanced exercises are not mandatory.\n"
      ],
      "text/plain": [
       "<IPython.core.display.Markdown object>"
      ]
     },
     "metadata": {},
     "output_type": "display_data"
    }
   ],
   "source": [
    "from IPython.display import Markdown, display\n",
    "display(Markdown(\"header.md\"))"
   ]
  },
  {
   "cell_type": "markdown",
   "id": "d3e5e913-688b-4ba1-90d6-c80235cb6521",
   "metadata": {},
   "source": [
    "## Session 02 - Univariate statistics - Practice\n",
    "\n",
    "Solving **all** question from Session_02 is mandatory before solving these practice exercises."
   ]
  },
  {
   "cell_type": "markdown",
   "id": "409e15c3-56c0-454f-aed8-a51edf84c586",
   "metadata": {},
   "source": [
    "## Qualitative data\n"
   ]
  },
  {
   "cell_type": "markdown",
   "id": "bbb0131c-00cf-40ce-aec5-1a0c29c76ba4",
   "metadata": {},
   "source": [
    "### [moderate] Text analysis\n",
    "\n",
    "Perform a study of Romeo and Juliet text, answering the following questions:\n",
    " - compute frequency distribution of words (this will require some cleaning...)\n",
    " - build visualization for this frequency distribution\n",
    " - compute letter frequency distribution in the text (only 26 letters of the alphabet)\n",
    " - build visualization for this frequency distribution\n",
    " - compare your findings with standard letter distribution in English (that you will have to find online)\n",
    "\n"
   ]
  },
  {
   "cell_type": "markdown",
   "id": "a07b4327-9b94-43db-bef2-fa33ee3e540e",
   "metadata": {},
   "source": [
    "### [advanced] Using letter frequency analysis from Q2 (or english letter frequency you will find online), will you be able to decrypt this English text ?\n",
    "\n",
    "Here is the encrypted text: \"Jvunyhabshapvu fvb thkl pa fvb hyl uvd h zahapzapjhs ohjrly iba pu vykly av thrl aol slaaly l aol tvza mylxblua pu aopz alea P ohk av bzl tvyl dvykz sprl ill, rull ltwsvfll huk zv vu\"\n",
    "\n",
    "*This idea is that you manage to code the solution (I don't doubt you will find the solution online, but it's your code I'm interested in, not the solution !)*"
   ]
  },
  {
   "cell_type": "markdown",
   "id": "b452ee10-0f28-46cd-81ff-fa0c9f64eb06",
   "metadata": {},
   "source": [
    "## Quantitative data"
   ]
  },
  {
   "cell_type": "markdown",
   "id": "6affd76c-1345-453b-b8e1-2eebab399e1c",
   "metadata": {},
   "source": [
    "### [easy] Analyze quantitative data from the `salary.csv` dataset\n",
    "\n",
    " - Compute, display and plot histograms/cumulative histograms for every quantitative data columns.\n",
    " - Find an appropriate number of bins for every column and explain your choices.\n",
    "\n",
    "*Take some time to improve the graphical quality of your charts, explore various graphical representation using matplotlib and seaborn (or any other library you fancy)*"
   ]
  },
  {
   "cell_type": "markdown",
   "id": "de5e4f72-bd4b-4c57-ac59-4f5c4b838ca6",
   "metadata": {},
   "source": [
    "### [moderate] Analyze quantitative data from the `heights_weights.csv` dataset.\n",
    "\n",
    " - Convert data into metric system units (cm and kg)\n",
    " - Compute, display and plot histograms/Pareto charts for heights and weights\n",
    " - Find an appropriate number of bins for every column and explain your choices\n",
    "\n",
    "*Take some time to improve the graphical quality of your charts, explore various graphical representation using matplotlib and seaborn (or any other library you fancy)*\n"
   ]
  },
  {
   "cell_type": "markdown",
   "id": "2b9a585e-e213-4249-81d1-8da3e3d42476",
   "metadata": {},
   "source": [
    "### [moderate] Analyze quantitative data from the `wine.csv` dataset.\n",
    "\n",
    "This dataset has a lot of columns, so if don't want to repeat yourself (and you don't want to!), you'll have to define high level functions!"
   ]
  },
  {
   "cell_type": "markdown",
   "id": "6cfd4f20-5876-40d4-bffb-85d3f6322834",
   "metadata": {},
   "source": [
    "### [advanced] Explore other ways to represent data distribution\n",
    "\n",
    "Check the online documentation of seaborn (or plotly) and generate on the dataset you want these diagrams:\n",
    " - `violinplot`\n",
    " - multiple violin charts (breaking down your data by a qualitative column for instance)\n",
    " - `boxplot`\n",
    " - multiple box plots\n",
    " - `boxenplot`\n",
    " - multiple boxen plots\n",
    " - `stripplot`\n",
    " - multiple strip plots\n",
    "\n",
    "Explore ways to combine these graphical representations.\n",
    "\n"
   ]
  },
  {
   "cell_type": "markdown",
   "id": "2e63df66-7a02-491c-b9ff-71192825c572",
   "metadata": {},
   "source": [
    "## Object-oriented programming"
   ]
  },
  {
   "cell_type": "markdown",
   "id": "dc9e440a-a09a-4a86-a2c8-6d0ec807aaa1",
   "metadata": {},
   "source": [
    "### [advanced] Convert all your functions and organize them in classes using OOP"
   ]
  }
 ],
 "metadata": {
  "kernelspec": {
   "display_name": "Python 3 (ipykernel)",
   "language": "python",
   "name": "python3"
  },
  "language_info": {
   "codemirror_mode": {
    "name": "ipython",
    "version": 3
   },
   "file_extension": ".py",
   "mimetype": "text/x-python",
   "name": "python",
   "nbconvert_exporter": "python",
   "pygments_lexer": "ipython3",
   "version": "3.11.5"
  },
  "toc": {
   "base_numbering": 1,
   "nav_menu": {},
   "number_sections": true,
   "sideBar": true,
   "skip_h1_title": false,
   "title_cell": "Table of Contents",
   "title_sidebar": "Contents",
   "toc_cell": false,
   "toc_position": {},
   "toc_section_display": true,
   "toc_window_display": false
  }
 },
 "nbformat": 4,
 "nbformat_minor": 5
}
