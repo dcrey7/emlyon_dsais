{
 "cells": [
  {
   "cell_type": "markdown",
   "metadata": {},
   "source": [
    "<table style=\"float:left\">\n",
    "    <tr>\n",
    "        <td>\n",
    "            <img src=\"images/emlyon.png\" style=\"height:60px; float:left; padding-right:10px; margin-top:5px\" />\n",
    "        </td>\n",
    "        <td style=\"padding-bottom:10px;\">\n",
    "            <h1 style=\"border-bottom: 1px solid #eeeeee;\"> AI Booster Week 01 - Python for Data Science </h1>\n",
    "            <span style=\"display:inline-block; margin-top:-15px;\">\n",
    "            <a href=\"https://masters.em-lyon.com/fr/msc-in-data-science-artificial-intelligence-strategy\">[Emlyon]</a> MSc in Data Science & Artificial Intelligence Strategy (DSAIS)    \n",
    "            <br/>\n",
    "            Sep 2024, Paris | © Saeed VARASTEH\n",
    "            </span>\n",
    "        </td>\n",
    "    </tr>\n",
    "</table>"
   ]
  },
  {
   "cell_type": "markdown",
   "metadata": {},
   "source": [
    "<div class=\"alert-info\" style=\"border-bottom: solid 1px lightgray; background-color:#ece4f5;\">\n",
    "    <img src=\"images/assignment.png\" style=\"height:60px; float:left; padding-right:10px;\" />\n",
    "    <span style=\"font-weight:bold; color:#8966b0\">\n",
    "        <h4 style=\"padding-top:25px;\"> EXERCISES 03 </h4>\n",
    "    </span>\n",
    "</div>"
   ]
  },
  {
   "cell_type": "markdown",
   "metadata": {},
   "source": [
    "### OOP"
   ]
  },
  {
   "cell_type": "markdown",
   "metadata": {},
   "source": [
    "<div style=' background-color:#faf9e8'> \n",
    "    <b>Q1</b> Modeling with OOP.\n",
    "</div>\n",
    "\n",
    "Write a Python program to create a class representing a shopping cart. Include methods for adding and removing items, and calculating the total price.  "
   ]
  },
  {
   "cell_type": "code",
   "execution_count": 32,
   "metadata": {},
   "outputs": [],
   "source": [
    "class Cart:\n",
    "    def __init__(self,customername):\n",
    "        self.customername=customername\n",
    "        self.cartitems={}\n",
    "        \n",
    "    def add_item(self,productname, quantity, price):\n",
    "        self.cartitems[productname]=[quantity,price]\n",
    "        print(f\"added item name is {productname}, quantity is {quantity}, price is {price}\")\n",
    "            \n",
    "    \n",
    "    def remove_item(self, productname):\n",
    "        if productname in self.cartitems.keys():\n",
    "            del self.cartitems[productname]\n",
    "            print(f\"removed all item name is {productname}\")\n",
    "        \n",
    "       \n",
    "        \n",
    "\n",
    "    \n",
    "    def total_price(self):\n",
    "        tp=0\n",
    "        print(\"\\n ********Bill********** \\n\")\n",
    "        for productname,productdetails in self.cartitems.items():\n",
    "            \n",
    "            print(f\"item name is {productname}, quantity is {productdetails[0]}, price is {productdetails[1]}\")\n",
    "            tp=tp+(productdetails[0]*productdetails[1])\n",
    "        return f\"the total is : {tp} euros\"\n",
    "            \n",
    "\n"
   ]
  },
  {
   "cell_type": "code",
   "execution_count": 33,
   "metadata": {},
   "outputs": [
    {
     "name": "stdout",
     "output_type": "stream",
     "text": [
      "added item name is milk, quantity is 2, price is 5\n",
      "added item name is crossiant, quantity is 5, price is 1\n",
      "added item name is chicken, quantity is 1, price is 8\n",
      "added item name is chocolate, quantity is 1, price is 2\n",
      "removed all item name is chocolate\n",
      "\n",
      " ********Bill********** \n",
      "\n",
      "item name is milk, quantity is 2, price is 5\n",
      "item name is crossiant, quantity is 5, price is 1\n",
      "item name is chicken, quantity is 1, price is 8\n"
     ]
    },
    {
     "data": {
      "text/plain": [
       "'the total is : 23 euros'"
      ]
     },
     "execution_count": 33,
     "metadata": {},
     "output_type": "execute_result"
    }
   ],
   "source": [
    "cart1=Cart(\"abhishek\")\n",
    "\n",
    "cart1.add_item(\"milk\",2,5)\n",
    "cart1.add_item(\"crossiant\",5,1)\n",
    "cart1.add_item(\"chicken\",1,8)\n",
    "cart1.add_item(\"chocolate\",1,2)\n",
    "cart1.remove_item(\"chocolate\")\n",
    "\n",
    "# cart1.show_info()\n",
    "\n",
    "cart1.total_price()\n"
   ]
  },
  {
   "cell_type": "markdown",
   "metadata": {},
   "source": [
    "### Files"
   ]
  },
  {
   "cell_type": "markdown",
   "metadata": {},
   "source": [
    "__Q2__ Even Numbers.\n",
    "\n",
    "You are given a __.txt__ file called \"evennumbers.txt\".\n",
    "\n",
    "Write a script that reads in the file and prints the sum of all the even numbers in this file."
   ]
  },
  {
   "cell_type": "code",
   "execution_count": 51,
   "metadata": {},
   "outputs": [
    {
     "name": "stdout",
     "output_type": "stream",
     "text": [
      "392\n"
     ]
    }
   ],
   "source": [
    "myfile=open(r\"data/evennumbers.txt\",mode=\"r\")\n",
    "text=myfile.readlines()\n",
    "sum_text=0\n",
    "for i in text:\n",
    "    i = i.strip('\\n')\n",
    "    i=int(i)\n",
    "    if i%2==0:\n",
    "        sum_text=sum_text+i\n",
    "print(sum_text)\n",
    "myfile.close()"
   ]
  },
  {
   "cell_type": "markdown",
   "metadata": {},
   "source": [
    "<div style=' background-color:#faf9e8'> \n",
    "    <b>Q3</b> Log Files.\n",
    "</div>\n",
    "\n",
    "You are given a .txt file called \"mbox-short.txt\".\n",
    "\n",
    "Create a function that reads in the file and looks for lines with \"http\" in them. (Hint: \"http\" can appear inside a longer string like \"https\".) Keep a count of how many URLs appear. Print out the first URL in each line, but nothing else in that line. This means you need to isolate the URL from the rest of the line (you can use space as the delimiter.)\n",
    "\n",
    "At the end, return the total count of lines containing http in the file."
   ]
  },
  {
   "cell_type": "code",
   "execution_count": 89,
   "metadata": {},
   "outputs": [
    {
     "name": "stdout",
     "output_type": "stream",
     "text": [
      "http://source.sakaiproject.org/viewsvn/?view=rev&rev=39772\n",
      "https://collab.sakaiproject.org/portal\n",
      "http://source.sakaiproject.org/viewsvn/?view=rev&rev=39771\n",
      "https://collab.sakaiproject.org/portal\n",
      "http://source.sakaiproject.org/viewsvn/?view=rev&rev=39770\n",
      "https://source.sakaiproject.org/svn/site-manage/trunk/\n",
      "https://collab.sakaiproject.org/portal\n",
      "http://source.sakaiproject.org/viewsvn/?view=rev&rev=39769\n",
      "https://collab.sakaiproject.org/portal\n",
      "http://source.sakaiproject.org/viewsvn/?view=rev&rev=39766\n",
      "https://collab.sakaiproject.org/portal\n",
      "http://source.sakaiproject.org/viewsvn/?view=rev&rev=39765\n",
      "https://collab.sakaiproject.org/portal\n",
      "http://source.sakaiproject.org/viewsvn/?view=rev&rev=39764\n",
      "https://source.sakaiproject.org/svn/msgcntr/trunk\n",
      "http://jira.sakaiproject.org/jira/browse/SAK-12488\n",
      "https://collab.sakaiproject.org/portal\n",
      "http://source.sakaiproject.org/viewsvn/?view=rev&rev=39763\n",
      "https://source.sakaiproject.org/svn/msgcntr/trunk\n",
      "http://jira.sakaiproject.org/jira/browse/SAK-12484\n",
      "https://collab.sakaiproject.org/portal\n",
      "http://source.sakaiproject.org/viewsvn/?view=rev&rev=39762\n",
      "http://bugs.sakaiproject.org/jira/browse/SAK-12596\n",
      "https://collab.sakaiproject.org/portal\n",
      "http://source.sakaiproject.org/viewsvn/?view=rev&rev=39761\n",
      "http://bugs.sakaiproject.org/jira/browse/SAK-12595\n",
      "https://collab.sakaiproject.org/portal\n",
      "http://source.sakaiproject.org/viewsvn/?view=rev&rev=39760\n",
      "https://collab.sakaiproject.org/portal\n",
      "http://source.sakaiproject.org/viewsvn/?view=rev&rev=39759\n",
      "http://bugs.sakaiproject.org/jira/browse/SAK-12592\n",
      "https://collab.sakaiproject.org/portal\n",
      "http://source.sakaiproject.org/viewsvn/?view=rev&rev=39758\n",
      "http://bugs.sakaiproject.org/jira/browse/SAK-12175\n",
      "https://collab.sakaiproject.org/portal\n",
      "http://source.sakaiproject.org/viewsvn/?view=rev&rev=39757\n",
      "https://collab.sakaiproject.org/portal\n",
      "http://source.sakaiproject.org/viewsvn/?view=rev&rev=39756\n",
      "https://collab.sakaiproject.org/portal\n",
      "http://source.sakaiproject.org/viewsvn/?view=rev&rev=39755\n",
      "https://collab.sakaiproject.org/portal\n",
      "http://source.sakaiproject.org/viewsvn/?view=rev&rev=39754\n",
      "https://source.sakaiproject.org/svn/polls/trunk\n",
      "https://source.sakaiproject.org/svn/polls/trunk\n",
      "https://collab.sakaiproject.org/portal\n",
      "http://source.sakaiproject.org/viewsvn/?view=rev&rev=39753\n",
      "https://collab.sakaiproject.org/portal\n",
      "http://source.sakaiproject.org/viewsvn/?view=rev&rev=39752\n",
      "https://source.sakaiproject.org/svn/podcasts/trunk\n",
      "https://source.sakaiproject.org/svn/podcasts/trunk\n",
      "https://collab.sakaiproject.org/portal\n",
      "http://source.sakaiproject.org/viewsvn/?view=rev&rev=39751\n",
      "https://source.sakaiproject.org/svn/podcasts/trunk\n",
      "https://source.sakaiproject.org/svn/podcasts/trunk\n",
      "https://collab.sakaiproject.org/portal\n",
      "http://source.sakaiproject.org/viewsvn/?view=rev&rev=39750\n",
      "https://collab.sakaiproject.org/portal\n",
      "http://source.sakaiproject.org/viewsvn/?view=rev&rev=39749\n",
      "https://collab.sakaiproject.org/portal\n",
      "http://source.sakaiproject.org/viewsvn/?view=rev&rev=39746\n",
      "https://collab.sakaiproject.org/portal\n",
      "http://source.sakaiproject.org/viewsvn/?view=rev&rev=39745\n",
      "https://collab.sakaiproject.org/portal\n",
      "http://source.sakaiproject.org/viewsvn/?view=rev&rev=39744\n",
      "https://collab.sakaiproject.org/portal\n",
      "http://source.sakaiproject.org/viewsvn/?view=rev&rev=39743\n",
      "https://source.sakaiproject.org/svn/gradebook/trunk\n",
      "https://source.sakaiproject.org/svn/gradebook/trunk\n",
      "http://jira.sakaiproject.org/jira/browse/SAK-12504\n",
      "https://collab.sakaiproject.org/portal\n",
      "http://source.sakaiproject.org/viewsvn/?view=rev&rev=39742\n",
      "https://source.sakaiproject.org/svn/gradebook/trunk\n",
      "https://source.sakaiproject.org/svn/gradebook/trunk\n",
      "http://bugs.sakaiproject.org/jira/browse/SAK-11458\n",
      "https://collab.sakaiproject.org/portal\n",
      "75\n"
     ]
    }
   ],
   "source": [
    "url_list=[]\n",
    "\n",
    "with open(r'data/mbox-short.txt', 'r') as myfile:\n",
    "    lines=myfile.readlines()\n",
    "    \n",
    "    for l in lines:\n",
    "        url=l.split(\" \")\n",
    "        \n",
    "        for w in url:\n",
    "            if 'http' in w:\n",
    "                w=w.strip(\"\\n\")\n",
    "                w=w.strip(\"(\")\n",
    "                w=w.strip(\")\")\n",
    "                url_list.append(w)\n",
    "                print(w)\n",
    "print(len(url_list))\n",
    "        \n",
    "\n",
    "            \n",
    "            \n",
    "    \n"
   ]
  },
  {
   "cell_type": "markdown",
   "metadata": {},
   "source": [
    "### Visualizations"
   ]
  },
  {
   "cell_type": "markdown",
   "metadata": {},
   "source": [
    "<div style=' background-color:#faf9e8'> \n",
    "    <b>Q4</b> Normal Distribution.\n",
    "</div>\n",
    "\n",
    "Write a function that computes the normal distribution function with parameters `x`, `mu` ($\\mu$) and `sigma` ($\\sigma$) as:\n",
    "\n",
    "<div>\n",
    "<img style=\"height:100px\" src=\"images/normal.png\" />\n",
    "</div>"
   ]
  },
  {
   "cell_type": "code",
   "execution_count": 108,
   "metadata": {},
   "outputs": [],
   "source": [
    "from math import pi\n",
    "import numpy as np \n",
    "\n",
    "def normal_pdf(x, mu, sigma):\n",
    "    out = (1/(sigma*((2*pi)**0.5)))*(np.exp((-0.5*(((x-mu)/sigma)**2))))\n",
    "    \n",
    "    # your code\n",
    "    \n",
    "    return out"
   ]
  },
  {
   "cell_type": "markdown",
   "metadata": {},
   "source": [
    "2- Test your function with `x` being 1, 0 and -1. Set `mu=0` and `sigma=1`."
   ]
  },
  {
   "cell_type": "code",
   "execution_count": 99,
   "metadata": {},
   "outputs": [
    {
     "name": "stdout",
     "output_type": "stream",
     "text": [
      "0.24197072451914337\n",
      "0.3989422804014327\n",
      "0.24197072451914337\n"
     ]
    }
   ],
   "source": [
    "print(normal_pdf(1,0,1))   # The expected output is: 0.24\n",
    "print(normal_pdf(0,0,1))   # The expected output is: 0.39\n",
    "print(normal_pdf(-1,0,1))  # The expected output is: 0.24"
   ]
  },
  {
   "cell_type": "markdown",
   "metadata": {},
   "source": [
    "3- Create a 2D plot for `x` values in the range of -5 and 5 against the `normal_pdf(x)` values."
   ]
  },
  {
   "cell_type": "code",
   "execution_count": 111,
   "metadata": {},
   "outputs": [
    {
     "data": {
      "text/plain": [
       "[1.4867195147342977e-06,\n",
       " 0.00013383022576488537,\n",
       " 0.0044318484119380075,\n",
       " 0.05399096651318806,\n",
       " 0.24197072451914337,\n",
       " 0.3989422804014327,\n",
       " 0.24197072451914337,\n",
       " 0.05399096651318806,\n",
       " 0.0044318484119380075,\n",
       " 0.00013383022576488537,\n",
       " 1.4867195147342977e-06]"
      ]
     },
     "execution_count": 111,
     "metadata": {},
     "output_type": "execute_result"
    }
   ],
   "source": [
    "y"
   ]
  },
  {
   "cell_type": "code",
   "execution_count": 131,
   "metadata": {},
   "outputs": [
    {
     "data": {
      "image/png": "[encoded data removed]",
      "text/plain": [
       "<Figure size 640x480 with 1 Axes>"
      ]
     },
     "metadata": {},
     "output_type": "display_data"
    }
   ],
   "source": [
    "# your code\n",
    "# importing the required libraries\n",
    "import matplotlib.pyplot as plt\n",
    "import numpy as np\n",
    "\n",
    "normal_list=[]\n",
    "for i in range(-5,6):\n",
    "    a=normal_pdf(i,0,1)\n",
    "    normal_list.append(a)\n",
    "    \n",
    "# define data values\n",
    "x = list(range(-5,6))  # X-axis points\n",
    "y = normal_list  # Y-axis points\n",
    "\n",
    "plt.plot(x, y,'-o')  # Plot the chart\n",
    "new=normal_pdf(1.5,0,1)\n",
    "plt.axhline(new, color = 'r', linestyle = '--')\n",
    "plt.axvline(1.5, color = 'r', linestyle = '--')\n",
    "plt.legend([\"Normal pdf\", \"Value at x=1.5\"], loc=\"upper right\")\n",
    "\n",
    "\n",
    "\n",
    "plt.show()  # display\n",
    "\n"
   ]
  },
  {
   "cell_type": "markdown",
   "metadata": {},
   "source": [
    "4- Add to this plot a vertical line at `x=1.5` and a horizontal line at `normal_pdf(1.5,0,1)`."
   ]
  },
  {
   "cell_type": "code",
   "execution_count": null,
   "metadata": {},
   "outputs": [],
   "source": [
    "# your code\n"
   ]
  },
  {
   "cell_type": "markdown",
   "metadata": {},
   "source": [
    "Here is the final expected output:\n",
    "\n",
    "<div>\n",
    "<img style=\"height:300px\" src=\"images/normalplot.png\" />\n",
    "</div>"
   ]
  },
  {
   "cell_type": "markdown",
   "metadata": {},
   "source": [
    "---"
   ]
  },
  {
   "cell_type": "code",
   "execution_count": null,
   "metadata": {},
   "outputs": [],
   "source": []
  }
 ],
 "metadata": {
  "kernelspec": {
   "display_name": "Python 3 (ipykernel)",
   "language": "python",
   "name": "python3"
  },
  "language_info": {
   "codemirror_mode": {
    "name": "ipython",
    "version": 3
   },
   "file_extension": ".py",
   "mimetype": "text/x-python",
   "name": "python",
   "nbconvert_exporter": "python",
   "pygments_lexer": "ipython3",
   "version": "3.11.5"
  },
  "toc": {
   "base_numbering": 1,
   "nav_menu": {},
   "number_sections": true,
   "sideBar": true,
   "skip_h1_title": false,
   "title_cell": "Table of Contents",
   "title_sidebar": "Contents",
   "toc_cell": false,
   "toc_position": {},
   "toc_section_display": true,
   "toc_window_display": false
  }
 },
 "nbformat": 4,
 "nbformat_minor": 4
}
