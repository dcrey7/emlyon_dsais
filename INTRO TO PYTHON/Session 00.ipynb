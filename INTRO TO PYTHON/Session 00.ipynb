{
 "cells": [
  {
   "cell_type": "markdown",
   "metadata": {},
   "source": [
    "<table style=\"float:left\">\n",
    "    <tr>\n",
    "        <td>\n",
    "            <img src=\"images/emlyon.png\" style=\"height:60px; float:left; padding-right:10px; margin-top:5px\" />\n",
    "        </td>\n",
    "        <td style=\"padding-bottom:10px;\">\n",
    "            <h1 style=\"border-bottom: 1px solid #eeeeee;\"> AI Booster Week 01 - Python for Data Science </h1>\n",
    "            <span style=\"display:inline-block; margin-top:-15px;\">\n",
    "            <a href=\"https://masters.em-lyon.com/fr/msc-in-data-science-artificial-intelligence-strategy\">[Emlyon]</a> MSc in Data Science & Artificial Intelligence Strategy (DSAIS)    \n",
    "            <br/>\n",
    "            Sep 2024, Paris | © Saeed VARASTEH\n",
    "            </span>\n",
    "        </td>\n",
    "    </tr>\n",
    "</table>"
   ]
  },
  {
   "cell_type": "markdown",
   "metadata": {},
   "source": [
    "### Objective\n",
    "\n",
    "This course provides a quick and compact introduction to Python programming for beginners. \n",
    "\n",
    "The goal of this course is to get students started with Python as a programming language and give them a taste of working with data in Python using the Pandas library in 5 days!\n",
    "\n",
    "---"
   ]
  },
  {
   "cell_type": "markdown",
   "metadata": {},
   "source": [
    "### Course Syllabus"
   ]
  },
  {
   "cell_type": "markdown",
   "metadata": {},
   "source": [
    "<table width=\"90%\">\n",
    "    <thead>\n",
    "        <tr>\n",
    "            <th style=\"text-align: center; width:120px;\">Day #</th>\n",
    "            <th style=\"text-align: left; width:50%\">Topics</th>\n",
    "            <th style=\"text-align: center;\">Externals</th>\n",
    "        </tr>\n",
    "    </thead>\n",
    "    <tbody>\n",
    "        <tr>\n",
    "            <td style=\"text-align: center;\">Day 1</td>\n",
    "            <td style=\"text-align: left;\">Problem solving (Algorithms) <br/>Why python? <br/> Variables and Data Types <br/> Control Structures</td>\n",
    "            <td style=\"text-align: left;\"> </td>\n",
    "        </tr>  \n",
    "        <tr>\n",
    "            <td style=\"text-align: center;\">Day 2</td>\n",
    "            <td style=\"text-align: left;\">Data Structures <br/> Modules and Packages</td>\n",
    "            <td style=\"text-align: left;\">Introduction to Git <br/> Numerical Computing with NumPy <br/> Sorting Lists <br/> Searching in Lists</td>\n",
    "        </tr>\n",
    "        <tr>\n",
    "            <td style=\"text-align: center;\">Day 3</td>\n",
    "            <td style=\"text-align: left;\">Object Oriented Programming <br/> File Input / Output <br/> MPL Visualization</td>\n",
    "            <td style=\"text-align: left;\">The \"language\" of Matplotlib.</td>\n",
    "        </tr> \n",
    "        <tr>\n",
    "            <td style=\"text-align: center;\">Day 4</td>\n",
    "            <td style=\"text-align: left;\">Pandas Library I<br/> DataFrame and Series</td>\n",
    "            <td style=\"text-align: left;\"></td>\n",
    "        </tr>  \n",
    "        <tr>\n",
    "            <td style=\"text-align: center;\">Day 5</td>\n",
    "            <td style=\"text-align: left;\">Pandas Library II <br/> EDA in Pandas</td>\n",
    "            <td style=\"text-align: left;\"></td>\n",
    "        </tr>\n",
    "    </tbody>\n",
    "</table>"
   ]
  },
  {
   "cell_type": "markdown",
   "metadata": {},
   "source": [
    "---"
   ]
  },
  {
   "cell_type": "markdown",
   "metadata": {},
   "source": [
    "#### Instructors\n",
    "\n",
    "Saeed VARASTEH YAZDI (varastehyazdi@em-lyon.com) - \\[RP\\]\n",
    "\n",
    "Vincent SCHOOTS (schoots@em-lyon.com)\n",
    "\n",
    "#### Prerequisites:\n",
    "\n",
    "A bit or zero knowledge of programming. Passionate for data science and analytics.\n",
    "\n",
    "#### Software requirements\n",
    "\n",
    "We will be using Anaconda Python (version>=3.7).\n"
   ]
  },
  {
   "cell_type": "markdown",
   "metadata": {},
   "source": [
    "---"
   ]
  },
  {
   "cell_type": "markdown",
   "metadata": {},
   "source": [
    "<div style='color:gray;'> \n",
    "References\n",
    "</div>"
   ]
  },
  {
   "cell_type": "markdown",
   "metadata": {},
   "source": [
    "- Python Basics: A Practical Introduction to Python 3 by Real Python\n",
    "- Python Tutorial by TutorialsPoint\n",
    "- The Python Tutorial by Python.org\n",
    "- Pandas Tutorial by Pydata.org\n",
    "- Pandas Tutorial by Dr. Milaan Parmar\n",
    "- Pandas Wrokshop by Stefanie Molin"
   ]
  },
  {
   "cell_type": "markdown",
   "metadata": {},
   "source": [
    "---"
   ]
  },
  {
   "cell_type": "code",
   "execution_count": null,
   "metadata": {},
   "outputs": [],
   "source": []
  }
 ],
 "metadata": {
  "kernelspec": {
   "display_name": "Python 3 (ipykernel)",
   "language": "python",
   "name": "python3"
  },
  "language_info": {
   "codemirror_mode": {
    "name": "ipython",
    "version": 3
   },
   "file_extension": ".py",
   "mimetype": "text/x-python",
   "name": "python",
   "nbconvert_exporter": "python",
   "pygments_lexer": "ipython3",
   "version": "3.11.5"
  },
  "toc": {
   "base_numbering": 1,
   "nav_menu": {},
   "number_sections": true,
   "sideBar": true,
   "skip_h1_title": false,
   "title_cell": "Table of Contents",
   "title_sidebar": "Contents",
   "toc_cell": false,
   "toc_position": {},
   "toc_section_display": true,
   "toc_window_display": false
  }
 },
 "nbformat": 4,
 "nbformat_minor": 4
}
