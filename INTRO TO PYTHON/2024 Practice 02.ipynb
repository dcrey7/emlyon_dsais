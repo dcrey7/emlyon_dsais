{
 "cells": [
  {
   "cell_type": "markdown",
   "id": "dca4fdf0",
   "metadata": {},
   "source": [
    "<div>\n",
    "    <img src=\"images/emlyon.png\" style=\"height:60px; float:left; padding-right:10px; margin-top:5px\" />\n",
    "    <span>\n",
    "        <h1 style=\"padding-bottom:5px;\"> AI Booster Week 01 - Python for Data Science </h1>\n",
    "        <a href=\"https://masters.em-lyon.com/fr/msc-in-data-science-artificial-intelligence-strategy\">[Emlyon]</a> MSc in Data Science & Artificial Intelligence Strategy (DSAIS) <br/>\n",
    "         Paris | © Laureline PINAULT\n",
    "    </span>\n",
    "</div>"
   ]
  },
  {
   "cell_type": "markdown",
   "id": "01e18ffb",
   "metadata": {},
   "source": [
    "# Practice - 02: Class and visualizations\n",
    "The bonus questions are to be skipped. If you have time left at the end of the session or at home you can try them."
   ]
  },
  {
   "cell_type": "markdown",
   "id": "82688e23",
   "metadata": {},
   "source": [
    "---\n",
    "### Objectives: \n",
    "\n",
    "\n",
    "*Create a simple class and practice plotting with matplotlib and reading/writing text files*\n",
    "\n",
    "---"
   ]
  },
  {
   "cell_type": "code",
   "execution_count": 2,
   "id": "7761c5ce",
   "metadata": {},
   "outputs": [],
   "source": [
    "import matplotlib.pyplot as plt\n",
    "import numpy as np"
   ]
  },
  {
   "cell_type": "markdown",
   "id": "b40f5393",
   "metadata": {},
   "source": [
    "## Part 1: Plotting a distribution function"
   ]
  },
  {
   "cell_type": "markdown",
   "id": "b582870a",
   "metadata": {},
   "source": [
    "__Normal (Gaussian) Distribution__\n",
    "\n",
    "- Sample a random array of 1000 values following the normal gaussian distribution for a mean and a standard deviation of your choice thanks to numpy function  random.normal().\n",
    "\n",
    "    Verify that the mean and standard deviation are indeed near the expected values by printing the difference."
   ]
  },
  {
   "cell_type": "code",
   "execution_count": 6,
   "id": "9e7791dc",
   "metadata": {},
   "outputs": [
    {
     "data": {
      "text/plain": [
       "array([-1.70835641e+00,  5.17358061e-01, -1.37534307e+00, -7.99861705e-01,\n",
       "        4.58992662e-01,  7.40155435e-01,  4.65927231e-01, -9.45318412e-01,\n",
       "       -2.59187639e-01, -2.10629898e+00, -1.05119546e+00, -1.31780911e+00,\n",
       "       -2.08396704e+00,  4.06608685e-01, -4.24038618e-01,  6.58732337e-01,\n",
       "       -1.24152776e-01,  7.66801677e-01,  8.18752508e-01, -1.48717192e+00,\n",
       "        5.66606613e-01, -1.31729519e+00, -6.19686177e-01, -7.37517769e-01,\n",
       "        6.15539942e-01,  1.12109904e+00, -1.15058019e+00, -3.40586194e-01,\n",
       "        5.16278044e-01, -4.51689470e-01, -9.31065914e-01,  1.52696122e+00,\n",
       "        2.78647071e+00, -5.06000482e-01, -1.09443981e-01,  7.67891861e-01,\n",
       "       -2.35639892e+00, -5.39585792e-01, -1.97301260e-01,  7.66026943e-02,\n",
       "       -6.23629359e-01,  1.29055582e+00,  1.11651706e+00,  2.21987962e+00,\n",
       "        8.42092407e-01, -8.67956828e-01, -1.06357850e+00,  9.65315494e-01,\n",
       "       -9.06386674e-01,  9.38039809e-01, -1.78598238e-01,  1.82399030e-01,\n",
       "       -6.37498342e-01,  9.45671024e-01,  3.77699801e-01,  7.57101422e-01,\n",
       "        7.30317402e-01,  3.08709418e-01, -3.94194715e-01,  6.56550079e-01,\n",
       "       -3.49547044e-01, -5.88819069e-01,  1.07940966e+00, -6.04414977e-01,\n",
       "       -8.42684226e-01,  2.65956674e-01, -1.23294235e-01,  1.24336100e+00,\n",
       "       -5.65778991e-01,  1.86253157e+00, -4.02483090e-01, -6.04283337e-01,\n",
       "        8.27163760e-01,  1.49668737e+00, -5.27949502e-01,  7.79105475e-01,\n",
       "        4.19837967e-02, -5.32708714e-01, -1.12423153e+00, -1.73847034e+00,\n",
       "       -7.07761439e-01,  1.90820764e-01, -1.22478284e+00,  1.41368823e-01,\n",
       "        1.71637562e-02,  4.39238634e-01, -5.69137012e-01, -2.29673463e+00,\n",
       "        8.30608343e-01, -5.81174634e-01, -9.68554495e-01,  1.37258253e+00,\n",
       "       -1.60648521e+00,  8.15829319e-01,  2.22708593e+00,  1.85455596e-01,\n",
       "       -1.42700695e+00, -7.28439365e-01, -4.98508663e-01, -1.11518664e+00,\n",
       "       -2.25573957e+00, -1.27298795e+00, -6.81287048e-02, -3.16537470e-01,\n",
       "       -8.77899995e-01,  1.98054198e+00,  1.31527151e-01,  1.39766257e-01,\n",
       "        1.31962754e+00, -6.15007228e-01,  6.02608458e-02, -4.96925094e-01,\n",
       "        2.21910783e-01, -2.47187419e-01,  4.63977704e-01, -2.77989283e-01,\n",
       "       -4.63793546e-01,  3.54106994e-01,  1.39473920e+00, -5.15887727e-01,\n",
       "       -2.85294275e+00,  3.00171577e-01,  2.47000813e-02,  3.77217695e-01,\n",
       "       -1.48320566e-01, -9.15140935e-01,  1.59582507e+00, -2.15388950e+00,\n",
       "       -9.47052711e-01, -8.35718711e-01,  1.44305541e+00,  2.80430417e-01,\n",
       "       -1.11047379e+00, -1.94959211e-02,  1.58567938e-01, -7.25461716e-01,\n",
       "        2.19925555e-01, -4.57486876e-01,  7.31343953e-01, -8.12854299e-01,\n",
       "        1.22998757e+00,  1.85890762e+00,  9.82699365e-01, -7.75846774e-01,\n",
       "       -1.28555844e+00,  2.02795341e+00, -9.62853366e-02,  1.07556543e+00,\n",
       "       -6.48291115e-01,  1.87792428e+00, -4.99623667e-01,  2.13087882e+00,\n",
       "        5.39984644e-01, -1.03256047e+00, -1.73450978e-01, -1.18377488e+00,\n",
       "       -2.03110063e+00, -2.11566881e-01,  2.20410803e+00, -1.19953063e+00,\n",
       "        4.23514890e-01,  7.87376367e-01, -1.05521115e+00,  4.89851983e-01,\n",
       "        1.30120129e-01, -7.47122066e-01,  3.56205100e-01, -3.53387147e-01,\n",
       "        1.10213399e+00, -9.53257776e-01, -1.72288384e-02, -5.46505466e-01,\n",
       "       -3.95168502e-02,  2.93343802e-01,  9.29428553e-01, -9.97042038e-01,\n",
       "        1.33269753e-01, -5.15418122e-01, -5.14911800e-01, -5.25005347e-01,\n",
       "        6.11447664e-01,  4.43704729e-01,  1.05219813e+00,  2.00697072e+00,\n",
       "       -5.56092109e-01, -3.61031018e-01,  7.87781477e-01,  3.41170041e-01,\n",
       "       -1.31377252e-02, -2.29810608e-01,  6.26157150e-04, -8.42211273e-01,\n",
       "        1.22382939e+00,  1.89096705e+00,  3.10422488e+00, -7.08529640e-02,\n",
       "       -4.41613670e-01,  5.65590601e-01, -4.63393385e-01,  8.06755712e-01,\n",
       "       -2.04034848e+00,  1.46740098e-01, -7.26338048e-01, -2.07094191e-01,\n",
       "       -9.38306521e-01,  1.46292029e+00,  1.23879444e+00,  5.42485536e-01,\n",
       "       -1.06494264e+00,  2.22700993e+00, -2.29105090e+00,  2.84942205e-01,\n",
       "       -1.57288127e+00,  6.89685960e-02, -5.98677307e-01,  1.95943779e+00,\n",
       "       -7.69411942e-01, -1.02090819e+00,  9.91024089e-01,  4.26114134e-01,\n",
       "        1.68263998e+00,  1.10469037e+00, -1.34303471e+00, -3.62939560e-01,\n",
       "        1.72522195e+00, -8.11360606e-02, -1.88890919e+00, -5.13686815e-01,\n",
       "       -1.25168107e-01,  9.88298562e-01, -7.93784400e-02,  1.66666126e+00,\n",
       "       -2.57803578e-01, -2.28227251e-01,  6.98237571e-01,  9.62173743e-01,\n",
       "       -9.44554692e-01, -1.04503132e+00,  1.45666840e+00, -1.04011514e+00,\n",
       "        1.41429749e-02, -7.02560442e-01, -1.66909958e+00,  3.03854192e-01,\n",
       "       -9.34059310e-02, -1.56806418e-01,  2.09904042e+00,  1.28038476e+00,\n",
       "        1.69918932e+00, -6.57441843e-01, -3.99338848e-01, -7.36717334e-02,\n",
       "       -5.40924458e-01,  7.98644161e-01,  8.67846030e-01,  1.26915534e+00,\n",
       "       -7.68504214e-01,  8.22021177e-01,  5.83179689e-01, -7.03558372e-01,\n",
       "       -1.46266143e+00, -9.72115173e-01,  5.67148451e-01,  8.40004006e-02,\n",
       "        1.19911985e-02, -4.53588369e-01,  3.22549259e-01, -5.43308301e-01,\n",
       "        3.29814972e-01,  9.56107482e-01,  1.73660839e+00,  1.32458207e-01,\n",
       "       -8.41171723e-01,  7.53082555e-01, -2.83140529e-01,  8.74553139e-01,\n",
       "       -2.36670855e-01, -6.72169025e-01,  9.85368827e-01, -8.82538096e-01,\n",
       "        1.51223106e-01, -1.43718601e+00,  5.42973911e-02, -8.23319632e-01,\n",
       "       -1.33741901e+00, -7.68134238e-01, -4.43230078e-01, -6.66287805e-01,\n",
       "       -6.48753323e-01, -1.70042316e+00,  2.71175202e-01, -1.18878606e+00,\n",
       "        7.10714992e-01, -9.00858059e-01,  3.87309962e-01, -2.43764514e+00,\n",
       "        1.31774804e+00,  7.52793020e-01,  6.29602363e-01,  6.49369930e-01,\n",
       "       -1.51928486e-01,  1.84070524e+00,  9.42813647e-01,  6.74928552e-01,\n",
       "       -1.19259723e+00,  1.24835092e+00,  1.03929504e-01,  4.34449116e-01,\n",
       "        4.86514263e-01, -1.71128667e+00,  1.08024030e+00, -6.43573344e-01,\n",
       "       -2.13469051e+00, -5.93442284e-01,  2.66231031e+00,  2.17252376e+00,\n",
       "       -9.98182092e-01, -1.22442634e+00,  7.58490274e-01, -6.49332073e-01,\n",
       "        4.99294758e-01,  2.88745395e-01, -1.65897385e+00, -3.39609909e-01,\n",
       "       -8.95444489e-01, -1.14591461e+00,  8.42039268e-01,  3.05541556e-01,\n",
       "       -1.51839662e-01, -1.31064984e+00,  1.18015564e+00,  2.84726358e-01,\n",
       "       -9.44703060e-02,  1.03175268e+00, -1.33338523e+00,  1.00652667e+00,\n",
       "        2.88351838e-01, -4.64611867e-01, -4.55717535e-01, -1.34435319e+00,\n",
       "        6.38256867e-01, -6.50501649e-01, -7.35616083e-01, -5.15861293e-01,\n",
       "        9.37725768e-01, -3.78872969e-01, -2.81018135e-01,  8.01570578e-01,\n",
       "       -8.40132673e-01,  1.02087941e+00,  1.97126303e+00,  8.46000420e-01,\n",
       "        7.72364653e-01, -6.65443287e-01, -1.59295661e+00,  2.34793455e+00,\n",
       "       -3.19676721e-01, -1.21410131e+00,  1.43226817e+00, -2.83151755e-01,\n",
       "       -7.00547685e-01,  9.38397642e-01,  1.79098039e-01, -4.75604429e-01,\n",
       "       -1.02943438e+00,  2.42428615e-01, -4.25091978e-01, -2.09673329e+00,\n",
       "       -4.80196451e-01, -1.81745549e-01, -1.99547756e+00, -1.19193023e+00,\n",
       "        2.10630290e-01,  2.54370364e-01,  3.62907286e-01,  1.29295978e+00,\n",
       "       -7.27700304e-01, -8.33890451e-01,  1.35507074e+00,  1.37451247e+00,\n",
       "        3.63738067e-01,  3.98259431e-01,  1.04598175e+00,  5.83988391e-01,\n",
       "        5.43016783e-01, -1.31076800e+00,  1.86268472e+00, -9.17388325e-01,\n",
       "       -1.33587938e+00, -1.40387938e+00,  1.27628783e+00, -2.58600407e+00,\n",
       "       -9.62267962e-01, -6.41454233e-01,  2.39502743e-02, -6.78405775e-02,\n",
       "       -2.64260155e+00, -8.93881766e-01, -1.51063639e-01,  1.67830796e+00,\n",
       "        5.98586773e-01, -8.80573764e-01,  8.38104116e-02, -3.13889766e-01,\n",
       "       -8.54732732e-01,  5.62243596e-01,  2.30332235e-01, -1.26630106e+00,\n",
       "       -1.77931780e+00,  3.80151045e-01, -2.79985621e-01,  9.91740754e-01,\n",
       "       -1.12337613e+00, -8.95722524e-01, -1.05934697e+00, -3.26192798e-01,\n",
       "       -1.82423795e+00,  9.24372915e-01,  1.38900628e+00, -5.14290470e-01,\n",
       "       -8.02393228e-02, -6.06239312e-01, -1.28640135e+00,  2.76540228e-01,\n",
       "        1.15685542e+00,  3.81886807e-01, -1.28636947e-02, -1.20982054e+00,\n",
       "       -2.49947573e-01, -5.68075445e-02,  7.33319642e-01, -3.81231109e-02,\n",
       "        1.37188248e+00,  1.59353393e+00, -6.85842879e-01,  1.17308312e+00,\n",
       "       -1.20884074e+00,  1.03442978e-01,  2.03622238e-02, -4.63726482e-01,\n",
       "       -5.84029715e-01, -1.97765686e-01, -8.96052315e-01,  1.92513188e+00,\n",
       "       -8.92722951e-01, -2.09248990e+00, -3.67874229e-01,  3.44834281e-01,\n",
       "       -2.05940848e-01, -1.12809231e+00, -3.57367421e-01, -3.78134705e-01,\n",
       "       -1.78728256e+00,  2.06107905e-01,  1.58867503e-01, -9.58133501e-01,\n",
       "        7.73316251e-01,  2.68273261e-01, -4.35216859e-01, -4.34811839e-01,\n",
       "        4.23396922e-01,  6.74508975e-01,  2.91759846e-02, -1.20852128e-02,\n",
       "        1.65233687e+00,  2.43946359e-01,  1.04826128e+00, -5.13759029e-01,\n",
       "        4.93313181e-01,  3.56812265e-01, -8.13373485e-01, -1.39013047e-01,\n",
       "       -1.79760915e+00, -1.02696079e+00, -2.51969313e+00,  2.56559092e-01,\n",
       "        9.10239586e-01,  7.22227089e-01, -1.19958916e-02,  4.60803016e-01,\n",
       "        4.06061604e-01,  1.24834656e-01,  1.06463778e+00, -8.33530849e-01,\n",
       "       -4.11555899e-02, -8.38786082e-01, -2.34012941e-02,  6.46041206e-01,\n",
       "        1.15424272e-01,  5.25219919e-01, -1.19137692e+00, -1.29617547e+00,\n",
       "        4.71678484e-01,  1.10925975e+00, -3.15152649e-01,  1.47597999e+00,\n",
       "        1.84549981e-01, -5.30312392e-01, -9.75926880e-01,  1.27676939e+00,\n",
       "        1.10562565e+00,  1.00559352e-01, -5.48840846e-01,  4.66170537e-01,\n",
       "       -1.72202644e+00, -5.64079871e-01,  2.89932340e-01,  2.58169938e+00,\n",
       "        4.84705268e-01,  2.13178475e-01,  2.42066006e-01,  4.19373377e-01,\n",
       "       -3.65477920e-01, -7.30446798e-01, -2.64214121e-01,  3.68654528e-01,\n",
       "        4.85296870e-02,  6.74539027e-01,  2.99353020e-01, -4.33829648e-01,\n",
       "        5.97654951e-02,  6.35618209e-01,  2.78914902e+00,  4.16161691e-01,\n",
       "        4.11466986e-01,  2.50728396e-01, -1.79627423e-01,  7.42637990e-01,\n",
       "       -8.74084108e-01,  1.61270157e+00,  1.81857641e+00, -5.18310508e-01,\n",
       "        6.98687486e-01, -3.09259724e-01,  6.88147253e-02, -1.24580258e-01,\n",
       "        4.55773957e-01,  1.42557120e+00, -4.60615142e-01, -1.30285661e+00,\n",
       "       -4.62365082e-01, -2.74362429e-01,  6.07973124e-01, -2.72367904e-01,\n",
       "        8.16001934e-01, -1.09264555e+00,  7.06344708e-01, -1.45711064e+00,\n",
       "       -2.95597478e-01, -5.52882414e-02,  8.23866707e-01,  3.00574213e-01,\n",
       "       -3.73852602e-01, -1.39732075e+00,  7.67901900e-01, -2.33758739e-01,\n",
       "       -4.14209914e-01, -5.29296621e-01,  4.55359158e-01,  3.36121255e-01,\n",
       "       -1.89370331e+00,  3.38763903e-01, -1.22821099e-01,  1.36497224e+00,\n",
       "       -1.58625836e+00,  8.02249119e-01,  1.98110506e-01,  5.33946328e-01,\n",
       "        4.25290013e-01,  1.39428793e+00, -1.74936812e-01, -6.55706625e-01,\n",
       "        1.25216957e+00,  1.60893445e+00,  1.85719693e+00, -7.53501359e-01,\n",
       "       -1.12192470e-01,  3.76407865e-01,  2.92421372e-02, -1.23207739e+00,\n",
       "       -1.14711369e+00, -1.10387084e-01,  5.63112827e-01, -5.00356568e-01,\n",
       "       -8.15124990e-01, -1.43375755e+00,  1.57731385e-01, -7.61619931e-01,\n",
       "        9.29144113e-01, -1.25660579e+00,  1.87151635e+00, -1.20897999e+00,\n",
       "        4.38276288e-01,  1.16523752e+00, -6.93343565e-01, -1.74126979e+00,\n",
       "        2.61806900e+00,  1.67019760e-01, -2.44837907e-02,  5.74835129e-01,\n",
       "        1.29083925e+00, -1.08632153e+00,  3.64917129e-01,  9.88980790e-01,\n",
       "       -1.58590970e+00,  1.90019559e+00,  6.71235419e-03, -3.62480403e-01,\n",
       "        8.87543375e-02,  1.88659441e+00,  7.58701607e-01, -5.32485972e-01,\n",
       "        9.76248488e-01,  1.60188208e-01,  1.39311846e-01, -1.12244298e+00,\n",
       "       -5.08116104e-01,  3.48568811e-01,  3.23887545e-01, -6.81048575e-01,\n",
       "       -4.31477218e-01, -6.23441166e-01,  1.28214836e+00,  1.94994640e-01,\n",
       "        6.58367068e-01,  4.77719563e-01,  8.56793918e-01,  8.20702477e-01,\n",
       "       -4.46512399e-01,  8.96349708e-01,  2.19601005e+00,  1.31798522e+00,\n",
       "       -1.85510302e-01, -1.41755591e+00,  7.42074571e-01, -1.21724716e-01,\n",
       "        1.08296516e-01, -6.74657815e-01, -6.97641382e-01,  1.31987746e+00,\n",
       "       -2.49475861e-01,  7.78596938e-01, -8.05567358e-01, -8.64385143e-01,\n",
       "       -1.73252322e+00, -2.19933330e-02,  1.49251674e+00, -8.53118562e-01,\n",
       "        2.20300058e+00, -7.39273461e-01, -5.60985571e-01, -1.07614956e-01,\n",
       "       -6.95079594e-01, -7.63326389e-01, -1.93574881e+00, -1.01276040e-01,\n",
       "       -6.40139002e-01, -1.33246508e+00,  2.19654663e-02,  8.67313085e-01,\n",
       "       -1.33905268e-01,  7.34809985e-01,  1.21305090e-01,  7.20145399e-01,\n",
       "       -4.76188324e-01,  5.48987438e-01, -1.80464148e-01,  3.35138104e-03,\n",
       "        1.54718114e-01, -3.81076819e-01,  6.50353298e-01,  2.24055160e-01,\n",
       "        1.13029443e+00,  6.55857723e-01, -8.30412012e-01,  3.02160806e-01,\n",
       "        7.79864403e-01, -1.15050975e+00, -6.98199443e-01,  5.99235903e-01,\n",
       "        5.98419320e-01, -3.66673011e-01, -3.48422635e-01, -9.58471151e-02,\n",
       "        1.61734330e-01,  1.81614683e-01,  7.22532746e-01, -5.98838880e-01,\n",
       "       -5.65803805e-02,  2.26661774e+00, -4.30472185e-01, -1.19376154e+00,\n",
       "       -1.12077985e-01, -2.17055222e+00,  5.72152450e-01,  5.71583942e-01,\n",
       "        4.04713231e-01, -3.78598567e-01, -4.90531149e-01,  1.05346008e+00,\n",
       "        9.70009977e-01,  5.65263436e-01, -4.10634054e-01,  8.72138044e-02,\n",
       "       -1.37170764e+00,  1.16551662e+00, -1.05358319e+00,  2.63544998e-01,\n",
       "       -2.25131281e-01, -1.81069929e+00, -1.10317858e+00, -7.50801092e-01,\n",
       "        6.45823186e-01,  1.78357994e+00,  6.67384823e-01, -9.21339383e-03,\n",
       "        4.18888449e-01,  1.98133214e-01,  1.30565874e-01,  8.49917019e-01,\n",
       "       -4.46314876e-01,  7.00560911e-02,  7.10143799e-01,  7.59733509e-01,\n",
       "        9.58221370e-01,  3.63904369e-01,  8.77901677e-02, -1.94657204e-01,\n",
       "       -1.36077278e+00,  8.89450834e-01, -1.47487512e+00, -1.80684780e+00,\n",
       "        3.89940424e-03, -5.31619442e-01, -2.11781501e+00, -2.58942757e-01,\n",
       "        1.03308839e+00, -1.44056407e+00, -8.31472228e-01, -3.02149855e-01,\n",
       "       -5.23855369e-01,  2.52455389e-01,  4.99308599e-01, -2.47205364e+00,\n",
       "        4.22668902e-01, -2.20349982e-01, -2.91071628e-01,  2.04118217e+00,\n",
       "        6.71766608e-01, -2.89961324e-01,  2.04992273e+00,  4.82647541e-01,\n",
       "       -1.87428502e-01, -5.15516038e-02, -1.83743572e+00,  4.61074171e-01,\n",
       "        5.12842403e-01,  7.66903779e-01,  8.08623186e-01,  1.12968182e+00,\n",
       "        8.89753053e-01, -1.19921998e+00, -4.53929502e-03,  1.32615784e+00,\n",
       "       -6.12822574e-01,  8.92382197e-01, -1.91852025e-01,  1.47460167e+00,\n",
       "       -7.88794408e-01,  9.39047714e-02, -5.88897803e-01,  6.38478457e-01,\n",
       "        4.81042134e-01, -1.04468446e+00, -1.18300381e+00,  7.45741101e-01,\n",
       "       -6.32809469e-01, -7.71499851e-01, -3.22336632e-01, -1.29261322e-02,\n",
       "       -3.24721161e-01, -6.82318817e-01, -1.72448908e+00,  9.19530421e-01,\n",
       "        6.17035172e-01,  1.03569139e+00,  4.69251886e-01, -3.54510953e-02,\n",
       "        2.38057152e-02,  1.44915246e+00, -4.87501565e-01, -1.54323615e-01,\n",
       "        2.29748588e-01, -1.11989799e+00,  1.12151912e+00,  1.40309419e+00,\n",
       "       -3.20152443e-01,  7.05142831e-01,  1.74363294e-01,  5.74384690e-01,\n",
       "        8.96999307e-01,  2.21842955e+00,  4.21784174e-01, -6.82624696e-01,\n",
       "        2.14051980e-01, -1.11812426e+00,  8.02492345e-01, -5.38744682e-01,\n",
       "        5.21481482e-01,  5.66216411e-01,  1.00690174e+00,  5.26783482e-01,\n",
       "       -7.14752857e-01,  7.32410995e-01, -4.29553566e-01,  7.70567139e-01,\n",
       "        4.65468944e-01, -7.17450367e-01,  1.13578973e+00,  3.05886858e-01,\n",
       "       -9.67755691e-01,  7.83137831e-01,  8.12796555e-01,  1.56681165e+00,\n",
       "        1.27003886e+00,  9.20755619e-02, -2.12606802e+00,  7.98711431e-01,\n",
       "        6.93887960e-01,  6.37550385e-01, -7.44148320e-01,  3.28021233e-01,\n",
       "       -2.47484163e-01, -7.04467030e-01,  1.64627709e+00,  1.32514089e+00,\n",
       "       -7.84549268e-01, -1.50139308e+00, -5.74874704e-01, -4.11259604e-01,\n",
       "        1.49824508e-01, -1.23097291e+00,  9.51654693e-02,  7.78226400e-02,\n",
       "        2.82780027e-02, -3.12355006e-01,  1.04642886e+00,  3.53738055e-01,\n",
       "        1.83439709e+00, -2.03836683e+00, -1.47135435e+00,  5.40743120e-01,\n",
       "       -9.55434786e-01,  1.13189657e+00,  1.49235662e+00,  3.17492141e-01,\n",
       "       -1.89805709e+00, -4.27565412e-01, -6.16241568e-03, -2.59117028e-01,\n",
       "        1.02633518e+00,  7.33291273e-01, -7.56780641e-02, -1.18588869e+00,\n",
       "        7.16348787e-01,  5.48421535e-02, -1.05324809e+00,  1.17731752e+00,\n",
       "       -7.98424452e-01,  5.96060279e-01, -4.69544642e-01,  7.27902380e-01,\n",
       "       -4.28378456e-01,  9.13429551e-01,  8.05921511e-01, -8.30198605e-01,\n",
       "       -1.32166463e+00,  1.66002141e+00,  5.92276051e-01, -1.68411378e+00,\n",
       "       -6.51844758e-01,  4.41855328e-02,  5.51212841e-01,  7.19983903e-01,\n",
       "        1.86274907e-01, -1.89127082e-01, -7.88014253e-01,  5.82825812e-01,\n",
       "       -5.65510800e-02, -3.18836749e-01, -1.07554408e+00,  3.60496576e-01,\n",
       "       -1.63408975e-01,  8.92419545e-01, -3.32404370e-01, -2.60436284e+00,\n",
       "        5.40676169e-01, -1.36847575e+00,  7.15533697e-01, -1.19374241e+00,\n",
       "       -2.50072046e+00, -2.35764763e-01,  4.06541202e-01,  1.58041520e+00,\n",
       "        1.46128125e-01, -2.40587052e+00, -5.03830836e-01, -1.93456758e+00,\n",
       "       -2.20017777e-01, -7.49871129e-01,  9.35465394e-01,  8.85452213e-01,\n",
       "       -2.51226387e-01,  1.01412806e-01, -8.74966452e-01,  2.75711685e-01,\n",
       "       -2.55882367e-01, -2.15685465e-02, -1.27060164e+00,  2.00838804e-01,\n",
       "        1.57305667e-01, -1.42707702e+00, -1.91203411e+00, -2.62125530e-02,\n",
       "       -1.46750948e+00, -1.05126061e-01,  5.10813309e-01, -9.94062724e-01,\n",
       "        1.29099116e+00, -8.22580342e-01, -5.29753047e-01, -8.93771304e-01,\n",
       "       -5.76671858e-01, -2.80650618e-02,  1.23219843e-01, -1.49385405e+00,\n",
       "       -1.68909719e+00,  1.21724411e+00, -1.32121393e+00,  6.99287896e-01,\n",
       "        1.16372890e+00,  3.78058939e-01,  2.32890494e+00,  1.84142665e-01,\n",
       "        4.81387854e-01,  2.25513196e+00, -1.69528228e+00,  6.59658855e-01,\n",
       "        7.83354432e-01,  7.50150377e-02,  1.67540223e+00, -5.25893236e-01,\n",
       "       -2.12399866e-01, -1.97455305e-01,  1.30344429e-01,  1.30733590e+00,\n",
       "       -5.08487485e-01,  7.52048869e-01, -1.14839989e+00, -9.81016995e-01,\n",
       "        8.18101802e-01,  1.42227267e+00,  5.80866895e-01, -2.31094631e-01,\n",
       "        2.06112845e+00, -4.70307634e-01,  9.54824621e-02, -7.94411328e-01,\n",
       "       -4.78275249e-01, -1.36203425e+00, -1.93552678e+00, -2.66823499e+00,\n",
       "        1.19425614e+00, -5.77186144e-01, -4.99469683e-02,  1.00304948e+00,\n",
       "       -1.20769000e+00, -8.42691917e-01,  1.65085935e+00,  1.76796257e+00,\n",
       "       -7.32675263e-01,  1.24101425e+00, -9.39946397e-02,  5.82294607e-01,\n",
       "        1.39656847e+00,  1.87042588e-01, -2.93836733e-01,  7.48249719e-01,\n",
       "        1.26331045e+00,  2.71367743e-01,  7.40202933e-01, -1.57710053e+00,\n",
       "       -1.06031563e-01,  9.19449266e-01, -8.18499922e-01,  3.92325441e-01,\n",
       "        6.48930788e-01,  8.60621334e-01, -4.78582493e-02, -3.10440165e-01])"
      ]
     },
     "execution_count": 6,
     "metadata": {},
     "output_type": "execute_result"
    }
   ],
   "source": [
    "from numpy import random\n",
    "\n",
    "mu, sigma = 0, 1 # mean and standard deviation. You can change it if you'd like.\n",
    "s = random.normal(mu, sigma, 1000)\n",
    "s"
   ]
  },
  {
   "cell_type": "code",
   "execution_count": 8,
   "id": "eb133ba6",
   "metadata": {},
   "outputs": [
    {
     "data": {
      "text/plain": [
       "0.0028612839040772576"
      ]
     },
     "execution_count": 8,
     "metadata": {},
     "output_type": "execute_result"
    }
   ],
   "source": [
    "import numpy as np\n",
    "abs(mu - np.mean(s))\n"
   ]
  },
  {
   "cell_type": "markdown",
   "id": "bc7869ad",
   "metadata": {},
   "source": [
    "- Plot an histogram with 20 bars corresponding to your sample thanks to matplotlib function hist."
   ]
  },
  {
   "cell_type": "code",
   "execution_count": 9,
   "id": "1922151a",
   "metadata": {},
   "outputs": [
    {
     "data": {
      "image/png": "[encoded data removed]",
      "text/plain": [
       "<Figure size 640x480 with 1 Axes>"
      ]
     },
     "metadata": {},
     "output_type": "display_data"
    }
   ],
   "source": [
    "import matplotlib.pyplot as plt\n",
    "count, bins, ignored = plt.hist(s, 20, density=True)\n",
    "plt.plot(bins, 1/(sigma * np.sqrt(2 * np.pi)) *\n",
    "               np.exp( - (bins - mu)**2 / (2 * sigma**2) ),\n",
    "         linewidth=2, color='r')\n",
    "plt.show()"
   ]
  },
  {
   "cell_type": "code",
   "execution_count": null,
   "id": "837e5f36",
   "metadata": {},
   "outputs": [],
   "source": []
  },
  {
   "cell_type": "code",
   "execution_count": null,
   "id": "d965726f",
   "metadata": {},
   "outputs": [],
   "source": []
  },
  {
   "cell_type": "markdown",
   "id": "371b0e8d",
   "metadata": {},
   "source": [
    "- The corresponding probability density for the Gaussian distribution is:\n",
    "$$p(x) = \\frac{1}{\\sqrt{2 \\pi \\sigma^2}} \\exp^{-\\frac{(x-\\mu)^2}{2 \\sigma^2}}$$\n",
    "where $\\mu$ is the mean and $\\sigma$ is the standard deviation of your distribution.\n",
    "\n",
    "    Code a function that takes $\\mu$, $\\sigma$ and $x$ as input and return the Gaussian probability density.\n"
   ]
  },
  {
   "cell_type": "code",
   "execution_count": null,
   "id": "61f07706",
   "metadata": {},
   "outputs": [],
   "source": []
  },
  {
   "cell_type": "markdown",
   "id": "9e85ac36",
   "metadata": {},
   "source": [
    "- Plot the teoritical probability distribution on the same graph as your histogram.\n",
    "\n",
    "    (Tip1: if you cannot see your function think about normalizing your histogram)\n",
    "    \n",
    "    (Tip2: to know how to define your x axis you can use the xlim() function on your histogram plot)\n",
    "    \n",
    "     Play with the number of values in your sample and the number of bars of your histogram to see how well you approximate the theoritical curve."
   ]
  },
  {
   "cell_type": "code",
   "execution_count": null,
   "id": "37f2c1f6",
   "metadata": {},
   "outputs": [],
   "source": []
  },
  {
   "cell_type": "markdown",
   "id": "0957d17b",
   "metadata": {},
   "source": [
    "## Part 2: A colorful class"
   ]
  },
  {
   "cell_type": "markdown",
   "id": "9ed46a0d",
   "metadata": {},
   "source": [
    "__Question 1.__\n",
    "One of the most common way to represent colors in a computer is the RGB representation, standing for Red-Green-Blue. In this model a color is given by three numbers between 0 and 255: representing respectively the 'quantity' of red, green and blue in this color. For instance (255,0,0) will be a full red color whereas (0,0,80) will be a dark blue and (110,0,90) will be a kind of purple (it contains some red and some blue). White will be all colors together (*i.e.* 255,255,255) and black none at all (*i.e.* 0,0,0).\n",
    "\n"
   ]
  },
  {
   "cell_type": "markdown",
   "id": "0542c042",
   "metadata": {},
   "source": [
    "<div>\n",
    "    <img src=\"images2/colors.png\" style=\"height:30px; float:left; padding-right:20px; margin-top:5px\" />\n",
    "</div>"
   ]
  },
  {
   "cell_type": "markdown",
   "id": "88be6aad",
   "metadata": {},
   "source": [
    "- Create a Python class to represent the colors with the RGB representation. Also change the output of the print function to the following sentence: \"The rgb code is ([red_value],[green_value],[blue_value])\".\n",
    "\n",
    "    Create object for white, black, and a blue with 0 red, 191 green and 225 blue. Print them."
   ]
  },
  {
   "cell_type": "code",
   "execution_count": null,
   "id": "c7f8a4c3",
   "metadata": {},
   "outputs": [],
   "source": []
  },
  {
   "cell_type": "markdown",
   "id": "3fe72653",
   "metadata": {},
   "source": [
    "__Question 2.__\n",
    "A representation of colors equivalent to the RGB one is the hexadecimal code. It consists of a string often preceded by a \"#\" with 6 characters. Each pair of character represent a number between 0 and 255 encoded in base 16 (with A - F standing for the numbers 10 - 15). They are also in red-green-blue order. For instance our red (255,0,0) will have \"#FF0000\" as hexadecimal code. We want to add in our class a function to get the hexadecimal code of a color."
   ]
  },
  {
   "cell_type": "markdown",
   "id": "7a962374",
   "metadata": {},
   "source": [
    "- First, write your own function that converts a number between 0 and 255 to a two-character string that represents its encoding in base 16. Raise an exception if the input is not between 0 and 255.\n",
    "\n",
    "    /!\\ Do not call it 'hex' as it already exist in Python and don't forget to test your function!"
   ]
  },
  {
   "cell_type": "code",
   "execution_count": null,
   "id": "e861815f",
   "metadata": {},
   "outputs": [],
   "source": []
  },
  {
   "cell_type": "markdown",
   "id": "f4905352",
   "metadata": {},
   "source": [
    "- Then add a function in your class that returns the hexadecimal code of your object. Test it."
   ]
  },
  {
   "cell_type": "code",
   "execution_count": null,
   "id": "2c34b172",
   "metadata": {},
   "outputs": [],
   "source": []
  },
  {
   "cell_type": "markdown",
   "id": "97a51ef3",
   "metadata": {},
   "source": [
    "__Question 3.__\n",
    "We also want to be able to do the converse, *i.e.* defining a color by its hexadecimal code.\n",
    "\n",
    "For this add a new method in your class. We can prefix this new method with the decoration @classmethod to be able to use it without having to first initiate an object. Such method will take cls as first argument instead of self, which works as calling the init function. And to call the method outside of the class definition you prefix it by the name of the class. See the example below with a class defining a circle:"
   ]
  },
  {
   "cell_type": "code",
   "execution_count": 156,
   "id": "81d3ec68",
   "metadata": {},
   "outputs": [],
   "source": [
    "class Circle:  \n",
    "    def __init__(self, radius):  \n",
    "        self.radius = radius  \n",
    "  \n",
    "    @classmethod  \n",
    "    def from_diameter(cls, diameter):  \n",
    "        return cls(radius=diameter / 2)\n",
    "    \n",
    "circle1 = Circle(3)\n",
    "circle2 = Circle.from_diameter(6)"
   ]
  },
  {
   "cell_type": "markdown",
   "id": "90e247bd",
   "metadata": {},
   "source": [
    "- Now you can define your function. Test it with the following code: #bf00bf.\n",
    "\n",
    "    Tip: to convert an hexadecimal string to a number you can use Python type casting int() with the base as a parameter. Also, remember how to slice a string, it can be useful! ;)"
   ]
  },
  {
   "cell_type": "code",
   "execution_count": null,
   "id": "d097f89b",
   "metadata": {},
   "outputs": [],
   "source": []
  },
  {
   "cell_type": "markdown",
   "id": "bb8436e7",
   "metadata": {},
   "source": [
    "__Question 4.__\n",
    "Write a function to obtain the complementay color (the complementary color is such that when adding all composant you obtain white).\n",
    "\n",
    "Test that the complementary of white is black and vice-versa. (Tip: for this you'll need to define a function that test the equality of two colors)."
   ]
  },
  {
   "cell_type": "code",
   "execution_count": null,
   "id": "42eb8cba",
   "metadata": {},
   "outputs": [],
   "source": []
  },
  {
   "cell_type": "markdown",
   "id": "0efd602d",
   "metadata": {},
   "source": [
    "__Question 6.__\n",
    "Write a function to add two colors. \n",
    "\n",
    "Addition of colors can be defined in several ways, here we'll use the composant-wise addition (meaning that to knwow the red value of the resulting color you add the two red composants, with a maximal value of 255)."
   ]
  },
  {
   "cell_type": "code",
   "execution_count": null,
   "id": "408085a9",
   "metadata": {},
   "outputs": [],
   "source": []
  },
  {
   "cell_type": "markdown",
   "id": "c578d97d",
   "metadata": {},
   "source": [
    "## Part 3: Colorful graphs and mysterious picture"
   ]
  },
  {
   "cell_type": "markdown",
   "id": "1e7db44f",
   "metadata": {},
   "source": [
    "__Question 1.__\n",
    "Take back your gaussian function from part 1 and plot it for 3 different values of mean and standard deviation.\n",
    "Use the non black and white colors we defined precedently for your plot, including complementary ones.\n",
    "\n",
    "(Tip: to know how to define your x axis you can use the fact that most of the values of a gaussian distribution are in the interval $[\\mu - 3 \\sigma , \\mu + 3 \\sigma ]$ )."
   ]
  },
  {
   "cell_type": "code",
   "execution_count": null,
   "id": "4348310f",
   "metadata": {},
   "outputs": [],
   "source": []
  },
  {
   "cell_type": "markdown",
   "id": "171ed766",
   "metadata": {},
   "source": [
    "__Question 2. (bonus)__\n",
    "Define your own color palette using your Color class and use it to display the histogram of the first part."
   ]
  },
  {
   "cell_type": "markdown",
   "id": "9a1b55fd",
   "metadata": {},
   "source": [
    "__Question 3.__\n",
    "The text file mysterious_picture in data2 directory contains the encoding of a 16x16 picture. It has 16 lines, each line being composed of 16\\*3 numbers between 0 and 255 to represent the RGB coding of each pixel of the picture.\n",
    "\n",
    "Open the file and create a 3D numpy array from it. Then plot it with matplotlib (you can use the imshow() function). Remove the axes of your figure.\n",
    "\n",
    "(Tip: to create your 3D array of the right dimension, think about the reshape function)."
   ]
  },
  {
   "cell_type": "code",
   "execution_count": null,
   "id": "1e806260",
   "metadata": {},
   "outputs": [],
   "source": []
  },
  {
   "cell_type": "markdown",
   "id": "ad7bcdfb",
   "metadata": {},
   "source": [
    "__Question 4. (bonus)__\n",
    "Write a function that encodes a 16x16 black and white picture (the encoded picture) in another 16x16 picture (the encoding picture) in the following way:\n",
    "- if the pixel of the encoded picture is white, then the green value of the encoding becomes even if it weren't\n",
    "- if the pixel of the encoded picture is white, then the green value of the encoding becomes odd if it weren't\n",
    "\n",
    "Also write a function that decodes such a picture.\n",
    "\n",
    "The file smiley.png contains a 16x16 black and white picture. Open it and display it. Find a way to get the pixel value from it and test your function with smiley.png and mysterious_picture.txt.\n",
    "Write your result in a new file called \"new_image\"."
   ]
  }
 ],
 "metadata": {
  "kernelspec": {
   "display_name": "Python 3 (ipykernel)",
   "language": "python",
   "name": "python3"
  },
  "language_info": {
   "codemirror_mode": {
    "name": "ipython",
    "version": 3
   },
   "file_extension": ".py",
   "mimetype": "text/x-python",
   "name": "python",
   "nbconvert_exporter": "python",
   "pygments_lexer": "ipython3",
   "version": "3.11.5"
  },
  "toc": {
   "base_numbering": 1,
   "nav_menu": {},
   "number_sections": true,
   "sideBar": true,
   "skip_h1_title": false,
   "title_cell": "Table of Contents",
   "title_sidebar": "Contents",
   "toc_cell": false,
   "toc_position": {},
   "toc_section_display": true,
   "toc_window_display": false
  }
 },
 "nbformat": 4,
 "nbformat_minor": 5
}
