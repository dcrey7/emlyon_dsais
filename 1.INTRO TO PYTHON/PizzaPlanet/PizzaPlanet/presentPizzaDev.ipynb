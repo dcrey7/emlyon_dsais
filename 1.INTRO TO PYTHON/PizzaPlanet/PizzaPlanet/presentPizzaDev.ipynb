{
 "cells": [
  {
   "cell_type": "code",
   "execution_count": 1,
   "id": "53e35108",
   "metadata": {},
   "outputs": [],
   "source": [
    "## Load the dependencies\n",
    "import#import the pandas package and store it as pd. Look up online how this is typically done\n",
    "\n",
    "from import #to read the recipe <your code, follow the convention>"
   ]
  },
  {
   "cell_type": "code",
   "execution_count": 2,
   "id": "fe85474c",
   "metadata": {},
   "outputs": [],
   "source": [
    "## Read the pizza menu from the CSV file using pandas\n",
    "path_to_csv = 'Tables/Menu.csv'\n",
    "menu_df = # Use the method \"read_csv\" from the package pandas. Note that the csv file has ; as a separator.\n",
    "# whenever handling .csv files, use Notepad/Notepad++ to open the file and examine it\n",
    "\n",
    "selected_columns = menu_df.columns[]#to select the names of the first 4 columns, look up the .columns method of the\n",
    "#pandas dataframe object online and apply it here. Beware: Python indexing starts counting at 0!\n",
    "\n",
    "# Convert the selected columns to a string representation (more readable)\n",
    "menu_str = menu_df[selected_columns].head(6).to_string(index=False)\n"
   ]
  },
  {
   "cell_type": "code",
   "execution_count": 1,
   "id": "c1de88a3",
   "metadata": {},
   "outputs": [
    {
     "ename": "SyntaxError",
     "evalue": "invalid syntax (Temp/ipykernel_20280/804189266.py, line 9)",
     "output_type": "error",
     "traceback": [
      "\u001b[1;36m  File \u001b[1;32m\"C:\\Users\\SCHOOTS\\AppData\\Local\\Temp/ipykernel_20280/804189266.py\"\u001b[1;36m, line \u001b[1;32m9\u001b[0m\n\u001b[1;33m    selected_pizza =\u001b[0m\n\u001b[1;37m                     ^\u001b[0m\n\u001b[1;31mSyntaxError\u001b[0m\u001b[1;31m:\u001b[0m invalid syntax\n"
     ]
    }
   ],
   "source": [
    "# Display the pizza menu\n",
    "print(\"Welcome to Pizza Planet!\")\n",
    "print(\"Here is our menu:\")\n",
    "\n",
    "# Print the menu representation\n",
    "\n",
    "\n",
    "# Ask the customer to select a pizza, use the input function (inbult in Python)\n",
    "selected_pizza = \n",
    "\n",
    "# Check if the selected pizza is in the menu, and \"make\" it (call the pizza making script)\n",
    "if selected_pizza in menu_df['Pizza Name'].values:\n",
    "    # Call the make_pizza script to generate the \"pizza\": a list containing ingredients\n",
    "    \n",
    "    # Present the contents of the pizza to the customer\n",
    "    print(\"Here it is! Your fresh pizza contains:\", \", \".join(pizza))# when you're finished with your coding, read up on how this works\n",
    "    \n",
    "    # Retrieve the price of the selected pizza\n",
    "    select_index = menu_df[] == # first construct an index of false/true that indicates which of the pizza's is the right one, using the equality operator == to compare the names in the menu with the one the cutomer ordered.\n",
    "    selected_pizza_price = menu_df.loc[select_index, 'Price (USD)'].values[0]# again, try to understand every part of this line after you finish\n",
    "    print()# Look up \"Python f-string documentation\" online to insert the price in a message letting the customer know what to pay.\n",
    "else:\n",
    "    #print something saying something like that pizza is not available, please restart the script"
   ]
  }
 ],
 "metadata": {
  "kernelspec": {
   "display_name": "Python 3 (ipykernel)",
   "language": "python",
   "name": "python3"
  },
  "language_info": {
   "codemirror_mode": {
    "name": "ipython",
    "version": 3
   },
   "file_extension": ".py",
   "mimetype": "text/x-python",
   "name": "python",
   "nbconvert_exporter": "python",
   "pygments_lexer": "ipython3",
   "version": "3.8.8"
  }
 },
 "nbformat": 4,
 "nbformat_minor": 5
}
