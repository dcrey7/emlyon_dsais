{
 "cells": [
  {
   "cell_type": "code",
   "execution_count": 1,
   "id": "34bbbd44",
   "metadata": {},
   "outputs": [],
   "source": [
    "def read_recipe(pizza_name):\n",
    "    ## Load the dependencies\n",
    "    import #import the pandas package and store it as pd. Look up online how this is typically done\n",
    "    \n",
    "    ## Load the menu data\n",
    "    menu_df = # Use the method \"read_csv\" from the package pandas. Note that the csv file has ; as a separator.\n",
    "    # whenever handling .csv files, use Notepad/Notepad++ to open the file and examine it\n",
    "    \n",
    "    ## Look up the ingredients for the specified pizza \n",
    "    # Convert the DataFrame element to a list\n",
    "    ingredients_list = list(menu_df[menu_df['Pizza Name'] == pizza_name].iloc[0])# when finished, dive into this line to understand it.\n",
    "\n",
    "    # Access the second element of the list\n",
    "    ingredients_str = ingredients_list[]# square brackets let you enter the element. Careful, Python starts counting at 0!\n",
    "\n",
    "    # Split the string into a list based on the comma delimiter\n",
    "    ingredients = # use the .split(',') method on the retrieved string\n",
    "    \n",
    "    # Strip the white spaces\n",
    "    ingredients = [ingredient.strip() for ingredient in ingredients] #list comprehension. Very Pythonic. Again, look it up if you have time\n",
    "\n",
    "    ## Return the ingredients. The thing you are returning should be a list containing strings\n",
    "    return # please complete.\n"
   ]
  }
 ],
 "metadata": {
  "kernelspec": {
   "display_name": "Python 3 (ipykernel)",
   "language": "python",
   "name": "python3"
  },
  "language_info": {
   "codemirror_mode": {
    "name": "ipython",
    "version": 3
   },
   "file_extension": ".py",
   "mimetype": "text/x-python",
   "name": "python",
   "nbconvert_exporter": "python",
   "pygments_lexer": "ipython3",
   "version": "3.8.8"
  }
 },
 "nbformat": 4,
 "nbformat_minor": 5
}
