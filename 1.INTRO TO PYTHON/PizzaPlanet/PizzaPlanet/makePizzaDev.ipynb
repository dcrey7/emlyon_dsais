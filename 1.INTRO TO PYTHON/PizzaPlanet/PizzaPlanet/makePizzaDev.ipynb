{
 "cells": [
  {
   "cell_type": "code",
   "execution_count": 58,
   "id": "6c7173dc",
   "metadata": {},
   "outputs": [],
   "source": [
    "def make_pizza(pizza_name):\n",
    "\n",
    "    ## Load dependencies\n",
    "    from addIngredient import add_ingredient\n",
    "    from  import #to read the recipe <your code, follow the convention>\n",
    "    \n",
    "    ## Prepare the pizza base\n",
    "     #create a list, named pizza, with one element: 'base', the base of the pizza!\n",
    "    \n",
    "    ## Read which ingredients are needed\n",
    "    #call the read recipe script, passing the pizza_name, and store as a variable called recipe.\n",
    "    #(the read recipe team will make sure it returns a list containing the ingredients)\n",
    "    \n",
    "    ## Start with the base, then loop over the (topping) ingredients, adding one every time.\n",
    "    for #... (please complete)\n",
    "        pizza = add_ingredient(pizza, ingredient)\n",
    "    \n",
    "    ## Deliver the finished pizza\n",
    "    #return the pizza objet to the function that called this script"
   ]
  }
 ],
 "metadata": {
  "kernelspec": {
   "display_name": "Python 3 (ipykernel)",
   "language": "python",
   "name": "python3"
  },
  "language_info": {
   "codemirror_mode": {
    "name": "ipython",
    "version": 3
   },
   "file_extension": ".py",
   "mimetype": "text/x-python",
   "name": "python",
   "nbconvert_exporter": "python",
   "pygments_lexer": "ipython3",
   "version": "3.8.8"
  }
 },
 "nbformat": 4,
 "nbformat_minor": 5
}
