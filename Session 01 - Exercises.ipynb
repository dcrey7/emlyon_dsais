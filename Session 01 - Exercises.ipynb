{
 "cells": [
  {
   "cell_type": "markdown",
   "metadata": {},
   "source": [
    "<table style=\"float:left\">\n",
    "    <tr>\n",
    "        <td>\n",
    "            <img src=\"images/emlyon.png\" style=\"height:60px; float:left; padding-right:10px; margin-top:5px\" />\n",
    "        </td>\n",
    "        <td style=\"padding-bottom:10px;\">\n",
    "            <h1 style=\"border-bottom: 1px solid #eeeeee;\"> AI Booster Week 01 - Python for Data Science </h1>\n",
    "            <span style=\"display:inline-block; margin-top:-15px;\">\n",
    "            <a href=\"https://masters.em-lyon.com/fr/msc-in-data-science-artificial-intelligence-strategy\">[Emlyon]</a> MSc in Data Science & Artificial Intelligence Strategy (DSAIS)    \n",
    "            <br/>\n",
    "            Sep 2024, Paris | © Saeed VARASTEH\n",
    "            </span>\n",
    "        </td>\n",
    "    </tr>\n",
    "</table>"
   ]
  },
  {
   "cell_type": "markdown",
   "metadata": {},
   "source": [
    "<div class=\"alert-info\" style=\"border-bottom: solid 1px lightgray; background-color:#ece4f5;\">\n",
    "    <img src=\"images/assignment.png\" style=\"height:60px; float:left; padding-right:10px;\" />\n",
    "    <span style=\"font-weight:bold; color:#8966b0\">\n",
    "        <h4 style=\"padding-top:25px;\"> EXERCISES 01 </h4>\n",
    "    </span>\n",
    "</div>"
   ]
  },
  {
   "cell_type": "markdown",
   "metadata": {},
   "source": [
    "### Warm ups"
   ]
  },
  {
   "cell_type": "markdown",
   "metadata": {},
   "source": [
    "__Q1__ Complete the following code to find out how many seconds there are in 10 years ? "
   ]
  },
  {
   "cell_type": "code",
   "execution_count": 1,
   "metadata": {},
   "outputs": [
    {
     "name": "stdout",
     "output_type": "stream",
     "text": [
      "There are 31536000 seconds in 10 years\n"
     ]
    }
   ],
   "source": [
    "seconds_in_minute = 60\n",
    "minutes_in_hour = 60\n",
    "hours_in_day = 24\n",
    "days_in_year = 365\n",
    "seconds_in_ten_years = seconds_in_minute*minutes_in_hour*hours_in_day*days_in_year\n",
    "print(f\"There are {seconds_in_ten_years} seconds in 10 years\")"
   ]
  },
  {
   "cell_type": "markdown",
   "metadata": {},
   "source": [
    "__Q2__ Write a program that takes two numbers from the user and prints out the largest one."
   ]
  },
  {
   "cell_type": "code",
   "execution_count": 2,
   "metadata": {},
   "outputs": [
    {
     "name": "stdout",
     "output_type": "stream",
     "text": [
      "enter 1st number 5\n",
      "enter 2st number 89\n",
      "the max number is 89\n"
     ]
    }
   ],
   "source": [
    "a=int(input(\"enter 1st number \"))\n",
    "b=int(input(\"enter 2st number \"))\n",
    "c=[a,b]\n",
    "print(f\"the max number is {max(c)}\")"
   ]
  },
  {
   "cell_type": "markdown",
   "metadata": {},
   "source": [
    "__Q3__ Write a program that takes an integer value from the user and specifies the minimum number of coins and notes to be exchanged, using only 1 euro coins, 2 euro coins and 5 euro notes.  \n",
    "\n",
    "For example, if the user enters 23, the expected output is \n",
    "\n",
    "    4 of 5-euro notes, 1 2-euro coin and 1 1-euro coin"
   ]
  },
  {
   "cell_type": "code",
   "execution_count": 3,
   "metadata": {},
   "outputs": [
    {
     "name": "stdout",
     "output_type": "stream",
     "text": [
      "enter the amount23\n",
      "4 of 5-euro notes, 1 2-euro coin, 1 1-euro coin\n"
     ]
    }
   ],
   "source": [
    "a=int(input(\"enter the amount\"))\n",
    "number_of_5=a//5\n",
    "number_of_2=(a-(number_of_5*5))//2\n",
    "number_of_1=a-((number_of_5*5)+(number_of_2*2))\n",
    "print(f\"{number_of_5} of 5-euro notes, {number_of_2} 2-euro coin, {number_of_1} 1-euro coin\")"
   ]
  },
  {
   "cell_type": "markdown",
   "metadata": {},
   "source": [
    "### Functions"
   ]
  },
  {
   "cell_type": "markdown",
   "metadata": {},
   "source": [
    "__Q4__ Create a function that takes an argument and multiplies it by 10. Test your function."
   ]
  },
  {
   "cell_type": "code",
   "execution_count": 4,
   "metadata": {},
   "outputs": [],
   "source": [
    "def multiply_me(param1):\n",
    "    return param1*10\n",
    "    \n",
    "    # your code\n",
    "    "
   ]
  },
  {
   "cell_type": "code",
   "execution_count": 5,
   "metadata": {},
   "outputs": [
    {
     "data": {
      "text/plain": [
       "40"
      ]
     },
     "execution_count": 5,
     "metadata": {},
     "output_type": "execute_result"
    }
   ],
   "source": [
    "multiply_me(4)"
   ]
  },
  {
   "cell_type": "markdown",
   "metadata": {},
   "source": [
    "<div style=' background-color:#faf9e8'> \n",
    "    <b>Q5</b> Quadratic Equations.\n",
    "</div>"
   ]
  },
  {
   "cell_type": "markdown",
   "metadata": {},
   "source": [
    "A quadratic equation is an equation that could be written as:\n",
    "$$\n",
    "a x^2 + b x + c = 0\n",
    "$$\n",
    "\n",
    "Write a function that takes the coefficients of a quadratic equation, $a$, $b$, and $c$, and finds out the roots of the equation.\n",
    "\n",
    "The roots of the quadratic equation are computed as follows:\n",
    "\n",
    "If the discriminant ($b^2-4ac$) is greater than 0, then: \n",
    "\n",
    "$$\n",
    "x1 = \\frac{-b + \\sqrt{b^2-4ac}}{2a},\\, \\,\n",
    "x2 = \\frac{-b - \\sqrt{b^2-4ac}}{2a}\n",
    "$$\n",
    "\n",
    "\n",
    ", If the discriminant ($b^2-4ac$) is equal to 0, then: \n",
    "\n",
    "$$\n",
    "x1 = \\frac{-b}{2a}\n",
    "$$\n",
    "\n",
    ", and If the discriminant ($b^2-4ac$) is smaller than 0 then there is no real roots. \n",
    "\n",
    "\n",
    "Note: $a$, $b$, and $c$ are real numbers and you should check if $a$ is not zero."
   ]
  },
  {
   "cell_type": "code",
   "execution_count": 20,
   "metadata": {},
   "outputs": [],
   "source": [
    "def qeq(a, b, c):\n",
    "    if a!=0:\n",
    "        dis=((b**2)-4*a*c)\n",
    "        if dis>0:\n",
    "            return (-b+(dis**0.5))/(2*a),(-b-(dis**0.5))/(2*a)\n",
    "        elif dis==0:\n",
    "            return -b/(2*a)\n",
    "        else:\n",
    "            return \"discriminat is lesser than 0 there are no real roots\"\n",
    "    else:\n",
    "        return \"a is 0\"\n",
    "    # your code\n",
    "    "
   ]
  },
  {
   "cell_type": "code",
   "execution_count": 21,
   "metadata": {},
   "outputs": [
    {
     "name": "stdout",
     "output_type": "stream",
     "text": [
      "(-1.0, -3.0)\n",
      "a is 0\n"
     ]
    }
   ],
   "source": [
    "print(qeq(1,4,3))\n",
    "print(qeq(0,4,3))"
   ]
  },
  {
   "cell_type": "markdown",
   "metadata": {},
   "source": [
    "### Loops"
   ]
  },
  {
   "cell_type": "markdown",
   "metadata": {},
   "source": [
    "__Q6__ Write a code that repeatedly asks for the input of a \"name\" and prints out \"Hi [name]! Nice to see you!\" until the user enters the word \"done\". \n",
    "\n",
    "Replace [name] with the name entered by the user.\n",
    "\n",
    "Note: You can use a `while` loop and `input()` to implement this. "
   ]
  },
  {
   "cell_type": "code",
   "execution_count": 8,
   "metadata": {},
   "outputs": [
    {
     "name": "stdout",
     "output_type": "stream",
     "text": [
      "enter your name: oi\n",
      "Hi oi! Nice to see you!\n",
      "enter your name: gdd\n",
      "Hi gdd! Nice to see you!\n",
      "enter your name: ghh\n",
      "Hi ghh! Nice to see you!\n",
      "enter your name: hui\n",
      "Hi hui! Nice to see you!\n",
      "enter your name: jtddd\n",
      "Hi jtddd! Nice to see you!\n",
      "enter your name: abhiii\n",
      "Hi abhiii! Nice to see you!\n",
      "enter your name: done\n"
     ]
    }
   ],
   "source": [
    "name=input(\"enter your name: \")\n",
    "while name!=\"done\":    \n",
    "    print(f\"Hi {name}! Nice to see you!\")\n",
    "    name=input(\"enter your name: \")\n",
    "    \n"
   ]
  },
  {
   "cell_type": "code",
   "execution_count": 2,
   "metadata": {},
   "outputs": [
    {
     "name": "stdout",
     "output_type": "stream",
     "text": [
      "bob\n",
      "hello bob\n",
      "dd\n",
      "hello dd\n",
      "asdg\n",
      "hello asdg\n",
      "gds\n",
      "hello gds\n",
      "done\n"
     ]
    }
   ],
   "source": [
    "#simplper code\n",
    "while True:\n",
    "    name=input()    \n",
    "    if name==\"done\":\n",
    "        break\n",
    "    print(f\"hello {name}\")"
   ]
  },
  {
   "cell_type": "markdown",
   "metadata": {},
   "source": [
    "__Q7__ Update your code to find the longest name found. \n",
    "\n",
    "When you stop the loop after seeing \"done\", print the longest name entered, e.g. \"Longest name was [name]\".\n",
    "\n",
    "Note: You can use the `len()` method to find out the length of a word."
   ]
  },
  {
   "cell_type": "code",
   "execution_count": 19,
   "metadata": {},
   "outputs": [
    {
     "name": "stdout",
     "output_type": "stream",
     "text": [
      "Enter your name (or 'done' to finish): aa\n",
      "Hi aa! Nice to see you!\n",
      "Enter your name (or 'done' to finish): djd\n",
      "Hi djd! Nice to see you!\n",
      "Enter your name (or 'done' to finish): abhishek\n",
      "Hi abhishek! Nice to see you!\n",
      "Enter your name (or 'done' to finish): add\n",
      "Hi add! Nice to see you!\n",
      "Enter your name (or 'done' to finish): dffgggg\n",
      "Hi dffgggg! Nice to see you!\n",
      "Enter your name (or 'done' to finish): ddf\n",
      "Hi ddf! Nice to see you!\n",
      "Enter your name (or 'done' to finish): done\n",
      "Longest name was abhishek\n"
     ]
    }
   ],
   "source": [
    "bigname = \"\"\n",
    "l1 = 0\n",
    "name = input(\"Enter your name (or 'done' to finish): \")\n",
    "\n",
    "while name.lower() != \"done\":\n",
    "    print(f\"Hi {name}! Nice to see you!\")\n",
    "    length = len(name)\n",
    "    if length > l1:\n",
    "        l1 = length\n",
    "        bigname = name\n",
    "    name = input(\"Enter your name (or 'done' to finish): \")\n",
    "\n",
    "if bigname:\n",
    "    print(f\"Longest name was {bigname}\")\n",
    "else:\n",
    "    print(\"No names were entered.\")"
   ]
  },
  {
   "cell_type": "markdown",
   "metadata": {},
   "source": [
    "### Nested Loops\n"
   ]
  },
  {
   "cell_type": "markdown",
   "metadata": {},
   "source": [
    "__Q8__ Write a program that creates an output like this:\n",
    "\n",
    "<code>\n",
    "* * * *\n",
    "* * * *\n",
    "* * * *\n",
    "* * * *\n",
    "</code>"
   ]
  },
  {
   "cell_type": "code",
   "execution_count": 10,
   "metadata": {},
   "outputs": [
    {
     "name": "stdout",
     "output_type": "stream",
     "text": [
      "enter stars: 4\n",
      "****\n",
      "****\n",
      "****\n",
      "****\n"
     ]
    }
   ],
   "source": [
    "nostars=int(input(\"enter stars: \"))\n",
    "for i in range(1,nostars+1):\n",
    "    print(\"*\"*4)"
   ]
  },
  {
   "cell_type": "markdown",
   "metadata": {},
   "source": [
    "__Q9__ Write a program that creates an output like this:\n",
    "\n",
    "<code>\n",
    "* \n",
    "* * \n",
    "* * * \n",
    "* * * *\n",
    "</code>"
   ]
  },
  {
   "cell_type": "code",
   "execution_count": 11,
   "metadata": {},
   "outputs": [
    {
     "name": "stdout",
     "output_type": "stream",
     "text": [
      "enter stars: 4\n",
      "*\n",
      "**\n",
      "***\n",
      "****\n"
     ]
    }
   ],
   "source": [
    "nostars=int(input(\"enter stars: \"))\n",
    "for i in range(1,nostars+1):\n",
    "    print(\"*\"*i)"
   ]
  },
  {
   "cell_type": "markdown",
   "metadata": {},
   "source": [
    "<div style=' background-color:#faf9e8'> \n",
    "    <b>Q10</b> Write a program that creates an output like this:\n",
    "</div>\n",
    "\n",
    "<code>\n",
    "      * \n",
    "    * * *\n",
    "  * * * * * \n",
    "* * * * * * *\n",
    "</code>"
   ]
  },
  {
   "cell_type": "code",
   "execution_count": 12,
   "metadata": {},
   "outputs": [
    {
     "name": "stdout",
     "output_type": "stream",
     "text": [
      "enter number of rows: 5\n",
      "    *\n",
      "   ***\n",
      "  *****\n",
      " *******\n",
      "*********\n"
     ]
    }
   ],
   "source": [
    "n = int(input(\"enter number of rows: \"))\n",
    "for i in range(n):\n",
    "    spaces = n - i - 1\n",
    "    stars = 2 * i + 1\n",
    "    print(\" \" * spaces + \"*\" * stars)"
   ]
  },
  {
   "cell_type": "markdown",
   "metadata": {},
   "source": [
    "### Strings"
   ]
  },
  {
   "cell_type": "markdown",
   "metadata": {},
   "source": [
    "__String Methods__: Strings come bundled with special functions called string methods that you can use to work with and manipulate strings. e.g. `lower()` method converts all uppercase characters in a string into lowercase characters.\n",
    "\n",
    "[Here](https://www.w3schools.com/python/python_ref_string.asp) is a set of built-in methods that you can use on strings."
   ]
  },
  {
   "cell_type": "markdown",
   "metadata": {},
   "source": [
    "__Q11__ Take the following string variable, __mystring__:\n",
    "\n",
    "    mystring = 'X-DSPAM-Confidence:0.8475'\n",
    "\n",
    "Write a function that uses the `find()` method and string slicing to extract the portion of the string after the colon character (:) and then use the `float` function to convert the extracted string into a floating point number. Return the floating point number from the function.  If no colon character is found, return `None`."
   ]
  },
  {
   "cell_type": "code",
   "execution_count": 13,
   "metadata": {},
   "outputs": [],
   "source": [
    "def get_number(mystr):\n",
    "    indstring=mystr.find(\":\")\n",
    "    if indstring>=0:\n",
    "        return float(mystring[indstring+1:]),indstring\n",
    "    else:\n",
    "        return None\n",
    "        \n",
    "       \n",
    " \n",
    "    # Check if you have \":\" inside the input \n",
    "    # If no: Return None\n",
    "    # If yes: Find the index number where is the \":\" inside the input\n",
    "    # Use the index given by find and extract the number inside the input \n",
    "    # Cast it into float and return it\n",
    "    "
   ]
  },
  {
   "cell_type": "code",
   "execution_count": 14,
   "metadata": {},
   "outputs": [
    {
     "name": "stdout",
     "output_type": "stream",
     "text": [
      "(0.8475, 18)\n",
      "None\n"
     ]
    }
   ],
   "source": [
    "mystring = 'X-DSPAM-Confidence:0.8475'\n",
    "print(get_number(mystring))\n",
    "mystring1 = 'X-DSPAM-Confidence0.8475'\n",
    "print(get_number(mystring1))\n",
    "# mystring.find(\":\")"
   ]
  },
  {
   "cell_type": "markdown",
   "metadata": {},
   "source": [
    "### All in one"
   ]
  },
  {
   "cell_type": "markdown",
   "metadata": {},
   "source": [
    "<div style=' background-color:#fae8ea'> \n",
    "    <b>Q12</b> Prime number.\n",
    "</div>"
   ]
  },
  {
   "cell_type": "markdown",
   "metadata": {},
   "source": [
    "Write a function `is_prime(n)` that returns `True` if n is a prime number and `False` otherwise.\n",
    "\n",
    "Reminder: A prime number is only divisible by two numbers: itself and 1."
   ]
  },
  {
   "cell_type": "markdown",
   "metadata": {},
   "source": [
    "Use your `is_prime()` function to write a program that reads a number as input and outputs for all numbers up to it whether they are prime or not.\n",
    "\n",
    "Example Output:\n",
    "\n",
    "<pre>\n",
    "Please input a number: 5 \n",
    "1 is not prime.\n",
    "2 is prime.\n",
    "3 is prime.\n",
    "4 is not prime. \n",
    "5 is prime.\n",
    "</pre>"
   ]
  },
  {
   "cell_type": "code",
   "execution_count": 22,
   "metadata": {},
   "outputs": [
    {
     "name": "stdout",
     "output_type": "stream",
     "text": [
      "Enter a number: 4\n",
      "2 is prime\n",
      "3 is prime\n",
      "4 is not prime\n"
     ]
    }
   ],
   "source": [
    "def is_prime(n):\n",
    "    if n < 2:\n",
    "        return False\n",
    "    for i in range(2, n):\n",
    "        if n % i == 0:\n",
    "            return False\n",
    "    return True\n",
    "\n",
    "num = int(input(\"Enter a number: \"))\n",
    "    \n",
    "for i in range(2, num + 1):\n",
    "    if is_prime(i):\n",
    "        print(f\"{i} is prime\")\n",
    "    else:\n",
    "        print(f\"{i} is not prime\")"
   ]
  },
  {
   "cell_type": "markdown",
   "metadata": {},
   "source": []
  },
  {
   "cell_type": "markdown",
   "metadata": {},
   "source": [
    "---"
   ]
  }
 ],
 "metadata": {
  "kernelspec": {
   "display_name": "Python 3 (ipykernel)",
   "language": "python",
   "name": "python3"
  },
  "language_info": {
   "codemirror_mode": {
    "name": "ipython",
    "version": 3
   },
   "file_extension": ".py",
   "mimetype": "text/x-python",
   "name": "python",
   "nbconvert_exporter": "python",
   "pygments_lexer": "ipython3",
   "version": "3.11.5"
  },
  "toc": {
   "base_numbering": 1,
   "nav_menu": {},
   "number_sections": true,
   "sideBar": true,
   "skip_h1_title": false,
   "title_cell": "Table of Contents",
   "title_sidebar": "Contents",
   "toc_cell": false,
   "toc_position": {},
   "toc_section_display": true,
   "toc_window_display": false
  }
 },
 "nbformat": 4,
 "nbformat_minor": 4
}
