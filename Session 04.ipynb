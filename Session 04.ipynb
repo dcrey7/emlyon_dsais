{
 "cells": [
  {
   "cell_type": "markdown",
   "metadata": {},
   "source": [
    "<table style=\"float:left\">\n",
    "    <tr>\n",
    "        <td>\n",
    "            <img src=\"images/emlyon.png\" style=\"height:60px; float:left; padding-right:10px; margin-top:5px\" />\n",
    "        </td>\n",
    "        <td style=\"padding-bottom:10px;\">\n",
    "            <h1 style=\"border-bottom: 1px solid #eeeeee;\"> AI Booster Week 01 - Python for Data Science </h1>\n",
    "            <span style=\"display:inline-block; margin-top:-15px;\">\n",
    "            <a href=\"https://masters.em-lyon.com/fr/msc-in-data-science-artificial-intelligence-strategy\">[Emlyon]</a> MSc in Data Science & Artificial Intelligence Strategy (DSAIS)    \n",
    "            <br/>\n",
    "            Sep 2024, Paris | © Saeed VARASTEH\n",
    "            </span>\n",
    "        </td>\n",
    "    </tr>\n",
    "</table>"
   ]
  },
  {
   "cell_type": "markdown",
   "metadata": {},
   "source": [
    "### Pandas Library I\n",
    "\n",
    "---"
   ]
  },
  {
   "cell_type": "code",
   "execution_count": null,
   "metadata": {},
   "outputs": [],
   "source": [
    "import pandas as pd"
   ]
  },
  {
   "cell_type": "markdown",
   "metadata": {},
   "source": [
    "Pandas is one of the most important libraries of Python. Pandas has data structures for data analysis. The most used of these are __Series__ and __DataFrame__ data structures. Series is one dimensional, that is, it consists of a column. DataFrame is two-dimensional, i.e. it consists of rows and columns."
   ]
  },
  {
   "cell_type": "markdown",
   "metadata": {},
   "source": [
    "### DataFrame\n",
    "\n",
    "DataFrame is the most widely used data structure in Python pandas. You can imagine it as a table in a database or a spreadsheet.\n",
    "\n",
    "Dataframe is a tabular(rows, columns) representation of data. It is a __two-dimensional__ data structure with potentially heterogeneous data.\n",
    "\n",
    "Dataframe is a size-mutable structure that means data can be added or deleted from it, unlike data series, which does not allow operations that change its size.\n",
    "\n",
    "<div>\n",
    "<img src=\"images/dataframe.png\" width=\"600\"/>\n",
    "</div>"
   ]
  },
  {
   "cell_type": "markdown",
   "metadata": {},
   "source": [
    "#### DataFrame creation\n",
    "\n",
    "Data is available in various forms and types like CSV or JSON files, SQL table, Python structures like list, dict and so on. \n",
    "\n",
    "We need to convert all such different data formats into a DataFrame so that we can use pandas libraries to analyze such data efficiently.\n",
    "\n",
    "To create DataFrame, we can use either the DataFrame constructor or pandas built-in functions. Below are some examples."
   ]
  },
  {
   "cell_type": "markdown",
   "metadata": {},
   "source": [
    "#### DataFrame constructor\n",
    "\n",
    "```python\n",
    "pandas.DataFrame(data=None, index=None, columns=None, dtype=None, copy=False)\n",
    "```"
   ]
  },
  {
   "cell_type": "markdown",
   "metadata": {},
   "source": [
    "#### Parameters:\n",
    "\n",
    "* **`data`**: It takes input **`dict`**, **`list`**, **`set`**, **`ndarray`**, **`iterable`**, or DataFrame. If the input is not provided, then it creates an empty DataFrame. The resultant column order follows the insertion order.\n",
    "\n",
    "\n",
    "* **`index`**: (Optional) It takes the list of row index for the DataFrame. The default value is a range of integers 0, 1,…n.\n",
    "\n",
    "\n",
    "* **`columns`** : (Optional) It takes the list of columns for the DataFrame. The default value is a range of integers 0, 1,…n.\n",
    "\n",
    "\n",
    "* **`dtype`**: (Optional) By default, It infers the data type from the data, but this option applies any specific data type to the whole DataFrame.\n",
    "\n",
    "\n",
    "* **`copy`**: (Optional) Copy data from inputs. Boolean, Default False. Only affects DataFrame or 2D array-like inputs"
   ]
  },
  {
   "cell_type": "markdown",
   "metadata": {},
   "source": [
    "---"
   ]
  },
  {
   "cell_type": "markdown",
   "metadata": {},
   "source": [
    "<div style='color:gray; font-size:14pt'> \n",
    "Dataframe from dict\n",
    "</div>"
   ]
  },
  {
   "cell_type": "markdown",
   "metadata": {},
   "source": [
    "When we have data in **`dict`** or any default data structures in Python, we can convert it into DataFrame using the DataFrame constructor.\n",
    "\n",
    "To construct a DataFrame from a **`dict`** object, we can pass it to the DataFrame constructor **`pd.DataFrame(dict)`**. It creates DataFrame using, where **`dict`** keys will be column labels, and **`dict`** values will be the columns’ data."
   ]
  },
  {
   "cell_type": "code",
   "execution_count": null,
   "metadata": {
    "ExecuteTime": {
     "end_time": "2021-07-06T16:31:40.726150Z",
     "start_time": "2021-07-06T16:31:40.693928Z"
    }
   },
   "outputs": [],
   "source": [
    "# Python dict object\n",
    "student_dict = {'Name':['Joe','Nat'], 'Age':[20,21], 'Marks':[85.10, 77.80]}\n",
    "student_dict"
   ]
  },
  {
   "cell_type": "markdown",
   "metadata": {},
   "source": [
    "**'Name'**, **'Age'** and **'Marks'** are the keys in the **`dict`** when you convert they will become the column labels of the DataFrame."
   ]
  },
  {
   "cell_type": "code",
   "execution_count": null,
   "metadata": {
    "ExecuteTime": {
     "end_time": "2021-07-06T16:31:42.199775Z",
     "start_time": "2021-07-06T16:31:40.732987Z"
    }
   },
   "outputs": [],
   "source": [
    "# Create DataFrame from dict\n",
    "student_df = pd.DataFrame(student_dict)\n",
    "student_df"
   ]
  },
  {
   "cell_type": "code",
   "execution_count": null,
   "metadata": {
    "ExecuteTime": {
     "end_time": "2021-07-06T16:31:42.417065Z",
     "start_time": "2021-07-06T16:31:42.233957Z"
    }
   },
   "outputs": [],
   "source": [
    "# Another example with the indices\n",
    "df = pd.DataFrame({'A': [1, 2, 3], 'B': [True, True, False],'C': [0.496714, -0.138264, 0.647689]},\n",
    "                  index=['i', 'ii', 'iii'])\n",
    "df"
   ]
  },
  {
   "cell_type": "markdown",
   "metadata": {},
   "source": [
    "<div style='color:gray; font-size:14pt'> \n",
    "Dataframe from List\n",
    "</div>"
   ]
  },
  {
   "cell_type": "markdown",
   "metadata": {},
   "source": [
    "The List is a simple data structure in Python that stores the values as a List. The List can have heterogeneous elements, i.e., it can have values of different types. To analyze such a List, we can convert it into the pandas DataFrame. By converting the List into a 2-dimensional structure makes it efficient to process.\n",
    "\n",
    "DataFrame can be created from List using DataFrame constructor:\n",
    "\n",
    "Here we create a DataFrame object using a list of heterogeneous data. By default, all list elements are added as a row in the DataFrame. And row index is the range of numbers (starting at 0)."
   ]
  },
  {
   "cell_type": "code",
   "execution_count": null,
   "metadata": {},
   "outputs": [],
   "source": [
    "# Create list\n",
    "fruits_list = ['Apple', 10, 'Orange', 55.50]\n",
    "print(fruits_list)"
   ]
  },
  {
   "cell_type": "code",
   "execution_count": null,
   "metadata": {},
   "outputs": [],
   "source": [
    "# Create DataFrame from list\n",
    "fruits_df = pd.DataFrame(fruits_list)\n",
    "fruits_df"
   ]
  },
  {
   "cell_type": "markdown",
   "metadata": {},
   "source": [
    "#### Customized column name and index\n",
    "\n",
    "We can specify column labels into the columns=[col_labels] parameter in the DataFrame constructor.\n",
    "\n",
    "We can specify row index into the index=[row_index1, row_index2] parameter in the DataFrame constructor. By default, it gives a range of integers as row index i.e. 0, 1, 2, …, n.\n",
    "\n",
    "**Example:**"
   ]
  },
  {
   "cell_type": "code",
   "execution_count": null,
   "metadata": {},
   "outputs": [],
   "source": [
    "# Create list\n",
    "fruits_list = ['Apple', 'Banana', 'Orange','Mango']\n",
    "\n",
    "# Create DataFrame from list\n",
    "fruits_df = pd.DataFrame(fruits_list, columns=['Fruits'], index=['Fruit1', 'Fruit2', 'Fruit3', 'Fruit4'])\n",
    "fruits_df"
   ]
  },
  {
   "cell_type": "markdown",
   "metadata": {},
   "source": [
    "#### Multi-dimensional list\n",
    "\n",
    "In the below example, we have a list that has lists of fruit names and their prices. DataFrame constructor will add both the lists as a separate row in the resulting DataFrame:"
   ]
  },
  {
   "cell_type": "code",
   "execution_count": null,
   "metadata": {},
   "outputs": [],
   "source": [
    "# Create list\n",
    "fruits_list = [['Apple', 'Banana', 'Orange', 'Mango'],[120, 40, 80, 500]]"
   ]
  },
  {
   "cell_type": "code",
   "execution_count": null,
   "metadata": {},
   "outputs": [],
   "source": [
    "# Create DataFrame from list\n",
    "fruits_df = pd.DataFrame(fruits_list)\n",
    "fruits_df"
   ]
  },
  {
   "cell_type": "code",
   "execution_count": null,
   "metadata": {},
   "outputs": [],
   "source": [
    "# Create DataFrame from list\n",
    "fruits_df = pd.DataFrame(fruits_list).transpose()\n",
    "fruits_df"
   ]
  },
  {
   "cell_type": "markdown",
   "metadata": {},
   "source": [
    "---"
   ]
  },
  {
   "cell_type": "markdown",
   "metadata": {},
   "source": [
    "#### Indexing\n",
    "\n",
    "One improvement advantage of DataFrames over NumPy arrays is labeled indexing. We can select subsets by column, row, or both. Column selection uses the regular python **`__getitem__`** machinery. Pass in a single column label **`'A'`** or a list of labels **`['A', 'C']`** to select subsets of the original **`DataFrame`**."
   ]
  },
  {
   "cell_type": "code",
   "execution_count": null,
   "metadata": {},
   "outputs": [],
   "source": [
    "df = pd.DataFrame({'A': [1, 2, 3], 'B': [True, True, False],'C': [0.496714, -0.138264, 0.647689]},\n",
    "                  index=['i', 'ii', 'iii'])\n",
    "df"
   ]
  },
  {
   "cell_type": "code",
   "execution_count": null,
   "metadata": {
    "ExecuteTime": {
     "end_time": "2021-07-06T16:31:42.540108Z",
     "start_time": "2021-07-06T16:31:42.424873Z"
    }
   },
   "outputs": [],
   "source": [
    "# Single column, reduces to a Series\n",
    "df['A']"
   ]
  },
  {
   "cell_type": "code",
   "execution_count": null,
   "metadata": {
    "ExecuteTime": {
     "end_time": "2021-07-06T16:31:42.679754Z",
     "start_time": "2021-07-06T16:31:42.544013Z"
    }
   },
   "outputs": [],
   "source": [
    "cols = ['A', 'C']\n",
    "df[cols]"
   ]
  },
  {
   "cell_type": "markdown",
   "metadata": {},
   "source": [
    "For row-wise selection, use the special **`.loc`** accessor."
   ]
  },
  {
   "cell_type": "code",
   "execution_count": null,
   "metadata": {
    "ExecuteTime": {
     "end_time": "2021-07-06T16:31:42.803777Z",
     "start_time": "2021-07-06T16:31:42.686591Z"
    }
   },
   "outputs": [],
   "source": [
    "df.loc[['i', 'iii']]"
   ]
  },
  {
   "cell_type": "markdown",
   "metadata": {},
   "source": [
    "You can use ranges to select rows or columns."
   ]
  },
  {
   "cell_type": "code",
   "execution_count": null,
   "metadata": {
    "ExecuteTime": {
     "end_time": "2021-07-06T16:31:42.988833Z",
     "start_time": "2021-07-06T16:31:42.810616Z"
    }
   },
   "outputs": [],
   "source": [
    "df.loc['i':'iii']"
   ]
  },
  {
   "cell_type": "markdown",
   "metadata": {},
   "source": [
    "Sometimes, you'd rather slice by *position* instead of label. **`.iloc`** has you covered:"
   ]
  },
  {
   "cell_type": "code",
   "execution_count": null,
   "metadata": {
    "ExecuteTime": {
     "end_time": "2021-07-06T16:31:43.127996Z",
     "start_time": "2021-07-06T16:31:42.997624Z"
    }
   },
   "outputs": [],
   "source": [
    "df.iloc[[0, 1]]"
   ]
  },
  {
   "cell_type": "code",
   "execution_count": null,
   "metadata": {
    "ExecuteTime": {
     "end_time": "2021-07-06T16:31:43.268131Z",
     "start_time": "2021-07-06T16:31:43.131902Z"
    }
   },
   "outputs": [],
   "source": [
    "df.iloc[:2]"
   ]
  },
  {
   "cell_type": "markdown",
   "metadata": {},
   "source": [
    "This follows the usual python slicing rules: closed on the left, open on the right.\n",
    "\n",
    "As I mentioned, you can slice both rows and columns. Use **`.loc`** for label or **`.iloc`** for position indexing."
   ]
  },
  {
   "cell_type": "code",
   "execution_count": null,
   "metadata": {
    "ExecuteTime": {
     "end_time": "2021-07-06T16:31:43.407777Z",
     "start_time": "2021-07-06T16:31:43.275943Z"
    }
   },
   "outputs": [],
   "source": [
    "df.loc['ii', 'C']"
   ]
  },
  {
   "cell_type": "markdown",
   "metadata": {},
   "source": [
    "Pandas, like NumPy, will reduce dimensions when possible. Select a single column and you get back `Series` (see below). Select a single row and single column, you get a scalar.\n",
    "\n",
    "You can get pretty fancy:"
   ]
  },
  {
   "cell_type": "code",
   "execution_count": null,
   "metadata": {
    "ExecuteTime": {
     "end_time": "2021-07-06T16:31:43.532291Z",
     "start_time": "2021-07-06T16:31:43.411686Z"
    }
   },
   "outputs": [],
   "source": [
    "df.loc['i':'ii', ['A', 'C']]"
   ]
  },
  {
   "cell_type": "markdown",
   "metadata": {},
   "source": [
    "#### Summary\n",
    "\n",
    "- Use **`[]`** for selecting columns\n",
    "- Use **`.loc[row_lables, column_labels]`** for label-based indexing\n",
    "- Use **`.iloc[row_positions, column_positions]`** for positional index\n",
    "\n",
    "I've left out boolean and hierarchical indexing, which we'll see later."
   ]
  },
  {
   "cell_type": "markdown",
   "metadata": {},
   "source": [
    "---"
   ]
  },
  {
   "cell_type": "markdown",
   "metadata": {},
   "source": [
    "#### Series\n",
    "\n",
    "You've already seen some **Series** up above. It's the 1-dimensional analog of the DataFrame. Each column in a **DataFrame** is in some sense a **Series**. You can select a **Series** from a DataFrame in a few ways:"
   ]
  },
  {
   "cell_type": "code",
   "execution_count": null,
   "metadata": {
    "ExecuteTime": {
     "end_time": "2021-07-06T16:31:43.672914Z",
     "start_time": "2021-07-06T16:31:43.539127Z"
    }
   },
   "outputs": [],
   "source": [
    "# __getitem__ like before\n",
    "df['A']"
   ]
  },
  {
   "cell_type": "code",
   "execution_count": null,
   "metadata": {
    "ExecuteTime": {
     "end_time": "2021-07-06T16:31:43.800841Z",
     "start_time": "2021-07-06T16:31:43.680726Z"
    }
   },
   "outputs": [],
   "source": [
    "# .loc, like before\n",
    "df.loc[:, 'A']"
   ]
  },
  {
   "cell_type": "code",
   "execution_count": null,
   "metadata": {
    "ExecuteTime": {
     "end_time": "2021-07-06T16:31:43.893614Z",
     "start_time": "2021-07-06T16:31:43.807679Z"
    }
   },
   "outputs": [],
   "source": [
    "# using `.` attribute lookup\n",
    "df.A"
   ]
  },
  {
   "cell_type": "code",
   "execution_count": null,
   "metadata": {
    "ExecuteTime": {
     "end_time": "2021-07-06T16:31:44.407284Z",
     "start_time": "2021-07-06T16:31:44.265687Z"
    },
    "scrolled": true
   },
   "outputs": [],
   "source": [
    "# Create DataSeries:\n",
    "s = pd.Series([2, 4, 6, 8, 10])\n",
    "s"
   ]
  },
  {
   "cell_type": "markdown",
   "metadata": {},
   "source": [
    "**Series** share many of the same methods as **DataFrame**s."
   ]
  },
  {
   "cell_type": "markdown",
   "metadata": {},
   "source": [
    "---"
   ]
  },
  {
   "cell_type": "markdown",
   "metadata": {},
   "source": [
    "#### Note on Index\n",
    "\n",
    "**`Index`** are something of a peculiarity to pandas.\n",
    "\n",
    "First off, they are not the kind of indexes you'll find in SQL, which are used to help the engine speed up certain queries.\n",
    "\n",
    "In pandas, **`Index`** are about lables. This helps with selection (like we did above) and automatic alignment when performing operations between two **DataFrames** or **Series**.\n",
    "\n",
    "R does have row labels, but they're nowhere near as powerful (or complicated) as in pandas. You can access the index of a **DataFrame** or **Series** with the **`.index`** attribute.\n",
    "\n",
    "There are special kinds of `Index`es that you'll come across. Some of these are\n",
    "\n",
    "- **`MultiIndex`** for multidimensional (Hierarchical) labels\n",
    "- **`DatetimeIndex`** for datetimes\n",
    "- **`Float64Index`** for floats\n",
    "- **`CategoricalIndex`** for, you guessed it, **Categoricals**"
   ]
  },
  {
   "cell_type": "markdown",
   "metadata": {},
   "source": [
    "---"
   ]
  },
  {
   "cell_type": "markdown",
   "metadata": {},
   "source": [
    "<div style='color:gray; font-size:14pt'> \n",
    "Dataframe from CSV\n",
    "</div>"
   ]
  },
  {
   "cell_type": "markdown",
   "metadata": {},
   "source": [
    "In the field of Data Science, **[CSV]** files are used to store large datasets. To efficiently analyze such datasets, we need to convert them into pandas DataFrame.\n",
    "\n",
    "To create a DataFrame from CSV, we use the **`read_csv('file_name')`** function that takes the file name as input and returns DataFrame as output."
   ]
  },
  {
   "cell_type": "markdown",
   "metadata": {},
   "source": [
    "#### Example 1"
   ]
  },
  {
   "cell_type": "code",
   "execution_count": null,
   "metadata": {},
   "outputs": [],
   "source": [
    "data1 = pd.read_csv(\"data/sample.csv\")\n",
    "data1"
   ]
  },
  {
   "cell_type": "code",
   "execution_count": null,
   "metadata": {},
   "outputs": [],
   "source": [
    "type(data1)"
   ]
  },
  {
   "cell_type": "code",
   "execution_count": null,
   "metadata": {},
   "outputs": [],
   "source": [
    "data1.iloc[:,2]"
   ]
  },
  {
   "cell_type": "markdown",
   "metadata": {},
   "source": [
    "---"
   ]
  },
  {
   "cell_type": "markdown",
   "metadata": {},
   "source": [
    "#### DataFrame metadata\n",
    "\n",
    "Sometimes we need to get metadata of the DataFrame and not the content inside it. Such metadata information is useful to understand the DataFrame as it gives more details about the DataFrame that we need to process.\n",
    "\n",
    "In this section, we cover the functions which provide such information of the DataFrame.\n",
    "\n",
    "**`DataFrame.info()`** is a function of DataFrame that gives metadata of DataFrame. Which includes,\n",
    "\n",
    "* Number of rows and its range of index\n",
    "* Total number of columns\n",
    "* List of columns\n",
    "* Count of the total number of non-null values in the column\n",
    "* Data type of column\n",
    "* Count of columns in each data type\n",
    "* Memory usage by the DataFrame"
   ]
  },
  {
   "cell_type": "code",
   "execution_count": null,
   "metadata": {},
   "outputs": [],
   "source": [
    "data1.info()"
   ]
  },
  {
   "cell_type": "markdown",
   "metadata": {},
   "source": [
    "---"
   ]
  },
  {
   "cell_type": "markdown",
   "metadata": {},
   "source": [
    "#### DataFrame statistics\n",
    "\n",
    "**`DataFrame.describe()`** is a function that gives mathematical statistics of the data in DataFrame. But, it applies to the columns that contain numeric values.\n",
    "\n",
    "In our example of data1 DataFrame, it gives descriptive statistics of **'age'** and **'id'** columns only, that includes:\n",
    "\n",
    "1. **count**: Total number of non-null values in the column\n",
    "2. **mean**: an average of numbers\n",
    "3. **std**: a standard deviation value\n",
    "4. **min**: minimum value\n",
    "5. **25%**: 25th percentile\n",
    "6. **50%**: 50th percentile\n",
    "7. **75%**: 75th percentile\n",
    "8. **max**: maximum value\n",
    "\n",
    ">**Note:** Output of **`DataFrame.describe()`** function varies depending on the input DataFrame."
   ]
  },
  {
   "cell_type": "code",
   "execution_count": null,
   "metadata": {},
   "outputs": [],
   "source": [
    "data1.describe()"
   ]
  },
  {
   "cell_type": "markdown",
   "metadata": {},
   "source": [
    "---"
   ]
  },
  {
   "cell_type": "markdown",
   "metadata": {},
   "source": [
    "#### DataFrame attributes\n",
    "\n",
    "DataFrame has provided many built-in attributes. Attributes do not modify the underlying data, unlike functions, but it is used to get more details about the DataFrame.\n",
    "\n",
    "Following are majorly used attributes of the DataFrame:\n",
    "\n",
    "| Attribute | Description |\n",
    "|:---- |:---- |\n",
    "| **`DataFrame.index`**   | **It gives the Range of the row index** | \n",
    "| **`DataFrame.columns`** | **It gives a list of column labels** |\n",
    "| **`DataFrame.dtypes`**  | **It gives column names and their data type** | \n",
    "| **`DataFrame.values`**  | **It gives all the rows in DataFrame** |\n",
    "| **`DataFrame.empty`**   | **It is used to check if the DataFrame is empty** | \n",
    "| **`DataFrame.size`**    | **It gives a total number of values in DataFrame** |\n",
    "| **`DataFrame.shape`**   | **It a number of rows and columns in DataFrame** | "
   ]
  },
  {
   "cell_type": "code",
   "execution_count": null,
   "metadata": {},
   "outputs": [],
   "source": [
    "# Create DataFrame from dict\n",
    "student_dict = {'Name': ['Joe', 'Nat', 'Harry'], 'Age': [20, 21, 19], 'Marks': [85.10, 77.80, 91.54]}\n",
    "student_df = pd.DataFrame(student_dict)\n",
    "student_df"
   ]
  },
  {
   "cell_type": "code",
   "execution_count": null,
   "metadata": {},
   "outputs": [],
   "source": [
    "print(\"DataFrame Index : \", student_df.index, \"\\n\")\n",
    "print(\"DataFrame Columns : \", student_df.columns, \"\\n\")\n",
    "\n",
    "print(\"DataFrame Column types : \\n\", student_df.dtypes, \"\\n\")\n",
    "\n",
    "print(\"DataFrame is empty? : \", student_df.empty, \"\\n\")\n",
    "\n",
    "print(\"DataFrame Shape : \", student_df.shape, \"\\n\")\n",
    "print(\"DataFrame Size : \", student_df.size, \"\\n\")\n",
    "\n",
    "print(\"DataFrame Values : \\n\", student_df.values, \"\\n\")"
   ]
  },
  {
   "cell_type": "markdown",
   "metadata": {},
   "source": [
    "---"
   ]
  },
  {
   "cell_type": "markdown",
   "metadata": {},
   "source": [
    "#### DataFrame selection \n",
    "\n",
    "While dealing with the vast data in DataFrame, a data analyst always needs to select a particular row or column for the analysis. In such cases, functions that can choose a set of rows or columns like top rows, bottom rows, or data within an index range play a significant role.\n",
    "\n",
    "Following are the functions that help in selecting the subset of the DataFrame:\n",
    "\n",
    "| Attribute | Description |\n",
    "|:---- |:---- |\n",
    "| **`DataFrame.head(n)`**  | **It is used to select top ‘n’ rows in DataFrame.** | \n",
    "| **`DataFrame.tail(n)`**  | **It is used to select bottom ‘n’ rows in DataFrame.** | \n",
    "| **`DataFrame.at`**       | **It is used to get and set the particular value of DataFrame using row and column labels.** | \n",
    "| **`DataFrame.iat`**      | **It is used to get and set the particular value of DataFrame using row and column index positions.** | \n",
    "| **`DataFrame.get(key)`** | **It is used to get the value of a key in DataFrame where Key is the column name.** | \n",
    "| **`DataFrame.loc()`**    | **It is used to select a group of data based on the row and column labels. It is used for slicing and filtering of the DataFrame.** | \n",
    "| **`DataFrame.iloc()`**   | **It is used to select a group of data based on the row and column index position. Use it for slicing and filtering the DataFrame.** | "
   ]
  },
  {
   "cell_type": "code",
   "execution_count": null,
   "metadata": {},
   "outputs": [],
   "source": [
    "# Create DataFrame from dict\n",
    "student_dict = {'Name': ['Joe', 'Nat', 'Harry'], 'Age': [20, 21, 19], 'Marks': [85.10, 77.80, 91.54]}\n",
    "student_df = pd.DataFrame(student_dict)\n",
    "student_df"
   ]
  },
  {
   "cell_type": "code",
   "execution_count": null,
   "metadata": {},
   "outputs": [],
   "source": [
    "# select top 2 rows\n",
    "student_df.head(2)"
   ]
  },
  {
   "cell_type": "code",
   "execution_count": null,
   "metadata": {},
   "outputs": [],
   "source": [
    "# select bottom 2 rows\n",
    "student_df.tail(2)"
   ]
  },
  {
   "cell_type": "code",
   "execution_count": null,
   "metadata": {},
   "outputs": [],
   "source": [
    "# select value at row index 0 and column 'Name'\n",
    "student_df.at[0, 'Name']"
   ]
  },
  {
   "cell_type": "code",
   "execution_count": null,
   "metadata": {},
   "outputs": [],
   "source": [
    "# select value at first row and first column\n",
    "student_df.iat[0, 0]"
   ]
  },
  {
   "cell_type": "code",
   "execution_count": null,
   "metadata": {},
   "outputs": [],
   "source": [
    "# select values of 'Name' column\n",
    "student_df.get('Name')"
   ]
  },
  {
   "cell_type": "code",
   "execution_count": null,
   "metadata": {},
   "outputs": [],
   "source": [
    "# select values from row index 0 to 2 and 'Name' column\n",
    "student_df.loc[0:2, ['Name']]"
   ]
  },
  {
   "cell_type": "code",
   "execution_count": null,
   "metadata": {},
   "outputs": [],
   "source": [
    "# select values from row index 0 to 2(exclusive) and column position 0 to 2(exclusive)\n",
    "student_df.iloc[0:2, 0:2]"
   ]
  },
  {
   "cell_type": "markdown",
   "metadata": {},
   "source": [
    "---"
   ]
  },
  {
   "cell_type": "markdown",
   "metadata": {},
   "source": [
    "#### DataFrame modification\n",
    "\n",
    "DataFrame is similar to any excel sheet or a database table where we need to insert new data or drop columns and rows if not required. Such data manipulation operations are very common on a DataFrame.\n",
    "\n",
    "In this section, we discuss the data manipulation functions of the DataFrame."
   ]
  },
  {
   "cell_type": "markdown",
   "metadata": {},
   "source": [
    "#### Insert columns\n",
    "\n",
    "Sometimes it is required to add a new column in the DataFrame. **`DataFrame.insert()`** function is used to insert a new column in DataFrame at the specified position.\n",
    "\n",
    "In the below example, we insert a new column **'Class'** as a third new column in the DataFrame with default value ‘**A**’ using the syntax:\n",
    "\n",
    "```python\n",
    "df.insert(loc = col_position, column = new_col_name, value = default_value)\n",
    "```"
   ]
  },
  {
   "cell_type": "code",
   "execution_count": null,
   "metadata": {
    "ExecuteTime": {
     "end_time": "2021-07-06T16:31:46.451221Z",
     "start_time": "2021-07-06T16:31:46.365288Z"
    },
    "scrolled": true
   },
   "outputs": [],
   "source": [
    "student_dict = {'Name': ['Joe', 'Nat', 'Harry'], 'Age': [20, 21, 19], 'Marks': [85.10, 77.80, 91.54]}\n",
    "student_df = pd.DataFrame(student_dict)\n",
    "student_df"
   ]
  },
  {
   "cell_type": "code",
   "execution_count": null,
   "metadata": {},
   "outputs": [],
   "source": [
    "# insert new column in dataframe and display\n",
    "student_df.insert(loc=2, column=\"Class\", value='A')\n",
    "student_df"
   ]
  },
  {
   "cell_type": "markdown",
   "metadata": {},
   "source": [
    "#### Drop columns\n",
    "\n",
    "DataFrame may contain redundant data, in such cases, we may need to delete such data that is not required. **`DataFrame.drop()`** function is used to **delete the columns from DataFrame**."
   ]
  },
  {
   "cell_type": "markdown",
   "metadata": {},
   "source": [
    "In the below example, we delete the “**Age**” column from the student DataFrame using **`df.drop(columns=[col1,col2...])`**."
   ]
  },
  {
   "cell_type": "code",
   "execution_count": null,
   "metadata": {
    "ExecuteTime": {
     "end_time": "2021-07-06T16:31:46.716357Z",
     "start_time": "2021-07-06T16:31:46.455127Z"
    }
   },
   "outputs": [],
   "source": [
    "student_dict = {'Name': ['Joe', 'Nat', 'Harry'], 'Age': [20, 21, 19], 'Marks': [85.10, 77.80, 91.54]}\n",
    "student_df = pd.DataFrame(student_dict)\n",
    "student_df"
   ]
  },
  {
   "cell_type": "code",
   "execution_count": null,
   "metadata": {},
   "outputs": [],
   "source": [
    "# delete column from dataframe\n",
    "student_df = student_df.drop(columns='Age')\n",
    "student_df"
   ]
  },
  {
   "cell_type": "markdown",
   "metadata": {},
   "source": [
    "#### Apply condition\n",
    "\n",
    "We may need to update the value in the DataFrame based on some condition. **`DataFrame.where() `**function is used to replace the value of DataFrame, where the condition is **`False`**.\n",
    "\n",
    "**Syntax:**\n",
    "```python\n",
    "where(filter, other=new_value)\n",
    "```\n",
    "\n",
    "It applies the filter condition on all the rows in the DataFrame, as follows:\n",
    "\n",
    "* If the filter condition returns **`False`**, then it updates the row with the value specified in **`other`** parameter.\n",
    "* If the filter condition returns **`True`**, then it does not update the row."
   ]
  },
  {
   "cell_type": "markdown",
   "metadata": {},
   "source": [
    "In the below example, we want to replace the student marks with ‘0’ where marks are less than 80. We pass a filter condition **`df['Marks'] > 80`** to the function."
   ]
  },
  {
   "cell_type": "code",
   "execution_count": null,
   "metadata": {
    "ExecuteTime": {
     "end_time": "2021-07-06T16:31:47.244185Z",
     "start_time": "2021-07-06T16:31:46.719287Z"
    },
    "scrolled": true
   },
   "outputs": [],
   "source": [
    "student_dict = {'Name': ['Joe', 'Nat', 'Harry'], 'Age': [20, 21, 19], 'Marks': [85.10, 77.80, 91.54]}\n",
    "student_df = pd.DataFrame(student_dict)\n",
    "student_df"
   ]
  },
  {
   "cell_type": "code",
   "execution_count": null,
   "metadata": {},
   "outputs": [],
   "source": [
    "# Define filter condition\n",
    "filter = student_df['Marks'] > 80\n",
    "student_df['Marks'].where(filter, other=0, inplace=True)\n",
    "student_df"
   ]
  },
  {
   "cell_type": "markdown",
   "metadata": {},
   "source": [
    "#### DataFrame filter columns\n",
    "\n",
    "Datasets contain massive data that need to be analyzed. But, sometimes, we may want to analyze relevant data and filter out all the other data. In such a case, we can use **`DataFrame.filter() `** function to fetch only required data from DataFrame.\n",
    "\n",
    "It returns the subset of the DataFrame by applying conditions on each row index or column label as specified using the below syntax.\n",
    "\n",
    "**Syntax:**\n",
    "```python\n",
    "df.filter(like = filter_cond, axis = 'columns' or 'index')\n",
    "```"
   ]
  },
  {
   "cell_type": "markdown",
   "metadata": {},
   "source": [
    "It applies the condition on each row index or column label.\n",
    "\n",
    "* If the condition passed then, it includes that row or column in the resultant DataFrame.\n",
    "* If the condition failed, then it does not have that row or column in the resulting DataFrame.\n",
    "\n",
    ">**Note:** It applies the filter on row index or column label, not on actual data."
   ]
  },
  {
   "cell_type": "markdown",
   "metadata": {},
   "source": [
    "In the below example, we only include the column with a column label that starts with ‘**N**’."
   ]
  },
  {
   "cell_type": "code",
   "execution_count": null,
   "metadata": {
    "ExecuteTime": {
     "end_time": "2021-07-06T16:31:47.310591Z",
     "start_time": "2021-07-06T16:31:47.264696Z"
    },
    "scrolled": true
   },
   "outputs": [],
   "source": [
    "student_dict = {'Name': ['Joe', 'Nat', 'Harry'], 'Age': [20, 21, 19], 'Marks': [85.10, 77.80, 91.54]}\n",
    "student_df = pd.DataFrame(student_dict)\n",
    "student_df"
   ]
  },
  {
   "cell_type": "code",
   "execution_count": null,
   "metadata": {},
   "outputs": [],
   "source": [
    "# apply filter on dataframe\n",
    "student_df = student_df.filter(like='N', axis='columns')\n",
    "student_df"
   ]
  },
  {
   "cell_type": "markdown",
   "metadata": {},
   "source": [
    "#### DataFrame rename columns\n",
    "\n",
    "While working with DataFrame, we may need to **rename the column** or row index. We can use **`DataFrame.rename()`** function to alter the row or column labels.\n",
    "\n",
    "We need to pass a dictionary of key-value pairs as input to the function. Where key of the **`dict`** is the existing column label, and the value of **`dict`** is the new column label.\n",
    "\n",
    "```python\n",
    "df.rename(columns = {'old':'new'})\n",
    "```\n",
    "\n",
    "It can be used to rename single or multiple columns and row labels."
   ]
  },
  {
   "cell_type": "markdown",
   "metadata": {},
   "source": [
    "In the below example, we rename column '**Marks**' to '**Percentage**' in the student DataFrame."
   ]
  },
  {
   "cell_type": "code",
   "execution_count": null,
   "metadata": {
    "ExecuteTime": {
     "end_time": "2021-07-06T16:31:47.430221Z",
     "start_time": "2021-07-06T16:31:47.316454Z"
    }
   },
   "outputs": [],
   "source": [
    "student_dict = {'Name': ['Joe', 'Nat', 'Harry'], 'Age': [20, 21, 19], 'Marks': [85.10, 77.80, 91.54]}\n",
    "student_df = pd.DataFrame(student_dict)\n",
    "student_df"
   ]
  },
  {
   "cell_type": "code",
   "execution_count": null,
   "metadata": {},
   "outputs": [],
   "source": [
    "# rename column\n",
    "student_df = student_df.rename(columns={'Marks': 'Percentage'})\n",
    "student_df"
   ]
  },
  {
   "cell_type": "markdown",
   "metadata": {},
   "source": [
    "#### DataFrame Join & Merge\n",
    "\n",
    "In most of the use cases of Data Analytics, data gathered from multiple sources, and we need to combine that data for further analysis. In such instances, join and merge operations are required.\n",
    "\n",
    "**`DataFrame.join()`** function is used to join one DataFrame with another DataFrame as **`df1.join(df2)`**"
   ]
  },
  {
   "cell_type": "markdown",
   "metadata": {},
   "source": [
    "In the below example, we joined two different DataFrames to create a new resultant DataFrame."
   ]
  },
  {
   "cell_type": "code",
   "execution_count": null,
   "metadata": {
    "ExecuteTime": {
     "end_time": "2021-07-06T16:31:47.608934Z",
     "start_time": "2021-07-06T16:31:47.442917Z"
    }
   },
   "outputs": [],
   "source": [
    "student_dict = {'Name': ['Joe', 'Nat'], 'Age': [20, 21]}\n",
    "student_df = pd.DataFrame(student_dict)\n",
    "student_df"
   ]
  },
  {
   "cell_type": "code",
   "execution_count": null,
   "metadata": {},
   "outputs": [],
   "source": [
    "marks_dict = {'Marks': [85.10, 77.80]}\n",
    "marks_df = pd.DataFrame(marks_dict)\n",
    "marks_df"
   ]
  },
  {
   "cell_type": "code",
   "execution_count": null,
   "metadata": {},
   "outputs": [],
   "source": [
    "joined_df = student_df.join(marks_df)\n",
    "joined_df"
   ]
  },
  {
   "cell_type": "markdown",
   "metadata": {},
   "source": [
    "**`pandas.merge()`** function is used to update the content of one DataFrame with the content from another DataFrame:"
   ]
  },
  {
   "cell_type": "code",
   "execution_count": null,
   "metadata": {},
   "outputs": [],
   "source": [
    "student_dict = {'Name': ['Joe', 'Nat', 'Davis'], 'Age': [20, 21, 23]}\n",
    "student_df_part1 = pd.DataFrame(student_dict)\n",
    "student_df_part1"
   ]
  },
  {
   "cell_type": "code",
   "execution_count": null,
   "metadata": {},
   "outputs": [],
   "source": [
    "student_dict = {'Name': ['Joe', 'Nat','Alice'], 'Marks': [85.10, 77.80, 90.00]}\n",
    "student_df_part2 = pd.DataFrame(student_dict)\n",
    "student_df_part2"
   ]
  },
  {
   "cell_type": "code",
   "execution_count": null,
   "metadata": {},
   "outputs": [],
   "source": [
    "pd.merge(student_df_part1, student_df_part2, how='left', on='Name')"
   ]
  },
  {
   "cell_type": "code",
   "execution_count": null,
   "metadata": {},
   "outputs": [],
   "source": [
    "pd.merge(student_df_part1, student_df_part2, how='right', on='Name')"
   ]
  },
  {
   "cell_type": "code",
   "execution_count": null,
   "metadata": {},
   "outputs": [],
   "source": [
    "pd.merge(student_df_part1, student_df_part2, how='inner', on='Name')"
   ]
  },
  {
   "cell_type": "markdown",
   "metadata": {},
   "source": [
    "#### DataFrame GroupBy\n",
    "\n",
    "**`GroupBy`** operation means splitting the data and then combining them based on some condition. Large data can be divided into logical groups to analyze it.\n",
    "\n",
    "**`DataFrame.groupby()`** function groups the DataFrame row-wise or column-wise based on the condition."
   ]
  },
  {
   "cell_type": "markdown",
   "metadata": {},
   "source": [
    "If we want to analyze each class’s average marks, we need to combine the student data based on the ‘Class’ column and calculate its average using **`df.groupby(col_label).mean()`** as shown in the below example."
   ]
  },
  {
   "cell_type": "code",
   "execution_count": null,
   "metadata": {
    "ExecuteTime": {
     "end_time": "2021-07-06T16:31:47.771530Z",
     "start_time": "2021-07-06T16:31:47.625535Z"
    }
   },
   "outputs": [],
   "source": [
    "student_dict = {'Name': ['Joe', 'Nat', 'Harry'], 'Class': ['A', 'B', 'A'], 'Marks': [85.10, 77.80, 91.54]}\n",
    "student_df = pd.DataFrame(student_dict)\n",
    "student_df"
   ]
  },
  {
   "cell_type": "code",
   "execution_count": null,
   "metadata": {},
   "outputs": [],
   "source": [
    "# apply group by \n",
    "student_df = student_df.groupby('Class').mean()\n",
    "student_df"
   ]
  },
  {
   "cell_type": "code",
   "execution_count": null,
   "metadata": {},
   "outputs": [],
   "source": [
    "student_df.reset_index()"
   ]
  },
  {
   "cell_type": "markdown",
   "metadata": {},
   "source": [
    "#### DataFrame Iteration\n",
    "\n",
    "DataFrame iteration means visiting each element in the DataFrame one by one. While analyzing a DataFrame, we may need to iterate over each row of the DataFrame.\n",
    "\n",
    "There are multiple ways to iterate a DataFrame. We will see the function **`DataFrame.iterrows()`**, which can loop a DataFrame row-wise. It returns the index and row of the DataFrame in each iteration of the for a loop."
   ]
  },
  {
   "cell_type": "code",
   "execution_count": null,
   "metadata": {
    "ExecuteTime": {
     "end_time": "2021-07-06T16:31:47.879924Z",
     "start_time": "2021-07-06T16:31:47.774458Z"
    }
   },
   "outputs": [],
   "source": [
    "student_dict = {'Name': ['Joe', 'Nat'], 'Age': [20, 21], 'Marks': [85, 77]}\n",
    "student_df = pd.DataFrame(student_dict)\n",
    "student_df"
   ]
  },
  {
   "cell_type": "code",
   "execution_count": null,
   "metadata": {},
   "outputs": [],
   "source": [
    "# Iterate all the rows of DataFrame\n",
    "for index, row in student_df.iterrows():\n",
    "    print(index, row, \"\\n\")"
   ]
  },
  {
   "cell_type": "markdown",
   "metadata": {},
   "source": [
    "#### DataFrame Sorting\n",
    "\n",
    "Data Analyst always needs to perform different operations on the underlying data like merge, sort, concatenate, etc. The most frequently used operation is the sorting of data. Sorted data becomes easy to analyze and inferred.\n",
    "\n",
    "The **`DataFrame.sort_values()`** function is used to sort the DataFrame using one or more columns in ascending (default) or descending order."
   ]
  },
  {
   "cell_type": "markdown",
   "metadata": {},
   "source": [
    "In the below example, we sort the student data based on the '**Marks**'."
   ]
  },
  {
   "cell_type": "code",
   "execution_count": null,
   "metadata": {
    "ExecuteTime": {
     "end_time": "2021-07-06T16:31:48.006395Z",
     "start_time": "2021-07-06T16:31:47.884810Z"
    }
   },
   "outputs": [],
   "source": [
    "student_dict = {'Name': ['Joe', 'Nat', 'Harry'], 'Age': [20, 21, 19], 'Marks': [85.10, 77.80, 91.54]}\n",
    "student_df = pd.DataFrame(student_dict)\n",
    "student_df"
   ]
  },
  {
   "cell_type": "code",
   "execution_count": null,
   "metadata": {},
   "outputs": [],
   "source": [
    "# rename column\n",
    "student_df = student_df.sort_values(by=['Marks'])\n",
    "student_df"
   ]
  },
  {
   "cell_type": "markdown",
   "metadata": {},
   "source": [
    "#### DataFrame conversion\n",
    "\n",
    "After all the processing on DataFrame, we will get the expected data in the DataFrame. But, we may require to convert the DataFrame back to its original formats like CSV file or **`dict`**, or we may need to convert it to another format for further action like storing it into the Database as SQL table format.\n",
    "\n",
    "Pandas have provided plenty of functions to convert the DataFrames into many different formats."
   ]
  },
  {
   "cell_type": "markdown",
   "metadata": {},
   "source": [
    "For example, **`DataFrame.to_dict()`** function is used to converts the **DataFrame into a Python dictionary object.\n",
    "\n",
    "Below is the example of a DataFrame which we need to convert into the Python **`dict`**."
   ]
  },
  {
   "cell_type": "markdown",
   "metadata": {},
   "source": [
    "Let’s see how we can use **`DataFrame.to_dict()`** function to convert the DataFrame into the Python dictionary. By default, it creates the dictionary with keys as column labels and values as mapping of the row index and data."
   ]
  },
  {
   "cell_type": "code",
   "execution_count": null,
   "metadata": {
    "ExecuteTime": {
     "end_time": "2021-07-06T16:31:48.131391Z",
     "start_time": "2021-07-06T16:31:48.014205Z"
    }
   },
   "outputs": [],
   "source": [
    "# convert dataframe to dict\n",
    "dict = student_df.to_dict()\n",
    "print(dict)"
   ]
  },
  {
   "cell_type": "markdown",
   "metadata": {},
   "source": [
    "---"
   ]
  },
  {
   "cell_type": "code",
   "execution_count": null,
   "metadata": {},
   "outputs": [],
   "source": []
  }
 ],
 "metadata": {
  "kernelspec": {
   "display_name": "Python 3 (ipykernel)",
   "language": "python",
   "name": "python3"
  },
  "language_info": {
   "codemirror_mode": {
    "name": "ipython",
    "version": 3
   },
   "file_extension": ".py",
   "mimetype": "text/x-python",
   "name": "python",
   "nbconvert_exporter": "python",
   "pygments_lexer": "ipython3",
   "version": "3.11.5"
  },
  "toc": {
   "base_numbering": 1,
   "nav_menu": {},
   "number_sections": true,
   "sideBar": true,
   "skip_h1_title": false,
   "title_cell": "Table of Contents",
   "title_sidebar": "Contents",
   "toc_cell": false,
   "toc_position": {},
   "toc_section_display": true,
   "toc_window_display": false
  }
 },
 "nbformat": 4,
 "nbformat_minor": 4
}
